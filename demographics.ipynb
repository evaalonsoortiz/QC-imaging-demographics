{
 "cells": [
  {
   "cell_type": "code",
   "execution_count": 8,
   "id": "34a0e620-5b4f-487c-8c6f-b415a9a72ed1",
   "metadata": {},
   "outputs": [
    {
     "ename": "ModuleNotFoundError",
     "evalue": "No module named 'geopandas'",
     "output_type": "error",
     "traceback": [
      "\u001b[0;31m---------------------------------------------------------------------------\u001b[0m",
      "\u001b[0;31mModuleNotFoundError\u001b[0m                       Traceback (most recent call last)",
      "Cell \u001b[0;32mIn[8], line 16\u001b[0m\n\u001b[1;32m     14\u001b[0m \u001b[38;5;28;01mfrom\u001b[39;00m \u001b[38;5;21;01mscipy\u001b[39;00m\u001b[38;5;21;01m.\u001b[39;00m\u001b[38;5;21;01mndimage\u001b[39;00m \u001b[38;5;28;01mimport\u001b[39;00m uniform_filter1d\n\u001b[1;32m     15\u001b[0m \u001b[38;5;28;01mfrom\u001b[39;00m \u001b[38;5;21;01mpathlib\u001b[39;00m \u001b[38;5;28;01mimport\u001b[39;00m Path\n\u001b[0;32m---> 16\u001b[0m \u001b[38;5;28;01mimport\u001b[39;00m \u001b[38;5;21;01mgeopandas\u001b[39;00m\n\u001b[1;32m     18\u001b[0m get_ipython()\u001b[38;5;241m.\u001b[39mrun_line_magic(\u001b[38;5;124m'\u001b[39m\u001b[38;5;124mmatplotlib\u001b[39m\u001b[38;5;124m'\u001b[39m, \u001b[38;5;124m'\u001b[39m\u001b[38;5;124minline\u001b[39m\u001b[38;5;124m'\u001b[39m)\n",
      "\u001b[0;31mModuleNotFoundError\u001b[0m: No module named 'geopandas'"
     ]
    }
   ],
   "source": [
    "# Imports\n",
    "from datetime import datetime, timedelta\n",
    "import os\n",
    "import json\n",
    "import glob\n",
    "import matplotlib.pyplot as plt\n",
    "import numpy as np\n",
    "import nibabel as nib\n",
    "import pandas as pd\n",
    "from scipy.stats import iqr\n",
    "import shutil\n",
    "import zipfile\n",
    "from scipy.interpolate import interp1d\n",
    "from scipy.ndimage import uniform_filter1d\n",
    "from pathlib import Path\n",
    "import geopandas\n",
    "\n",
    "%matplotlib inline\n"
   ]
  },
  {
   "cell_type": "code",
   "execution_count": 3,
   "id": "c03390ad-0987-4465-a484-1e2272c25966",
   "metadata": {},
   "outputs": [],
   "source": [
    "# load data\n",
    "path_data = os.path.join(os.getcwd(), \"data/\")\n",
    "fname_data = os.path.join(path_data, f\"data.csv\")\n",
    "df_data = pd.read_csv(fname_data)\n",
    "\n",
    "# sort\n",
    "location = df_data[\"Geographical location\"].values\n",
    "PET_participants = df_data[\"PET participants\"].values\n",
    "MRI_participants = df_data[\"MRI participants\"].values\n",
    "avg_age = df_data[\"Average Age (Years)\"].values\n",
    "male_participants = df_data[\"Male\"].values\n",
    "female_participants = df_data[\"Female\"].values\n",
    "caucasian_participants = df_data[\"Caucasian\"].values\n",
    "AfAm_participants = df_data[\"African-American\"].values\n",
    "asian_participants = df_data[\"Asian\"].values\n",
    "other_participants = df_data[\"Other\"].values\n",
    "NA_participants = df_data[\"Not specified\"].values\n",
    "AsA_participants = df_data[\"Asian American\"].values\n",
    "midE_participants = df_data[\"Middle Eastern\"].values\n",
    "carribean_participants = df_data[\"Carribean\"].values\n",
    "jewish_participants = df_data[\"Jewish\"].values\n",
    "CauHisp_participants = df_data[\"Caucasian-Hispanic\"].values\n"
   ]
  },
  {
   "cell_type": "code",
   "execution_count": 7,
   "id": "0855f956-8666-47d4-bc96-663a4dbb1e12",
   "metadata": {},
   "outputs": [
    {
     "ename": "ModuleNotFoundError",
     "evalue": "No module named 'geopandas'",
     "output_type": "error",
     "traceback": [
      "\u001b[0;31m---------------------------------------------------------------------------\u001b[0m",
      "\u001b[0;31mModuleNotFoundError\u001b[0m                       Traceback (most recent call last)",
      "Cell \u001b[0;32mIn[7], line 1\u001b[0m\n\u001b[0;32m----> 1\u001b[0m \u001b[38;5;28;01mimport\u001b[39;00m \u001b[38;5;21;01mgeopandas\u001b[39;00m\n\u001b[1;32m      3\u001b[0m cities \u001b[38;5;241m=\u001b[39m geopandas\u001b[38;5;241m.\u001b[39mread_file(geopandas\u001b[38;5;241m.\u001b[39mdatasets\u001b[38;5;241m.\u001b[39mget_path(\u001b[38;5;124m'\u001b[39m\u001b[38;5;124mnaturalearth_cities\u001b[39m\u001b[38;5;124m'\u001b[39m))\n\u001b[1;32m      4\u001b[0m \u001b[38;5;66;03m# adding a column with random values for the size\u001b[39;00m\n",
      "\u001b[0;31mModuleNotFoundError\u001b[0m: No module named 'geopandas'"
     ]
    }
   ],
   "source": [
    "import geopandas\n",
    "\n",
    "cities = geopandas.read_file(geopandas.datasets.get_path('naturalearth_cities'))\n",
    "# adding a column with random values for the size\n",
    "cities['values'] = np.abs(np.random.randn(len(cities))) * 50\n",
    "\n",
    "cities.plot(markersize=cities['values'])"
   ]
  },
  {
   "cell_type": "code",
   "execution_count": null,
   "id": "6f60fc00-0d34-4621-8488-76bdac86d8b1",
   "metadata": {},
   "outputs": [],
   "source": []
  }
 ],
 "metadata": {
  "kernelspec": {
   "display_name": "Python 3 (ipykernel)",
   "language": "python",
   "name": "python3"
  },
  "language_info": {
   "codemirror_mode": {
    "name": "ipython",
    "version": 3
   },
   "file_extension": ".py",
   "mimetype": "text/x-python",
   "name": "python",
   "nbconvert_exporter": "python",
   "pygments_lexer": "ipython3",
   "version": "3.11.6"
  }
 },
 "nbformat": 4,
 "nbformat_minor": 5
}

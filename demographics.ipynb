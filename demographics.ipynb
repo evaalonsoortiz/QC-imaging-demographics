{
 "cells": [
  {
   "cell_type": "code",
   "execution_count": 140,
   "id": "34a0e620-5b4f-487c-8c6f-b415a9a72ed1",
   "metadata": {
    "ExecuteTime": {
     "end_time": "2024-11-12T13:47:09.478082Z",
     "start_time": "2024-11-12T13:47:08.883565Z"
    }
   },
   "outputs": [],
   "source": [
    "# Imports\n",
    "from datetime import datetime, timedelta\n",
    "import os\n",
    "import json\n",
    "import glob\n",
    "import matplotlib.pyplot as plt\n",
    "import numpy as np\n",
    "import nibabel as nib\n",
    "import pandas as pd\n",
    "from scipy.stats import iqr\n",
    "import shutil\n",
    "import zipfile\n",
    "from scipy.interpolate import interp1d\n",
    "from scipy.ndimage import uniform_filter1d\n",
    "from pathlib import Path\n",
    "import plotly.express as px\n",
    "import geopandas as gpd\n",
    "import pyproj\n",
    "import seaborn as sns\n",
    "\n",
    "%matplotlib inline\n"
   ]
  },
  {
   "cell_type": "code",
   "execution_count": 143,
   "id": "c03390ad-0987-4465-a484-1e2272c25966",
   "metadata": {
    "ExecuteTime": {
     "end_time": "2024-11-12T14:15:34.727872Z",
     "start_time": "2024-11-12T14:15:34.708567Z"
    }
   },
   "outputs": [
    {
     "name": "stderr",
     "output_type": "stream",
     "text": [
      "/var/folders/_v/nrvjqjyn7mz71bfx98vtg58w0000gn/T/ipykernel_58971/2427550238.py:19: FutureWarning:\n",
      "\n",
      "A value is trying to be set on a copy of a DataFrame or Series through chained assignment using an inplace method.\n",
      "The behavior will change in pandas 3.0. This inplace method will never work because the intermediate object on which we are setting values always behaves as a copy.\n",
      "\n",
      "For example, when doing 'df[col].method(value, inplace=True)', try using 'df.method({col: value}, inplace=True)' or df[col] = df[col].method(value) instead, to perform the operation inplace on the original object.\n",
      "\n",
      "\n",
      "\n",
      "/var/folders/_v/nrvjqjyn7mz71bfx98vtg58w0000gn/T/ipykernel_58971/2427550238.py:20: FutureWarning:\n",
      "\n",
      "A value is trying to be set on a copy of a DataFrame or Series through chained assignment using an inplace method.\n",
      "The behavior will change in pandas 3.0. This inplace method will never work because the intermediate object on which we are setting values always behaves as a copy.\n",
      "\n",
      "For example, when doing 'df[col].method(value, inplace=True)', try using 'df.method({col: value}, inplace=True)' or df[col] = df[col].method(value) instead, to perform the operation inplace on the original object.\n",
      "\n",
      "\n",
      "\n",
      "/var/folders/_v/nrvjqjyn7mz71bfx98vtg58w0000gn/T/ipykernel_58971/2427550238.py:21: FutureWarning:\n",
      "\n",
      "A value is trying to be set on a copy of a DataFrame or Series through chained assignment using an inplace method.\n",
      "The behavior will change in pandas 3.0. This inplace method will never work because the intermediate object on which we are setting values always behaves as a copy.\n",
      "\n",
      "For example, when doing 'df[col].method(value, inplace=True)', try using 'df.method({col: value}, inplace=True)' or df[col] = df[col].method(value) instead, to perform the operation inplace on the original object.\n",
      "\n",
      "\n",
      "\n",
      "/var/folders/_v/nrvjqjyn7mz71bfx98vtg58w0000gn/T/ipykernel_58971/2427550238.py:22: FutureWarning:\n",
      "\n",
      "A value is trying to be set on a copy of a DataFrame or Series through chained assignment using an inplace method.\n",
      "The behavior will change in pandas 3.0. This inplace method will never work because the intermediate object on which we are setting values always behaves as a copy.\n",
      "\n",
      "For example, when doing 'df[col].method(value, inplace=True)', try using 'df.method({col: value}, inplace=True)' or df[col] = df[col].method(value) instead, to perform the operation inplace on the original object.\n",
      "\n",
      "\n",
      "\n",
      "/var/folders/_v/nrvjqjyn7mz71bfx98vtg58w0000gn/T/ipykernel_58971/2427550238.py:23: FutureWarning:\n",
      "\n",
      "A value is trying to be set on a copy of a DataFrame or Series through chained assignment using an inplace method.\n",
      "The behavior will change in pandas 3.0. This inplace method will never work because the intermediate object on which we are setting values always behaves as a copy.\n",
      "\n",
      "For example, when doing 'df[col].method(value, inplace=True)', try using 'df.method({col: value}, inplace=True)' or df[col] = df[col].method(value) instead, to perform the operation inplace on the original object.\n",
      "\n",
      "\n",
      "\n",
      "/var/folders/_v/nrvjqjyn7mz71bfx98vtg58w0000gn/T/ipykernel_58971/2427550238.py:24: FutureWarning:\n",
      "\n",
      "A value is trying to be set on a copy of a DataFrame or Series through chained assignment using an inplace method.\n",
      "The behavior will change in pandas 3.0. This inplace method will never work because the intermediate object on which we are setting values always behaves as a copy.\n",
      "\n",
      "For example, when doing 'df[col].method(value, inplace=True)', try using 'df.method({col: value}, inplace=True)' or df[col] = df[col].method(value) instead, to perform the operation inplace on the original object.\n",
      "\n",
      "\n",
      "\n",
      "/var/folders/_v/nrvjqjyn7mz71bfx98vtg58w0000gn/T/ipykernel_58971/2427550238.py:25: FutureWarning:\n",
      "\n",
      "A value is trying to be set on a copy of a DataFrame or Series through chained assignment using an inplace method.\n",
      "The behavior will change in pandas 3.0. This inplace method will never work because the intermediate object on which we are setting values always behaves as a copy.\n",
      "\n",
      "For example, when doing 'df[col].method(value, inplace=True)', try using 'df.method({col: value}, inplace=True)' or df[col] = df[col].method(value) instead, to perform the operation inplace on the original object.\n",
      "\n",
      "\n",
      "\n"
     ]
    }
   ],
   "source": [
    "# load data\n",
    "path_data = os.path.join(os.getcwd(), \"data/\")\n",
    "fname_data = os.path.join(path_data, f\"data.csv\")\n",
    "df_data = pd.read_csv(fname_data)\n",
    "\n",
    "# Drop some entries due to wrong age\n",
    "df_data = df_data.drop(df_data[df_data[\"Study ID\"].isin([95, 179, 186, 296, 419, 851, 1437])].index)\n",
    "\n",
    "# Converting str to float\n",
    "df_data = df_data.astype({\"Average Age (Years)\": 'float64'})\n",
    "\n",
    "# Replacing NaN (empty info) by 0 values to facilitate calculations\n",
    "df_data = df_data.fillna(0)\n",
    "\n",
    "# Adding a column to facilitate averaging by regions\n",
    "df_data[\"Number of Studies\"] = 1\n",
    "\n",
    "# Fixing some location mistakes and replacing cities by their regions\n",
    "df_data[\"Geographical location\"].replace(\"Montreal\", \"Montréal\", inplace=True)\n",
    "df_data[\"Geographical location\"].replace(\"Montreeal\", \"Montréal\", inplace=True)\n",
    "df_data[\"Geographical location\"].replace(\"Sherbrooke\", \"Estrie\", inplace=True)\n",
    "df_data[\"Geographical location\"].replace(\"Quebec\\xa0City\", \"Capitale-Nationale\", inplace=True)\n",
    "df_data[\"Geographical location\"].replace(\"Longueuil\", \"Montérégie\", inplace=True)\n",
    "df_data[\"Geographical location\"].replace(\"Saguenay Lac St. Jean\", \"Saguenay - Lac-Saint-Jean\", inplace=True)\n",
    "df_data[\"Geographical location\"].replace(\"Trois-Rivières\", \"Mauricie\", inplace=True)\n",
    "\n",
    "# Adding the number of participants\n",
    "df_data[\"Number of participants\"] = df_data[\"Male\"] + df_data[\"Female\"]\n",
    "df_data[\"Ratio Female/Male\"] = df_data[\"Female\"] / df_data[\"Male\"]\n",
    "\n",
    "# Extracting specific data\n",
    "# study_ids = df_data[\"Study ID\"].values\n",
    "# location = df_data[\"Geographical location\"].values\n",
    "# PET_participants = df_data[\"PET participants\"].values\n",
    "# MRI_participants = df_data[\"MRI participants\"].values\n",
    "# avg_age = df_data[\"Average Age (Years)\"].values\n",
    "# male_participants = df_data[\"Male\"].values\n",
    "# female_participants = df_data[\"Female\"].values\n",
    "# caucasian_participants = df_data[\"Caucasian\"].values\n",
    "# AfAm_participants = df_data[\"African-American\"].values\n",
    "# asian_participants = df_data[\"Asian\"].values\n",
    "# other_participants = df_data[\"Other\"].values\n",
    "# NA_participants = df_data[\"Not specified\"].values\n",
    "# AsA_participants = df_data[\"Asian American\"].values\n",
    "# midE_participants = df_data[\"Middle Eastern\"].values\n",
    "# carribean_participants = df_data[\"Carribean\"].values\n",
    "# jewish_participants = df_data[\"Jewish\"].values\n",
    "# CauHisp_participants = df_data[\"Caucasian-Hispanic\"].values\n",
    "\n",
    "# print(np.unique(location))  # Code to check for regions names\n",
    "\n",
    "\"\"\" Code to check for wrong age str\n",
    "for i, e in enumerate(avg_age):\n",
    "    try:\n",
    "        float(e)\n",
    "    except:\n",
    "        print(study_ids[i], e)\n",
    "\"\"\"\n",
    "\n",
    "# Initiating the calculation of a weighted average for each study\n",
    "df_data['Weighted Average Age'] = df_data['Average Age (Years)'] * df_data['Number of participants']\n",
    "\n",
    "# Grouping per geographical location and calculating the summation of participants\n",
    "grouped_df = df_data.groupby('Geographical location')\n",
    "sum_by_locations = grouped_df.sum()\n",
    "sum_by_locations['Geographical location'] = sum_by_locations.index\n",
    "\n",
    "# Calculating the weighted average age per region\n",
    "sum_by_locations['Weighted Average Age'] = sum_by_locations['Weighted Average Age'] / sum_by_locations['Number of participants']\n",
    "\n",
    "# Dropping the Study IDs in the groups\n",
    "sum_by_locations = sum_by_locations.drop('Study ID', axis=1)"
   ]
  },
  {
   "cell_type": "code",
   "execution_count": 136,
   "outputs": [
    {
     "name": "stdout",
     "output_type": "stream",
     "text": [
      "Outaouais\n",
      "Gaspésie-Îles-de-la-Madeleine\n",
      "Abitibi-Témiscamingue\n",
      "Laurentides\n",
      "Chaudière-Appalaches\n",
      "Lanaudière\n",
      "Nord-du-Québec\n",
      "Côte-Nord\n",
      "Bas-Saint-Laurent\n",
      "Laval\n",
      "Centre-du-Québec\n"
     ]
    }
   ],
   "source": [
    "# Importing GeoJSON of Quebec regions\n",
    "with open('data/quebec_regions.geojson') as f:\n",
    "    geojson = json.load(f)\n",
    "\n",
    "# Adding regions with zero participants to faciliate display on maps\n",
    "print(f\"Regions added with zero participants : \")\n",
    "for region in geojson['features']:\n",
    "    name = region[\"properties\"][\"res_nm_reg\"]\n",
    "    if name not in sum_by_locations['Geographical location'].values:\n",
    "        print(name)\n",
    "        df_row = {'Geographical location': name, 'PET participants': 0, 'MRI participants': 0, 'Average Age (Years)': 0, 'Male': 0, 'Female': 0, 'Caucasian': 0, 'Black': 0, 'African-American': 0, 'Asian': 0, 'Other': 0, 'Not specified': 0, 'Asian American': 0, 'Middle Eastern': 0, 'Carribean': 0, 'Jewish': 0, 'Caucasian-Hispanic': 0, 'Number of Studies': 0, 'Weighted Average Age': 0}\n",
    "        sum_by_locations = sum_by_locations._append(df_row, ignore_index=True)"
   ],
   "metadata": {
    "collapsed": false,
    "ExecuteTime": {
     "end_time": "2024-11-11T16:31:45.839847Z",
     "start_time": "2024-11-11T16:31:45.807656Z"
    }
   },
   "id": "cdf8f09232761364"
  },
  {
   "cell_type": "code",
   "execution_count": 138,
   "outputs": [
    {
     "data": {
      "application/vnd.plotly.v1+json": {
       "data": [
        {
         "coloraxis": "coloraxis",
         "customdata": [
          [
           158.0,
           1712.0,
           47.88815130830489
          ],
          [
           612.0,
           1859.0,
           35.073645569620254
          ],
          [
           0.0,
           0.0,
           0.0
          ],
          [
           0.0,
           44.0,
           23.4
          ],
          [
           0.0,
           5.0,
           7.0
          ],
          [
           0.0,
           126.0,
           3.625
          ],
          [
           0.0,
           140.0,
           67.16428571428571
          ],
          [
           29.0,
           370.0,
           72.01135135135134
          ],
          [
           6083.0,
           52228.0,
           30.984710753963025
          ],
          [
           0.0,
           356.0,
           65.5
          ],
          [
           0.0,
           378.0,
           15.7
          ],
          [
           0.0,
           1029.0,
           15.02
          ],
          [
           0.0,
           5.0,
           81.6
          ],
          [
           0.0,
           0.0,
           0.0
          ],
          [
           0.0,
           0.0,
           0.0
          ],
          [
           0.0,
           0.0,
           0.0
          ],
          [
           0.0,
           0.0,
           0.0
          ],
          [
           0.0,
           0.0,
           0.0
          ],
          [
           0.0,
           0.0,
           0.0
          ],
          [
           0.0,
           0.0,
           0.0
          ],
          [
           0.0,
           0.0,
           0.0
          ],
          [
           0.0,
           0.0,
           0.0
          ],
          [
           0.0,
           0.0,
           0.0
          ],
          [
           0.0,
           0.0,
           0.0
          ]
         ],
         "featureidkey": "properties.res_nm_reg",
         "geo": "geo",
         "geojson": {
          "type": "FeatureCollection",
          "features": [
           {
            "type": "Feature",
            "geometry": {
             "type": "Polygon",
             "coordinates": [
              [
               [
                -75.521078,
                47.846988
               ],
               [
                -75.521328,
                47.763314
               ],
               [
                -75.308858,
                47.547632
               ],
               [
                -75.558812,
                47.207758
               ],
               [
                -75.796918,
                47.319068
               ],
               [
                -76.091496,
                47.188543
               ],
               [
                -76.130591,
                46.924539
               ],
               [
                -75.896777,
                46.817864
               ],
               [
                -75.747563,
                46.842662
               ],
               [
                -75.745234,
                46.438231
               ],
               [
                -75.788765,
                46.274808
               ],
               [
                -75.748112,
                45.972435
               ],
               [
                -75.408277,
                45.97322
               ],
               [
                -75.408148,
                46.097566
               ],
               [
                -74.939369,
                46.105915
               ],
               [
                -74.714402,
                45.8879
               ],
               [
                -74.807877,
                45.638399
               ],
               [
                -75.683908,
                45.459147
               ],
               [
                -75.863327,
                45.378637
               ],
               [
                -75.959496,
                45.465951
               ],
               [
                -76.205678,
                45.51791
               ],
               [
                -76.347222,
                45.456245
               ],
               [
                -76.656641,
                45.558558
               ],
               [
                -76.782695,
                45.874218
               ],
               [
                -76.993624,
                45.787639
               ],
               [
                -77.194378,
                45.86903
               ],
               [
                -77.277882,
                46.009395
               ],
               [
                -77.568477,
                46.157865
               ],
               [
                -77.841593,
                46.20636
               ],
               [
                -77.742892,
                46.409166
               ],
               [
                -77.828896,
                46.764638
               ],
               [
                -77.834224,
                46.771435
               ],
               [
                -77.887515,
                46.836003
               ],
               [
                -77.890685,
                46.842495
               ],
               [
                -77.891966,
                46.844478
               ],
               [
                -77.892402,
                46.853972
               ],
               [
                -77.850785,
                46.891076
               ],
               [
                -77.850058,
                46.884025
               ],
               [
                -77.844448,
                46.886294
               ],
               [
                -77.84366,
                46.896653
               ],
               [
                -77.834101,
                46.926713
               ],
               [
                -77.836447,
                46.934191
               ],
               [
                -77.860428,
                47.239651
               ],
               [
                -77.433071,
                47.290474
               ],
               [
                -77.433281,
                47.144924
               ],
               [
                -77.002301,
                47.145024
               ],
               [
                -77.001718,
                47.289943
               ],
               [
                -76.575914,
                47.289729
               ],
               [
                -76.575596,
                47.604154
               ],
               [
                -76.454455,
                47.622073
               ],
               [
                -76.451946,
                47.627699
               ],
               [
                -76.288937,
                47.681683
               ],
               [
                -76.289692,
                47.683687
               ],
               [
                -76.229669,
                47.73144
               ],
               [
                -75.837584,
                47.750306
               ],
               [
                -75.8341,
                47.749513
               ],
               [
                -75.81342,
                47.68064
               ],
               [
                -75.812205,
                47.67892
               ],
               [
                -75.811202,
                47.674356
               ],
               [
                -75.810177,
                47.67167
               ],
               [
                -75.782192,
                47.799428
               ],
               [
                -75.780107,
                47.800688
               ],
               [
                -75.521078,
                47.846988
               ]
              ]
             ]
            },
            "properties": {
             "cartodb_id": 10,
             "res_co_reg": 7,
             "regio_s_id": 12,
             "regio_s_": 11,
             "res_co_ver": "V2012-05",
             "res_co_ref": "BDGA1M",
             "res_nm_reg": "Outaouais",
             "res_de_ind": "RÃ©gion administrative",
             "res_no_ind": "50 02 0100 000",
             "perimeter": 15.4275800017612,
             "area": 3.99614361096536
            },
            "id": 12
           },
           {
            "type": "Feature",
            "geometry": {
             "type": "Polygon",
             "coordinates": [
              [
               [
                -72.07341,
                47.949997
               ],
               [
                -72.123555,
                47.998509
               ],
               [
                -73.017829,
                47.998663
               ],
               [
                -74.471679,
                48.945649
               ],
               [
                -74.420869,
                48.925683
               ],
               [
                -74.41643,
                48.925868
               ],
               [
                -74.402448,
                48.923826
               ],
               [
                -74.396992,
                48.926784
               ],
               [
                -74.279062,
                49.000026
               ],
               [
                -74.289071,
                49.00669
               ],
               [
                -74.227998,
                49.218962
               ],
               [
                -74.314451,
                49.260076
               ],
               [
                -74.314645,
                49.266932
               ],
               [
                -74.372596,
                49.311446
               ],
               [
                -74.372024,
                49.314222
               ],
               [
                -74.407789,
                49.427228
               ],
               [
                -74.247109,
                49.564582
               ],
               [
                -73.895668,
                49.945404
               ],
               [
                -73.896492,
                49.952643
               ],
               [
                -73.778651,
                50.081098
               ],
               [
                -73.750269,
                50.230163
               ],
               [
                -73.74554,
                50.232972
               ],
               [
                -73.551879,
                50.364399
               ],
               [
                -73.541397,
                50.36738
               ],
               [
                -73.306574,
                50.611597
               ],
               [
                -73.30154,
                50.614383
               ],
               [
                -73.149666,
                50.747545
               ],
               [
                -73.019848,
                50.668756
               ],
               [
                -73.01826,
                50.670501
               ],
               [
                -72.863413,
                50.804071
               ],
               [
                -72.85882,
                50.810156
               ],
               [
                -72.855975,
                50.81184
               ],
               [
                -72.842828,
                50.810644
               ],
               [
                -72.75607,
                50.819404
               ],
               [
                -72.751628,
                50.818176
               ],
               [
                -72.602482,
                50.814747
               ],
               [
                -72.601113,
                50.831484
               ],
               [
                -72.599596,
                50.837254
               ],
               [
                -72.598438,
                50.839056
               ],
               [
                -72.541758,
                50.757474
               ],
               [
                -72.533808,
                50.75494
               ],
               [
                -72.534238,
                50.747853
               ],
               [
                -72.53324,
                50.746069
               ],
               [
                -72.509938,
                50.747318
               ],
               [
                -72.500216,
                50.747245
               ],
               [
                -72.376146,
                50.886885
               ],
               [
                -72.370661,
                50.88857
               ],
               [
                -72.161703,
                50.978119
               ],
               [
                -72.118311,
                51.105061
               ],
               [
                -71.837837,
                51.355642
               ],
               [
                -71.583528,
                51.510729
               ],
               [
                -71.57795,
                51.516338
               ],
               [
                -71.570951,
                51.530783
               ],
               [
                -71.572969,
                51.536908
               ],
               [
                -71.580903,
                51.57797
               ],
               [
                -71.57877,
                51.581075
               ],
               [
                -71.616985,
                51.615556
               ],
               [
                -71.612674,
                51.621228
               ],
               [
                -71.551188,
                51.827533
               ],
               [
                -71.376365,
                51.845963
               ],
               [
                -71.246359,
                52.070431
               ],
               [
                -70.967297,
                52.231721
               ],
               [
                -70.961298,
                52.235813
               ],
               [
                -70.279659,
                52.353398
               ],
               [
                -70.277413,
                52.426716
               ],
               [
                -70.273153,
                52.431986
               ],
               [
                -70.219026,
                52.554111
               ],
               [
                -70.227242,
                52.554116
               ],
               [
                -70.237541,
                52.559448
               ],
               [
                -70.237324,
                52.56694
               ],
               [
                -70.216784,
                52.711207
               ],
               [
                -70.029906,
                52.832544
               ],
               [
                -70.02479,
                52.000079
               ],
               [
                -70.025553,
                50.750063
               ],
               [
                -70.010424,
                49.796526
               ],
               [
                -70.010523,
                49.000001
               ],
               [
                -70.018179,
                48.256731
               ],
               [
                -69.871054,
                48.186107
               ],
               [
                -69.956127,
                48.056784
               ],
               [
                -70.172546,
                48.128806
               ],
               [
                -70.263326,
                47.994919
               ],
               [
                -71.41121,
                47.995934
               ],
               [
                -71.379536,
                47.950024
               ],
               [
                -72.07341,
                47.949997
               ]
              ]
             ]
            },
            "properties": {
             "cartodb_id": 4,
             "res_co_reg": 2,
             "regio_s_id": 6,
             "regio_s_": 5,
             "res_co_ver": "V2012-05",
             "res_co_ref": "BDGA1M",
             "res_nm_reg": "Saguenay - Lac-Saint-Jean",
             "res_de_ind": "Région administrative",
             "res_no_ind": "50 02 0100 000",
             "perimeter": 19.7857933261279,
             "area": 13.298006548304
            },
            "id": 6
           },
           {
            "type": "Feature",
            "geometry": {
             "type": "Polygon",
             "coordinates": [
              [
               [
                -67.153341,
                49.189062
               ],
               [
                -66.563434,
                49.539165
               ],
               [
                -66.295707,
                49.64523
               ],
               [
                -66.000015,
                49.704048
               ],
               [
                -65.395762,
                49.699742
               ],
               [
                -64.910024,
                49.61016
               ],
               [
                -64.595671,
                49.509706
               ],
               [
                -64.163784,
                49.319935
               ],
               [
                -63.600509,
                48.968992
               ],
               [
                -62.999129,
                48.666683
               ],
               [
                -61.749088,
                48.666663
               ],
               [
                -60.468609,
                48.666663
               ],
               [
                -60.403772,
                47.761098
               ],
               [
                -60.762679,
                47.423328
               ],
               [
                -60.991849,
                47.329432
               ],
               [
                -61.350481,
                47.009723
               ],
               [
                -61.399367,
                46.839999
               ],
               [
                -62.299956,
                46.839999
               ],
               [
                -62.98636,
                47.139728
               ],
               [
                -63.791667,
                48.220564
               ],
               [
                -64.421965,
                48.220568
               ],
               [
                -65.111678,
                47.921103
               ],
               [
                -65.536139,
                47.828607
               ],
               [
                -65.606408,
                47.933611
               ],
               [
                -65.858147,
                48.022234
               ],
               [
                -66.302721,
                48.032746
               ],
               [
                -66.452257,
                48.08721
               ],
               [
                -66.699094,
                48.005315
               ],
               [
                -66.916487,
                47.984707
               ],
               [
                -67.209206,
                47.875818
               ],
               [
                -67.392456,
                47.866956
               ],
               [
                -67.598344,
                48.000066
               ],
               [
                -67.5867,
                48.042391
               ],
               [
                -67.588931,
                48.04974
               ],
               [
                -67.666615,
                48.118412
               ],
               [
                -67.374601,
                48.194887
               ],
               [
                -67.277586,
                48.031515
               ],
               [
                -66.879578,
                48.136958
               ],
               [
                -66.974198,
                48.303186
               ],
               [
                -65.948463,
                48.567122
               ],
               [
                -66.537875,
                48.95834
               ],
               [
                -66.698123,
                48.964179
               ],
               [
                -66.698745,
                48.967353
               ],
               [
                -66.70181,
                48.984814
               ],
               [
                -66.700265,
                48.987354
               ],
               [
                -66.83247,
                48.985116
               ],
               [
                -67.153341,
                49.189062
               ]
              ]
             ]
            },
            "properties": {
             "cartodb_id": 5,
             "res_co_reg": 11,
             "regio_s_id": 7,
             "regio_s_": 6,
             "res_co_ver": "V2012-05",
             "res_co_ref": "BDGA1M",
             "res_nm_reg": "Gaspésie-Îles-de-la-Madeleine",
             "res_de_ind": "Région administrative",
             "res_no_ind": "50 02 0100 000",
             "perimeter": 20.8678792455471,
             "area": 9.48314959730072
            },
            "id": 7
           },
           {
            "type": "Feature",
            "geometry": {
             "type": "Polygon",
             "coordinates": [
              [
               [
                -75.521078,
                47.846988
               ],
               [
                -75.780107,
                47.800688
               ],
               [
                -75.782192,
                47.799428
               ],
               [
                -75.810177,
                47.67167
               ],
               [
                -75.811202,
                47.674356
               ],
               [
                -75.812205,
                47.67892
               ],
               [
                -75.81342,
                47.68064
               ],
               [
                -75.8341,
                47.749513
               ],
               [
                -75.837584,
                47.750306
               ],
               [
                -76.229669,
                47.73144
               ],
               [
                -76.289692,
                47.683687
               ],
               [
                -76.288937,
                47.681683
               ],
               [
                -76.451946,
                47.627699
               ],
               [
                -76.454455,
                47.622073
               ],
               [
                -76.575596,
                47.604154
               ],
               [
                -76.575914,
                47.289729
               ],
               [
                -77.001718,
                47.289943
               ],
               [
                -77.002301,
                47.145024
               ],
               [
                -77.433281,
                47.144924
               ],
               [
                -77.433071,
                47.290474
               ],
               [
                -77.860428,
                47.239651
               ],
               [
                -77.836447,
                46.934191
               ],
               [
                -77.834101,
                46.926713
               ],
               [
                -77.84366,
                46.896653
               ],
               [
                -77.844448,
                46.886294
               ],
               [
                -77.850058,
                46.884025
               ],
               [
                -77.850785,
                46.891076
               ],
               [
                -77.892402,
                46.853972
               ],
               [
                -77.891966,
                46.844478
               ],
               [
                -77.890685,
                46.842495
               ],
               [
                -77.887515,
                46.836003
               ],
               [
                -77.834224,
                46.771435
               ],
               [
                -77.828896,
                46.764638
               ],
               [
                -77.742892,
                46.409166
               ],
               [
                -77.841593,
                46.20636
               ],
               [
                -78.129115,
                46.272815
               ],
               [
                -78.692863,
                46.31873
               ],
               [
                -78.987859,
                46.547015
               ],
               [
                -79.168966,
                46.823485
               ],
               [
                -79.446562,
                47.110438
               ],
               [
                -79.428976,
                47.240774
               ],
               [
                -79.579327,
                47.432637
               ],
               [
                -79.517205,
                47.533414
               ],
               [
                -79.517764,
                49.009109
               ],
               [
                -79.053418,
                49.000045
               ],
               [
                -76.999737,
                48.999999
               ],
               [
                -75.520551,
                49.000016
               ],
               [
                -75.521078,
                47.846988
               ]
              ]
             ]
            },
            "properties": {
             "cartodb_id": 7,
             "res_co_reg": 8,
             "regio_s_id": 9,
             "regio_s_": 8,
             "res_co_ver": "V2012-05",
             "res_co_ref": "BDGA1M",
             "res_nm_reg": "Abitibi-Témiscamingue",
             "res_de_ind": "Région administrative",
             "res_no_ind": "50 02 0100 000",
             "perimeter": 14.9638243152797,
             "area": 7.78473054972107
            },
            "id": 9
           },
           {
            "type": "Feature",
            "geometry": {
             "type": "Polygon",
             "coordinates": [
              [
               [
                -74.471679,
                48.945649
               ],
               [
                -73.017829,
                47.998663
               ],
               [
                -72.123555,
                47.998509
               ],
               [
                -72.07341,
                47.949997
               ],
               [
                -71.890536,
                47.770179
               ],
               [
                -72.238828,
                47.536571
               ],
               [
                -72.145723,
                47.399614
               ],
               [
                -72.239878,
                47.290108
               ],
               [
                -72.50337,
                47.311941
               ],
               [
                -72.540745,
                47.190662
               ],
               [
                -72.435868,
                47.057484
               ],
               [
                -72.167602,
                46.874224
               ],
               [
                -72.392221,
                46.791376
               ],
               [
                -72.082727,
                46.57015
               ],
               [
                -72.198901,
                46.532325
               ],
               [
                -72.21268,
                46.520967
               ],
               [
                -72.267698,
                46.433635
               ],
               [
                -72.936232,
                46.151217
               ],
               [
                -73.216489,
                46.279333
               ],
               [
                -73.167306,
                46.382865
               ],
               [
                -73.333101,
                46.498727
               ],
               [
                -73.536358,
                46.865513
               ],
               [
                -73.543432,
                46.866338
               ],
               [
                -73.570849,
                46.871483
               ],
               [
                -73.573687,
                46.869887
               ],
               [
                -73.66083,
                46.894617
               ],
               [
                -73.65012,
                46.938033
               ],
               [
                -73.853208,
                47.151075
               ],
               [
                -74.028553,
                47.177965
               ],
               [
                -73.975508,
                47.364768
               ],
               [
                -73.972952,
                47.370797
               ],
               [
                -74.511525,
                47.762906
               ],
               [
                -74.889411,
                47.762619
               ],
               [
                -75.521328,
                47.763314
               ],
               [
                -75.521078,
                47.846988
               ],
               [
                -75.520551,
                49.000016
               ],
               [
                -74.55934,
                48.999925
               ],
               [
                -74.471679,
                48.945649
               ]
              ]
             ]
            },
            "properties": {
             "cartodb_id": 8,
             "res_co_reg": 4,
             "regio_s_id": 10,
             "regio_s_": 9,
             "res_co_ver": "V2012-05",
             "res_co_ref": "BDGA1M",
             "res_nm_reg": "Mauricie",
             "res_de_ind": "Région administrative",
             "res_no_ind": "50 02 0100 000",
             "perimeter": 13.1966772376706,
             "area": 4.78751317999797
            },
            "id": 10
           },
           {
            "type": "Feature",
            "geometry": {
             "type": "Polygon",
             "coordinates": [
              [
               [
                -72.07341,
                47.949997
               ],
               [
                -71.379536,
                47.950024
               ],
               [
                -71.41121,
                47.995934
               ],
               [
                -70.263326,
                47.994919
               ],
               [
                -70.172546,
                48.128806
               ],
               [
                -69.956127,
                48.056784
               ],
               [
                -69.871054,
                48.186107
               ],
               [
                -69.548369,
                48.049451
               ],
               [
                -69.656537,
                47.99422
               ],
               [
                -69.893749,
                47.701311
               ],
               [
                -70.198248,
                47.411201
               ],
               [
                -70.454932,
                47.253498
               ],
               [
                -70.716252,
                46.993868
               ],
               [
                -71.000352,
                46.84744
               ],
               [
                -71.115357,
                46.839533
               ],
               [
                -71.128385,
                46.8377
               ],
               [
                -71.283693,
                46.746726
               ],
               [
                -71.690822,
                46.649837
               ],
               [
                -71.870955,
                46.677671
               ],
               [
                -72.054301,
                46.570497
               ],
               [
                -72.066825,
                46.569761
               ],
               [
                -72.082727,
                46.57015
               ],
               [
                -72.392221,
                46.791376
               ],
               [
                -72.167602,
                46.874224
               ],
               [
                -72.435868,
                47.057484
               ],
               [
                -72.540745,
                47.190662
               ],
               [
                -72.50337,
                47.311941
               ],
               [
                -72.239878,
                47.290108
               ],
               [
                -72.145723,
                47.399614
               ],
               [
                -72.238828,
                47.536571
               ],
               [
                -71.890536,
                47.770179
               ],
               [
                -72.07341,
                47.949997
               ]
              ]
             ]
            },
            "properties": {
             "cartodb_id": 9,
             "res_co_reg": 3,
             "regio_s_id": 11,
             "regio_s_": 10,
             "res_co_ver": "V2012-05",
             "res_co_ref": "BDGA1M",
             "res_nm_reg": "Capitale-Nationale",
             "res_de_ind": "Région administrative",
             "res_no_ind": "50 02 0100 000",
             "perimeter": 8.81817210239763,
             "area": 2.49937337388851
            },
            "id": 11
           },
           {
            "type": "Feature",
            "geometry": {
             "type": "Polygon",
             "coordinates": [
              [
               [
                -75.521328,
                47.763314
               ],
               [
                -74.889411,
                47.762619
               ],
               [
                -74.5078,
                47.502208
               ],
               [
                -74.507743,
                47.502935
               ],
               [
                -74.619692,
                47.251113
               ],
               [
                -74.415157,
                47.100723
               ],
               [
                -74.57475,
                46.997571
               ],
               [
                -74.427279,
                46.896617
               ],
               [
                -74.508932,
                46.646535
               ],
               [
                -74.508288,
                46.642451
               ],
               [
                -74.503725,
                46.640022
               ],
               [
                -74.499065,
                46.639045
               ],
               [
                -74.491004,
                46.593768
               ],
               [
                -74.488473,
                46.596463
               ],
               [
                -74.445787,
                46.620477
               ],
               [
                -74.423104,
                46.605517
               ],
               [
                -74.38517,
                46.578771
               ],
               [
                -74.376332,
                46.527668
               ],
               [
                -74.477748,
                46.454113
               ],
               [
                -74.412684,
                46.298891
               ],
               [
                -74.182687,
                46.250042
               ],
               [
                -74.03304,
                46.148714
               ],
               [
                -73.935392,
                45.944243
               ],
               [
                -73.937068,
                45.925236
               ],
               [
                -73.759062,
                45.727893
               ],
               [
                -73.761411,
                45.714365
               ],
               [
                -73.744881,
                45.668642
               ],
               [
                -73.895779,
                45.525458
               ],
               [
                -73.977851,
                45.46442
               ],
               [
                -73.990063,
                45.459525
               ],
               [
                -73.996551,
                45.457488
               ],
               [
                -74.339075,
                45.513261
               ],
               [
                -74.380758,
                45.565982
               ],
               [
                -74.629351,
                45.63829
               ],
               [
                -74.807877,
                45.638399
               ],
               [
                -74.714402,
                45.8879
               ],
               [
                -74.939369,
                46.105915
               ],
               [
                -75.408148,
                46.097566
               ],
               [
                -75.408277,
                45.97322
               ],
               [
                -75.748112,
                45.972435
               ],
               [
                -75.788765,
                46.274808
               ],
               [
                -75.745234,
                46.438231
               ],
               [
                -75.747563,
                46.842662
               ],
               [
                -75.896777,
                46.817864
               ],
               [
                -76.130591,
                46.924539
               ],
               [
                -76.091496,
                47.188543
               ],
               [
                -75.796918,
                47.319068
               ],
               [
                -75.558812,
                47.207758
               ],
               [
                -75.308858,
                47.547632
               ],
               [
                -75.521328,
                47.763314
               ]
              ]
             ]
            },
            "properties": {
             "cartodb_id": 11,
             "res_co_reg": 15,
             "regio_s_id": 13,
             "regio_s_": 12,
             "res_co_ver": "V2012-05",
             "res_co_ref": "BDGA1M",
             "res_nm_reg": "Laurentides",
             "res_de_ind": "Région administrative",
             "res_no_ind": "50 02 0100 000",
             "perimeter": 12.0473497358836,
             "area": 2.64627784216984
            },
            "id": 13
           },
           {
            "type": "Feature",
            "geometry": {
             "type": "Polygon",
             "coordinates": [
              [
               [
                -70.198248,
                47.411201
               ],
               [
                -70.003487,
                47.278656
               ],
               [
                -69.985984,
                47.285714
               ],
               [
                -69.625519,
                47.06655
               ],
               [
                -69.997359,
                46.695246
               ],
               [
                -70.057197,
                46.416557
               ],
               [
                -70.208698,
                46.329344
               ],
               [
                -70.315785,
                46.020046
               ],
               [
                -70.242194,
                45.938925
               ],
               [
                -70.413606,
                45.795991
               ],
               [
                -70.895614,
                45.780022
               ],
               [
                -70.899805,
                45.886751
               ],
               [
                -71.461258,
                45.816568
               ],
               [
                -71.68617,
                45.966808
               ],
               [
                -71.509741,
                46.137326
               ],
               [
                -71.478962,
                46.395879
               ],
               [
                -71.617519,
                46.451759
               ],
               [
                -71.759723,
                46.363955
               ],
               [
                -72.054301,
                46.570497
               ],
               [
                -71.870955,
                46.677671
               ],
               [
                -71.690822,
                46.649837
               ],
               [
                -71.283693,
                46.746726
               ],
               [
                -71.128385,
                46.8377
               ],
               [
                -71.115357,
                46.839533
               ],
               [
                -71.000352,
                46.84744
               ],
               [
                -70.716252,
                46.993868
               ],
               [
                -70.454932,
                47.253498
               ],
               [
                -70.198248,
                47.411201
               ]
              ]
             ]
            },
            "properties": {
             "cartodb_id": 13,
             "res_co_reg": 12,
             "regio_s_id": 15,
             "regio_s_": 14,
             "res_co_ver": "V2012-05",
             "res_co_ref": "BDGA1M",
             "res_nm_reg": "Chaudière-Appalaches",
             "res_de_ind": "Région administrative",
             "res_no_ind": "50 02 0100 000",
             "perimeter": 8.20535335218676,
             "area": 1.89098805979165
            },
            "id": 15
           },
           {
            "type": "Feature",
            "geometry": {
             "type": "Polygon",
             "coordinates": [
              [
               [
                -74.889411,
                47.762619
               ],
               [
                -74.511525,
                47.762906
               ],
               [
                -73.972952,
                47.370797
               ],
               [
                -73.975508,
                47.364768
               ],
               [
                -74.028553,
                47.177965
               ],
               [
                -73.853208,
                47.151075
               ],
               [
                -73.65012,
                46.938033
               ],
               [
                -73.66083,
                46.894617
               ],
               [
                -73.573687,
                46.869887
               ],
               [
                -73.570849,
                46.871483
               ],
               [
                -73.543432,
                46.866338
               ],
               [
                -73.536358,
                46.865513
               ],
               [
                -73.333101,
                46.498727
               ],
               [
                -73.167306,
                46.382865
               ],
               [
                -73.216489,
                46.279333
               ],
               [
                -72.936232,
                46.151217
               ],
               [
                -72.992102,
                46.111805
               ],
               [
                -73.158932,
                46.043609
               ],
               [
                -73.290566,
                45.831375
               ],
               [
                -73.474364,
                45.700024
               ],
               [
                -73.523106,
                45.69786
               ],
               [
                -73.744881,
                45.668642
               ],
               [
                -73.761411,
                45.714365
               ],
               [
                -73.759062,
                45.727893
               ],
               [
                -73.937068,
                45.925236
               ],
               [
                -73.935392,
                45.944243
               ],
               [
                -74.03304,
                46.148714
               ],
               [
                -74.182687,
                46.250042
               ],
               [
                -74.412684,
                46.298891
               ],
               [
                -74.477748,
                46.454113
               ],
               [
                -74.376332,
                46.527668
               ],
               [
                -74.38517,
                46.578771
               ],
               [
                -74.423104,
                46.605517
               ],
               [
                -74.445787,
                46.620477
               ],
               [
                -74.488473,
                46.596463
               ],
               [
                -74.491004,
                46.593768
               ],
               [
                -74.499065,
                46.639045
               ],
               [
                -74.503725,
                46.640022
               ],
               [
                -74.508288,
                46.642451
               ],
               [
                -74.508932,
                46.646535
               ],
               [
                -74.427279,
                46.896617
               ],
               [
                -74.57475,
                46.997571
               ],
               [
                -74.415157,
                47.100723
               ],
               [
                -74.619692,
                47.251113
               ],
               [
                -74.507743,
                47.502935
               ],
               [
                -74.5078,
                47.502208
               ],
               [
                -74.889411,
                47.762619
               ]
              ]
             ]
            },
            "properties": {
             "cartodb_id": 12,
             "res_co_reg": 14,
             "regio_s_id": 14,
             "regio_s_": 13,
             "res_co_ver": "V2012-05",
             "res_co_ref": "BDGA1M",
             "res_nm_reg": "Lanaudière",
             "res_de_ind": "Région administrative",
             "res_no_ind": "50 02 0100 000",
             "perimeter": 9.01209725042588,
             "area": 1.58700910317102
            },
            "id": 14
           },
           {
            "type": "Feature",
            "geometry": {
             "type": "Polygon",
             "coordinates": [
              [
               [
                -72.992102,
                46.111805
               ],
               [
                -72.752495,
                45.942799
               ],
               [
                -72.852977,
                45.86388
               ],
               [
                -72.577873,
                45.752622
               ],
               [
                -72.315602,
                45.599234
               ],
               [
                -72.350469,
                45.589009
               ],
               [
                -72.359986,
                45.589036
               ],
               [
                -72.454557,
                45.451383
               ],
               [
                -72.403368,
                45.155766
               ],
               [
                -72.485017,
                45.008814
               ],
               [
                -73.068118,
                45.015872
               ],
               [
                -74.148943,
                44.991358
               ],
               [
                -74.495201,
                45.064735
               ],
               [
                -74.318803,
                45.187976
               ],
               [
                -74.472294,
                45.302813
               ],
               [
                -74.380758,
                45.565982
               ],
               [
                -74.339075,
                45.513261
               ],
               [
                -73.996551,
                45.457488
               ],
               [
                -73.822172,
                45.385406
               ],
               [
                -73.559613,
                45.419082
               ],
               [
                -73.474364,
                45.700024
               ],
               [
                -73.290566,
                45.831375
               ],
               [
                -73.158932,
                46.043609
               ],
               [
                -72.992102,
                46.111805
               ]
              ]
             ]
            },
            "properties": {
             "cartodb_id": 15,
             "res_co_reg": 16,
             "regio_s_id": 17,
             "regio_s_": 16,
             "res_co_ver": "V2012-05",
             "res_co_ref": "BDGA1M",
             "res_nm_reg": "Montérégie",
             "res_de_ind": "Région administrative",
             "res_no_ind": "50 02 0100 000",
             "perimeter": 7.09129879389589,
             "area": 1.36183178555221
            },
            "id": 17
           },
           {
            "type": "Feature",
            "geometry": {
             "type": "Polygon",
             "coordinates": [
              [
               [
                -71.461258,
                45.816568
               ],
               [
                -70.899805,
                45.886751
               ],
               [
                -70.895614,
                45.780022
               ],
               [
                -70.413606,
                45.795991
               ],
               [
                -70.645443,
                45.606152
               ],
               [
                -70.825525,
                45.400367
               ],
               [
                -71.228181,
                45.249407
               ],
               [
                -71.384778,
                45.233288
               ],
               [
                -71.500556,
                45.013252
               ],
               [
                -72.485017,
                45.008814
               ],
               [
                -72.403368,
                45.155766
               ],
               [
                -72.454557,
                45.451383
               ],
               [
                -72.359986,
                45.589036
               ],
               [
                -72.350469,
                45.589009
               ],
               [
                -72.315602,
                45.599234
               ],
               [
                -72.029639,
                45.85343
               ],
               [
                -71.798933,
                45.858038
               ],
               [
                -71.780876,
                45.875051
               ],
               [
                -71.461258,
                45.816568
               ]
              ]
             ]
            },
            "properties": {
             "cartodb_id": 16,
             "res_co_reg": 5,
             "regio_s_id": 18,
             "regio_s_": 17,
             "res_co_ver": "V2012-05",
             "res_co_ref": "BDGA1M",
             "res_nm_reg": "Estrie",
             "res_de_ind": "Région administrative",
             "res_no_ind": "50 02 0100 000",
             "perimeter": 7.28698953467045,
             "area": 1.20899519667971
            },
            "id": 18
           },
           {
            "type": "Feature",
            "geometry": {
             "type": "Polygon",
             "coordinates": [
              [
               [
                -70.029906,
                52.832544
               ],
               [
                -70.216784,
                52.711207
               ],
               [
                -70.237324,
                52.56694
               ],
               [
                -70.237541,
                52.559448
               ],
               [
                -70.227242,
                52.554116
               ],
               [
                -70.219026,
                52.554111
               ],
               [
                -70.273153,
                52.431986
               ],
               [
                -70.277413,
                52.426716
               ],
               [
                -70.279659,
                52.353398
               ],
               [
                -70.961298,
                52.235813
               ],
               [
                -70.967297,
                52.231721
               ],
               [
                -71.246359,
                52.070431
               ],
               [
                -71.376365,
                51.845963
               ],
               [
                -71.551188,
                51.827533
               ],
               [
                -71.612674,
                51.621228
               ],
               [
                -71.616985,
                51.615556
               ],
               [
                -71.57877,
                51.581075
               ],
               [
                -71.580903,
                51.57797
               ],
               [
                -71.572969,
                51.536908
               ],
               [
                -71.570951,
                51.530783
               ],
               [
                -71.57795,
                51.516338
               ],
               [
                -71.583528,
                51.510729
               ],
               [
                -71.837837,
                51.355642
               ],
               [
                -72.118311,
                51.105061
               ],
               [
                -72.161703,
                50.978119
               ],
               [
                -72.370661,
                50.88857
               ],
               [
                -72.376146,
                50.886885
               ],
               [
                -72.500216,
                50.747245
               ],
               [
                -72.509938,
                50.747318
               ],
               [
                -72.53324,
                50.746069
               ],
               [
                -72.534238,
                50.747853
               ],
               [
                -72.533808,
                50.75494
               ],
               [
                -72.541758,
                50.757474
               ],
               [
                -72.598438,
                50.839056
               ],
               [
                -72.599596,
                50.837254
               ],
               [
                -72.601113,
                50.831484
               ],
               [
                -72.602482,
                50.814747
               ],
               [
                -72.751628,
                50.818176
               ],
               [
                -72.75607,
                50.819404
               ],
               [
                -72.842828,
                50.810644
               ],
               [
                -72.855975,
                50.81184
               ],
               [
                -72.85882,
                50.810156
               ],
               [
                -72.863413,
                50.804071
               ],
               [
                -73.01826,
                50.670501
               ],
               [
                -73.019848,
                50.668756
               ],
               [
                -73.149666,
                50.747545
               ],
               [
                -73.30154,
                50.614383
               ],
               [
                -73.306574,
                50.611597
               ],
               [
                -73.541397,
                50.36738
               ],
               [
                -73.551879,
                50.364399
               ],
               [
                -73.74554,
                50.232972
               ],
               [
                -73.750269,
                50.230163
               ],
               [
                -73.778651,
                50.081098
               ],
               [
                -73.896492,
                49.952643
               ],
               [
                -73.895668,
                49.945404
               ],
               [
                -74.247109,
                49.564582
               ],
               [
                -74.407789,
                49.427228
               ],
               [
                -74.372024,
                49.314222
               ],
               [
                -74.372596,
                49.311446
               ],
               [
                -74.314645,
                49.266932
               ],
               [
                -74.314451,
                49.260076
               ],
               [
                -74.227998,
                49.218962
               ],
               [
                -74.289071,
                49.00669
               ],
               [
                -74.279062,
                49.000026
               ],
               [
                -74.396992,
                48.926784
               ],
               [
                -74.402448,
                48.923826
               ],
               [
                -74.41643,
                48.925868
               ],
               [
                -74.420869,
                48.925683
               ],
               [
                -74.471679,
                48.945649
               ],
               [
                -74.55934,
                48.999925
               ],
               [
                -75.520551,
                49.000016
               ],
               [
                -76.999737,
                48.999999
               ],
               [
                -79.053418,
                49.000045
               ],
               [
                -79.517764,
                49.009109
               ],
               [
                -79.517778,
                49.750087
               ],
               [
                -79.517782,
                50.749782
               ],
               [
                -79.518348,
                51.582765
               ],
               [
                -79.216599,
                51.64224
               ],
               [
                -78.97984,
                51.461542
               ],
               [
                -78.8012,
                51.47268
               ],
               [
                -78.85079,
                51.616359
               ],
               [
                -79.048087,
                51.764299
               ],
               [
                -78.892221,
                51.9468
               ],
               [
                -78.779781,
                51.969912
               ],
               [
                -78.559298,
                52.160636
               ],
               [
                -78.516069,
                52.332222
               ],
               [
                -78.589509,
                52.517228
               ],
               [
                -78.761621,
                52.540806
               ],
               [
                -78.997057,
                53.094311
               ],
               [
                -78.983656,
                53.399893
               ],
               [
                -79.139357,
                53.493777
               ],
               [
                -79.06147,
                53.613062
               ],
               [
                -79.105933,
                53.903362
               ],
               [
                -79.480179,
                54.233108
               ],
               [
                -79.533899,
                54.519204
               ],
               [
                -79.654207,
                54.689571
               ],
               [
                -79.004662,
                54.83803
               ],
               [
                -78.318669,
                55.041928
               ],
               [
                -77.78361,
                55.268906
               ],
               [
                -77.252517,
                55.577846
               ],
               [
                -77.196747,
                55.669994
               ],
               [
                -76.689674,
                56.049426
               ],
               [
                -76.547842,
                56.302428
               ],
               [
                -76.532224,
                56.798183
               ],
               [
                -76.575855,
                57.128172
               ],
               [
                -76.697944,
                57.435416
               ],
               [
                -77.091539,
                57.939337
               ],
               [
                -77.650514,
                58.263961
               ],
               [
                -78.207122,
                58.404029
               ],
               [
                -78.240246,
                58.495866
               ],
               [
                -78.587222,
                58.648907
               ],
               [
                -78.577592,
                58.917305
               ],
               [
                -77.989747,
                59.262379
               ],
               [
                -77.835235,
                59.588562
               ],
               [
                -77.84815,
                59.726042
               ],
               [
                -77.54479,
                59.756544
               ],
               [
                -77.46729,
                59.918075
               ],
               [
                -77.624387,
                60.054652
               ],
               [
                -77.607278,
                60.292636
               ],
               [
                -78.07599,
                60.791496
               ],
               [
                -78.10992,
                60.917371
               ],
               [
                -77.858235,
                61.053848
               ],
               [
                -77.743741,
                61.259786
               ],
               [
                -77.88746,
                61.623668
               ],
               [
                -78.000007,
                61.692107
               ],
               [
                -78.202012,
                62.254555
               ],
               [
                -78.086497,
                62.362423
               ],
               [
                -77.506116,
                62.582171
               ],
               [
                -76.930718,
                62.537763
               ],
               [
                -76.524456,
                62.443992
               ],
               [
                -75.580695,
                62.286842
               ],
               [
                -75.340345,
                62.317039
               ],
               [
                -74.967923,
                62.265525
               ],
               [
                -74.423074,
                62.242752
               ],
               [
                -74.004542,
                62.365341
               ],
               [
                -73.831326,
                62.459269
               ],
               [
                -73.224515,
                62.322815
               ],
               [
                -73.044368,
                62.202256
               ],
               [
                -72.613396,
                62.112375
               ],
               [
                -72.595276,
                61.976047
               ],
               [
                -72.180093,
                61.85322
               ],
               [
                -72.032175,
                61.731028
               ],
               [
                -71.62851,
                61.653167
               ],
               [
                -71.565604,
                61.544934
               ],
               [
                -71.607302,
                61.262205
               ],
               [
                -71.313338,
                61.153081
               ],
               [
                -70.667132,
                61.055773
               ],
               [
                -70.298932,
                61.101411
               ],
               [
                -69.964086,
                60.945368
               ],
               [
                -69.758506,
                60.917128
               ],
               [
                -69.592277,
                61.081513
               ],
               [
                -69.371593,
                60.916188
               ],
               [
                -69.371451,
                60.79946
               ],
               [
                -69.674783,
                60.673021
               ],
               [
                -69.717298,
                60.40712
               ],
               [
                -69.542288,
                60.094026
               ],
               [
                -69.49501,
                59.611084
               ],
               [
                -69.626464,
                59.471705
               ],
               [
                -69.232263,
                59.346558
               ],
               [
                -69.205631,
                59.223358
               ],
               [
                -68.892257,
                58.924126
               ],
               [
                -68.552048,
                58.941038
               ],
               [
                -68.260454,
                58.823208
               ],
               [
                -68.268268,
                58.616334
               ],
               [
                -68.00256,
                58.590248
               ],
               [
                -67.365056,
                58.31443
               ],
               [
                -66.938354,
                58.515877
               ],
               [
                -66.78029,
                58.501722
               ],
               [
                -66.573738,
                58.665141
               ],
               [
                -66.4834,
                58.857892
               ],
               [
                -66.095088,
                58.861308
               ],
               [
                -65.989371,
                58.918389
               ],
               [
                -65.80651,
                59.209121
               ],
               [
                -65.848893,
                59.283289
               ],
               [
                -65.526989,
                59.469633
               ],
               [
                -65.433076,
                59.588142
               ],
               [
                -65.566606,
                59.690521
               ],
               [
                -65.463741,
                59.815967
               ],
               [
                -65.235871,
                59.925633
               ],
               [
                -65.142601,
                60.063364
               ],
               [
                -64.855821,
                60.268343
               ],
               [
                -64.642658,
                59.906278
               ],
               [
                -64.818186,
                59.821003
               ],
               [
                -64.751401,
                59.725478
               ],
               [
                -64.838986,
                59.554562
               ],
               [
                -64.510789,
                59.421548
               ],
               [
                -64.471064,
                59.179491
               ],
               [
                -64.26522,
                59.01681
               ],
               [
                -64.226498,
                58.783589
               ],
               [
                -63.681534,
                58.880981
               ],
               [
                -63.497759,
                58.745886
               ],
               [
                -63.94783,
                58.689451
               ],
               [
                -64.143259,
                58.601834
               ],
               [
                -63.985802,
                58.442829
               ],
               [
                -64.168456,
                58.364842
               ],
               [
                -64.25609,
                58.224024
               ],
               [
                -64.423654,
                58.193974
               ],
               [
                -64.407753,
                58.062696
               ],
               [
                -64.193215,
                57.932683
               ],
               [
                -63.901728,
                57.913835
               ],
               [
                -63.883302,
                57.716043
               ],
               [
                -63.697963,
                57.36678
               ],
               [
                -63.881318,
                57.268014
               ],
               [
                -63.766982,
                57.143241
               ],
               [
                -63.899353,
                57.079276
               ],
               [
                -63.910478,
                56.925497
               ],
               [
                -64.142895,
                56.704203
               ],
               [
                -63.943953,
                56.540104
               ],
               [
                -63.934837,
                56.265269
               ],
               [
                -64.008251,
                56.076014
               ],
               [
                -63.730528,
                56.068031
               ],
               [
                -63.547381,
                56.005863
               ],
               [
                -63.845131,
                55.886814
               ],
               [
                -63.709229,
                55.754368
               ],
               [
                -63.644633,
                55.286198
               ],
               [
                -63.550617,
                55.19001
               ],
               [
                -63.553921,
                55.000047
               ],
               [
                -64.750002,
                54.999996
               ],
               [
                -66.259781,
                55.000009
               ],
               [
                -66.609089,
                55.269845
               ],
               [
                -66.762782,
                55.136899
               ],
               [
                -66.642917,
                55.000063
               ],
               [
                -68.250018,
                54.999987
               ],
               [
                -70.029883,
                55.000136
               ],
               [
                -70.029708,
                54.000024
               ],
               [
                -70.029906,
                52.832544
               ]
              ]
             ]
            },
            "properties": {
             "cartodb_id": 19,
             "res_co_reg": 10,
             "regio_s_id": 1,
             "regio_s_": 20,
             "res_co_ver": "V2012-05",
             "res_co_ref": "BDGA1M",
             "res_nm_reg": "Nord-du-Québec",
             "res_de_ind": "Région administrative",
             "res_no_ind": "50 02 0100 000",
             "perimeter": 94.6754067058214,
             "area": 124.08686903197
            },
            "id": 1
           },
           {
            "type": "Feature",
            "geometry": {
             "type": "Polygon",
             "coordinates": [
              [
               [
                -73.523106,
                45.69786
               ],
               [
                -73.474364,
                45.700024
               ],
               [
                -73.559613,
                45.419082
               ],
               [
                -73.822172,
                45.385406
               ],
               [
                -73.996551,
                45.457488
               ],
               [
                -73.990063,
                45.459525
               ],
               [
                -73.977851,
                45.46442
               ],
               [
                -73.895779,
                45.525458
               ],
               [
                -73.732746,
                45.531604
               ],
               [
                -73.726358,
                45.534538
               ],
               [
                -73.523106,
                45.69786
               ]
              ]
             ]
            },
            "properties": {
             "cartodb_id": 17,
             "res_co_reg": 6,
             "regio_s_id": 19,
             "regio_s_": 18,
             "res_co_ver": "V2012-05",
             "res_co_ref": "BDGA1M",
             "res_nm_reg": "Montréal",
             "res_de_ind": "Région administrative",
             "res_no_ind": "50 02 0100 000",
             "perimeter": 1.46897572891785,
             "area": 0.0719384128928997
            },
            "id": 19
           },
           {
            "type": "Feature",
            "geometry": {
             "type": "MultiPolygon",
             "coordinates": [
              [
               [
                [
                 -60.468609,
                 48.666663
                ],
                [
                 -61.999092,
                 48.666676
                ],
                [
                 -62.999129,
                 48.666683
                ],
                [
                 -63.600509,
                 48.968992
                ],
                [
                 -64.163784,
                 49.319935
                ],
                [
                 -64.595671,
                 49.509706
                ],
                [
                 -65.095087,
                 49.652753
                ],
                [
                 -65.645385,
                 49.717895
                ],
                [
                 -66.000015,
                 49.704048
                ],
                [
                 -66.48767,
                 49.575425
                ],
                [
                 -67.153341,
                 49.189062
                ],
                [
                 -67.592507,
                 49.078342
                ],
                [
                 -68.173272,
                 48.881427
                ],
                [
                 -68.723464,
                 48.621039
                ],
                [
                 -69.234461,
                 48.291093
                ],
                [
                 -69.548369,
                 48.049451
                ],
                [
                 -70.077876,
                 48.252828
                ],
                [
                 -70.007992,
                 48.357004
                ],
                [
                 -70.010424,
                 49.796526
                ],
                [
                 -70.025553,
                 50.750063
                ],
                [
                 -70.02479,
                 52.000079
                ],
                [
                 -70.029896,
                 52.916605
                ],
                [
                 -70.029883,
                 55.000136
                ],
                [
                 -69,
                 55.000117
                ],
                [
                 -67.41416,
                 54.994108
                ],
                [
                 -67.053178,
                 54.695712
                ],
                [
                 -67.304721,
                 54.514433
                ],
                [
                 -67.670849,
                 54.446101
                ],
                [
                 -67.725908,
                 54.334933
                ],
                [
                 -67.634491,
                 54.159846
                ],
                [
                 -67.809196,
                 54.017238
                ],
                [
                 -67.588854,
                 53.917925
                ],
                [
                 -67.565856,
                 53.794452
                ],
                [
                 -67.212496,
                 53.539563
                ],
                [
                 -67.028292,
                 53.533339
                ],
                [
                 -66.913542,
                 53.420893
                ],
                [
                 -66.968385,
                 53.203975
                ],
                [
                 -67.383275,
                 53.08794
                ],
                [
                 -67.340285,
                 52.893365
                ],
                [
                 -66.899719,
                 52.686938
                ],
                [
                 -66.416261,
                 52.846906
                ],
                [
                 -66.314061,
                 52.732515
                ],
                [
                 -66.438777,
                 52.623627
                ],
                [
                 -66.343028,
                 52.398622
                ],
                [
                 -66.4844,
                 52.348634
                ],
                [
                 -66.097613,
                 52.200563
                ],
                [
                 -66.090954,
                 52.108479
                ],
                [
                 -65.673164,
                 52.120423
                ],
                [
                 -65.198951,
                 52.260113
                ],
                [
                 -64.83546,
                 52.034965
                ],
                [
                 -64.71066,
                 51.873309
                ],
                [
                 -64.774169,
                 51.804733
                ],
                [
                 -64.557126,
                 51.580661
                ],
                [
                 -64.286166,
                 51.727896
                ],
                [
                 -64.36103,
                 51.864222
                ],
                [
                 -64.33689,
                 52.009271
                ],
                [
                 -64.200549,
                 52.176679
                ],
                [
                 -64.252993,
                 52.274969
                ],
                [
                 -64.107507,
                 52.407321
                ],
                [
                 -64.176955,
                 52.585072
                ],
                [
                 -64.148678,
                 52.728806
                ],
                [
                 -63.722772,
                 52.773221
                ],
                [
                 -63.567018,
                 52.944469
                ],
                [
                 -63.446819,
                 52.944523
                ],
                [
                 -62.963909,
                 52.758547
                ],
                [
                 -62.611145,
                 52.79977
                ],
                [
                 -62.336163,
                 52.736907
                ],
                [
                 -62.15596,
                 52.780601
                ],
                [
                 -61.70826,
                 52.573288
                ],
                [
                 -61.2725,
                 52.513978
                ],
                [
                 -60.947423,
                 52.36681
                ],
                [
                 -60.564327,
                 52.318835
                ],
                [
                 -60.517378,
                 52.454503
                ],
                [
                 -59.96797,
                 52.496555
                ],
                [
                 -59.83671,
                 52.662084
                ],
                [
                 -59.512005,
                 52.612942
                ],
                [
                 -59.316081,
                 52.626663
                ],
                [
                 -59.138521,
                 52.516299
                ],
                [
                 -58.730084,
                 52.481882
                ],
                [
                 -58.56987,
                 52.652822
                ],
                [
                 -58.326417,
                 52.690593
                ],
                [
                 -58.077696,
                 52.544371
                ],
                [
                 -57.979881,
                 52.431115
                ],
                [
                 -57.739883,
                 52.370728
                ],
                [
                 -57.296976,
                 52.09591
                ],
                [
                 -56.981755,
                 52.030747
                ],
                [
                 -57.107498,
                 51.805965
                ],
                [
                 -57.107482,
                 51.202493
                ],
                [
                 -57.736141,
                 50.998608
                ],
                [
                 -58.940366,
                 49.84861
                ],
                [
                 -60,
                 49.112579
                ],
                [
                 -60.476819,
                 48.781392
                ],
                [
                 -60.468609,
                 48.666663
                ]
               ]
              ],
              [
               [
                [
                 -66.72991,
                 54.973408
                ],
                [
                 -66.597631,
                 54.812183
                ],
                [
                 -66.670161,
                 54.712626
                ],
                [
                 -66.946476,
                 54.817491
                ],
                [
                 -67.218818,
                 55.000107
                ],
                [
                 -66.72991,
                 54.973408
                ]
               ]
              ],
              [
               [
                [
                 -63.563353,
                 54.98803
                ],
                [
                 -63.786125,
                 54.949003
                ],
                [
                 -63.909794,
                 54.784361
                ],
                [
                 -63.763296,
                 54.698498
                ],
                [
                 -64.052221,
                 54.597304
                ],
                [
                 -64.324983,
                 54.77317
                ],
                [
                 -64.600434,
                 54.731281
                ],
                [
                 -64.964562,
                 54.932565
                ],
                [
                 -65.427553,
                 54.747206
                ],
                [
                 -65.679536,
                 54.705263
                ],
                [
                 -65.919348,
                 54.937431
                ],
                [
                 -65.374133,
                 55.000096
                ],
                [
                 -63.563353,
                 54.98803
                ]
               ]
              ],
              [
               [
                [
                 -66.84942,
                 55.306585
                ],
                [
                 -66.765893,
                 55.248563
                ],
                [
                 -66.782005,
                 55.041497
                ],
                [
                 -67.048984,
                 55.230236
                ],
                [
                 -66.84942,
                 55.306585
                ]
               ]
              ]
             ]
            },
            "properties": {
             "cartodb_id": 1,
             "res_co_reg": 9,
             "regio_s_id": 2,
             "regio_s_": 2,
             "res_co_ver": "V2012-05",
             "res_co_ref": "BDGA1M",
             "res_nm_reg": "Côte-Nord",
             "res_de_ind": "Région administrative",
             "res_no_ind": "50 02 0100 000",
             "perimeter": 0.151935634889039,
             "area": 7.53085700268219E-4
            },
            "id": 2
           },
           {
            "type": "Feature",
            "geometry": {
             "type": "Polygon",
             "coordinates": [
              [
               [
                -67.153341,
                49.189062
               ],
               [
                -66.83247,
                48.985116
               ],
               [
                -66.700265,
                48.987354
               ],
               [
                -66.70181,
                48.984814
               ],
               [
                -66.698745,
                48.967353
               ],
               [
                -66.698123,
                48.964179
               ],
               [
                -66.537875,
                48.95834
               ],
               [
                -65.948463,
                48.567122
               ],
               [
                -66.974198,
                48.303186
               ],
               [
                -66.879578,
                48.136958
               ],
               [
                -67.277586,
                48.031515
               ],
               [
                -67.374601,
                48.194887
               ],
               [
                -67.666615,
                48.118412
               ],
               [
                -67.588931,
                48.04974
               ],
               [
                -67.5867,
                48.042391
               ],
               [
                -67.598344,
                48.000066
               ],
               [
                -68.122856,
                48.000061
               ],
               [
                -68.122785,
                47.916561
               ],
               [
                -68.383141,
                47.916615
               ],
               [
                -68.38295,
                47.553498
               ],
               [
                -68.569408,
                47.427049
               ],
               [
                -69.051087,
                47.300133
               ],
               [
                -69.032042,
                47.408305
               ],
               [
                -69.229788,
                47.454624
               ],
               [
                -69.625519,
                47.06655
               ],
               [
                -69.985984,
                47.285714
               ],
               [
                -70.003487,
                47.278656
               ],
               [
                -70.198248,
                47.411201
               ],
               [
                -69.893749,
                47.701311
               ],
               [
                -69.656537,
                47.99422
               ],
               [
                -69.548369,
                48.049451
               ],
               [
                -69.234461,
                48.291093
               ],
               [
                -68.723464,
                48.621039
               ],
               [
                -68.093746,
                48.909451
               ],
               [
                -67.592507,
                49.078342
               ],
               [
                -67.153341,
                49.189062
               ]
              ]
             ]
            },
            "properties": {
             "cartodb_id": 6,
             "res_co_reg": 1,
             "regio_s_id": 8,
             "regio_s_": 7,
             "res_co_ver": "V2012-05",
             "res_co_ref": "BDGA1M",
             "res_nm_reg": "Bas-Saint-Laurent",
             "res_de_ind": "Région administrative",
             "res_no_ind": "50 02 0100 000",
             "perimeter": 11.2654083386742,
             "area": 3.43782496715336
            },
            "id": 8
           },
           {
            "type": "Feature",
            "geometry": {
             "type": "Polygon",
             "coordinates": [
              [
               [
                -73.744881,
                45.668642
               ],
               [
                -73.523106,
                45.69786
               ],
               [
                -73.726358,
                45.534538
               ],
               [
                -73.732746,
                45.531604
               ],
               [
                -73.895779,
                45.525458
               ],
               [
                -73.744881,
                45.668642
               ]
              ]
             ]
            },
            "properties": {
             "cartodb_id": 18,
             "res_co_reg": 13,
             "regio_s_id": 20,
             "regio_s_": 19,
             "res_co_ver": "V2012-05",
             "res_co_ref": "BDGA1M",
             "res_nm_reg": "Laval",
             "res_de_ind": "Région administrative",
             "res_no_ind": "50 02 0100 000",
             "perimeter": 0.931105008023468,
             "area": 0.0307859846863181
            },
            "id": 20
           },
           {
            "type": "Feature",
            "geometry": {
             "type": "Polygon",
             "coordinates": [
              [
               [
                -72.082727,
                46.57015
               ],
               [
                -72.066825,
                46.569761
               ],
               [
                -72.054301,
                46.570497
               ],
               [
                -71.759723,
                46.363955
               ],
               [
                -71.617519,
                46.451759
               ],
               [
                -71.478962,
                46.395879
               ],
               [
                -71.509741,
                46.137326
               ],
               [
                -71.68617,
                45.966808
               ],
               [
                -71.461258,
                45.816568
               ],
               [
                -71.780876,
                45.875051
               ],
               [
                -71.798933,
                45.858038
               ],
               [
                -72.029639,
                45.85343
               ],
               [
                -72.315602,
                45.599234
               ],
               [
                -72.577873,
                45.752622
               ],
               [
                -72.852977,
                45.86388
               ],
               [
                -72.752495,
                45.942799
               ],
               [
                -72.992102,
                46.111805
               ],
               [
                -72.936232,
                46.151217
               ],
               [
                -72.267698,
                46.433635
               ],
               [
                -72.21268,
                46.520967
               ],
               [
                -72.198901,
                46.532325
               ],
               [
                -72.082727,
                46.57015
               ]
              ]
             ]
            },
            "properties": {
             "cartodb_id": 14,
             "res_co_reg": 17,
             "regio_s_id": 16,
             "regio_s_": 15,
             "res_co_ver": "V2012-05",
             "res_co_ref": "BDGA1M",
             "res_nm_reg": "Centre-du-Québec",
             "res_de_ind": "Région administrative",
             "res_no_ind": "50 02 0100 000",
             "perimeter": 5.40454763380291,
             "area": 0.844851321836394
            },
            "id": 16
           }
          ]
         },
         "hovertemplate": "Geographical location=%{location}<br>PET participants=%{customdata[0]}<br>MRI participants=%{customdata[1]}<br>Weighted Average Age=%{z}<extra></extra>",
         "locations": [
          "Capitale-Nationale",
          "Estrie",
          "Island of Montreal, Quebec City, Laurentians, Lanaudiere, Estrie, Outaouais",
          "Mauricie",
          "Montreal, Bas-Saint-Laurent, Abitibi, Gaspésie, Mauricie",
          "Montreal, Quebec City, Laurentians, Lanaudiere, Estrie, Outaouais",
          "Montreal, Sherbrooke",
          "Montreal, Sherbrooke, Quebec City",
          "Montréal",
          "Montérégie",
          "Saguenay - Lac-Saint-Jean",
          "Saguenay Lac Saint Jean region, Chicoutimi",
          "Trois-Rivières, Drummondville",
          "Outaouais",
          "Gaspésie-Îles-de-la-Madeleine",
          "Abitibi-Témiscamingue",
          "Laurentides",
          "Chaudière-Appalaches",
          "Lanaudière",
          "Nord-du-Québec",
          "Côte-Nord",
          "Bas-Saint-Laurent",
          "Laval",
          "Centre-du-Québec"
         ],
         "name": "",
         "z": [
          47.88815130830489,
          35.073645569620254,
          0.0,
          23.4,
          7.0,
          3.625,
          67.16428571428571,
          72.01135135135134,
          30.984710753963025,
          65.5,
          15.7,
          15.02,
          81.6,
          0.0,
          0.0,
          0.0,
          0.0,
          0.0,
          0.0,
          0.0,
          0.0,
          0.0,
          0.0,
          0.0
         ],
         "type": "choropleth"
        }
       ],
       "layout": {
        "template": {
         "data": {
          "histogram2dcontour": [
           {
            "type": "histogram2dcontour",
            "colorbar": {
             "outlinewidth": 0,
             "ticks": ""
            },
            "colorscale": [
             [
              0.0,
              "#0d0887"
             ],
             [
              0.1111111111111111,
              "#46039f"
             ],
             [
              0.2222222222222222,
              "#7201a8"
             ],
             [
              0.3333333333333333,
              "#9c179e"
             ],
             [
              0.4444444444444444,
              "#bd3786"
             ],
             [
              0.5555555555555556,
              "#d8576b"
             ],
             [
              0.6666666666666666,
              "#ed7953"
             ],
             [
              0.7777777777777778,
              "#fb9f3a"
             ],
             [
              0.8888888888888888,
              "#fdca26"
             ],
             [
              1.0,
              "#f0f921"
             ]
            ]
           }
          ],
          "choropleth": [
           {
            "type": "choropleth",
            "colorbar": {
             "outlinewidth": 0,
             "ticks": ""
            }
           }
          ],
          "histogram2d": [
           {
            "type": "histogram2d",
            "colorbar": {
             "outlinewidth": 0,
             "ticks": ""
            },
            "colorscale": [
             [
              0.0,
              "#0d0887"
             ],
             [
              0.1111111111111111,
              "#46039f"
             ],
             [
              0.2222222222222222,
              "#7201a8"
             ],
             [
              0.3333333333333333,
              "#9c179e"
             ],
             [
              0.4444444444444444,
              "#bd3786"
             ],
             [
              0.5555555555555556,
              "#d8576b"
             ],
             [
              0.6666666666666666,
              "#ed7953"
             ],
             [
              0.7777777777777778,
              "#fb9f3a"
             ],
             [
              0.8888888888888888,
              "#fdca26"
             ],
             [
              1.0,
              "#f0f921"
             ]
            ]
           }
          ],
          "heatmap": [
           {
            "type": "heatmap",
            "colorbar": {
             "outlinewidth": 0,
             "ticks": ""
            },
            "colorscale": [
             [
              0.0,
              "#0d0887"
             ],
             [
              0.1111111111111111,
              "#46039f"
             ],
             [
              0.2222222222222222,
              "#7201a8"
             ],
             [
              0.3333333333333333,
              "#9c179e"
             ],
             [
              0.4444444444444444,
              "#bd3786"
             ],
             [
              0.5555555555555556,
              "#d8576b"
             ],
             [
              0.6666666666666666,
              "#ed7953"
             ],
             [
              0.7777777777777778,
              "#fb9f3a"
             ],
             [
              0.8888888888888888,
              "#fdca26"
             ],
             [
              1.0,
              "#f0f921"
             ]
            ]
           }
          ],
          "heatmapgl": [
           {
            "type": "heatmapgl",
            "colorbar": {
             "outlinewidth": 0,
             "ticks": ""
            },
            "colorscale": [
             [
              0.0,
              "#0d0887"
             ],
             [
              0.1111111111111111,
              "#46039f"
             ],
             [
              0.2222222222222222,
              "#7201a8"
             ],
             [
              0.3333333333333333,
              "#9c179e"
             ],
             [
              0.4444444444444444,
              "#bd3786"
             ],
             [
              0.5555555555555556,
              "#d8576b"
             ],
             [
              0.6666666666666666,
              "#ed7953"
             ],
             [
              0.7777777777777778,
              "#fb9f3a"
             ],
             [
              0.8888888888888888,
              "#fdca26"
             ],
             [
              1.0,
              "#f0f921"
             ]
            ]
           }
          ],
          "contourcarpet": [
           {
            "type": "contourcarpet",
            "colorbar": {
             "outlinewidth": 0,
             "ticks": ""
            }
           }
          ],
          "contour": [
           {
            "type": "contour",
            "colorbar": {
             "outlinewidth": 0,
             "ticks": ""
            },
            "colorscale": [
             [
              0.0,
              "#0d0887"
             ],
             [
              0.1111111111111111,
              "#46039f"
             ],
             [
              0.2222222222222222,
              "#7201a8"
             ],
             [
              0.3333333333333333,
              "#9c179e"
             ],
             [
              0.4444444444444444,
              "#bd3786"
             ],
             [
              0.5555555555555556,
              "#d8576b"
             ],
             [
              0.6666666666666666,
              "#ed7953"
             ],
             [
              0.7777777777777778,
              "#fb9f3a"
             ],
             [
              0.8888888888888888,
              "#fdca26"
             ],
             [
              1.0,
              "#f0f921"
             ]
            ]
           }
          ],
          "surface": [
           {
            "type": "surface",
            "colorbar": {
             "outlinewidth": 0,
             "ticks": ""
            },
            "colorscale": [
             [
              0.0,
              "#0d0887"
             ],
             [
              0.1111111111111111,
              "#46039f"
             ],
             [
              0.2222222222222222,
              "#7201a8"
             ],
             [
              0.3333333333333333,
              "#9c179e"
             ],
             [
              0.4444444444444444,
              "#bd3786"
             ],
             [
              0.5555555555555556,
              "#d8576b"
             ],
             [
              0.6666666666666666,
              "#ed7953"
             ],
             [
              0.7777777777777778,
              "#fb9f3a"
             ],
             [
              0.8888888888888888,
              "#fdca26"
             ],
             [
              1.0,
              "#f0f921"
             ]
            ]
           }
          ],
          "mesh3d": [
           {
            "type": "mesh3d",
            "colorbar": {
             "outlinewidth": 0,
             "ticks": ""
            }
           }
          ],
          "scatter": [
           {
            "fillpattern": {
             "fillmode": "overlay",
             "size": 10,
             "solidity": 0.2
            },
            "type": "scatter"
           }
          ],
          "parcoords": [
           {
            "type": "parcoords",
            "line": {
             "colorbar": {
              "outlinewidth": 0,
              "ticks": ""
             }
            }
           }
          ],
          "scatterpolargl": [
           {
            "type": "scatterpolargl",
            "marker": {
             "colorbar": {
              "outlinewidth": 0,
              "ticks": ""
             }
            }
           }
          ],
          "bar": [
           {
            "error_x": {
             "color": "#2a3f5f"
            },
            "error_y": {
             "color": "#2a3f5f"
            },
            "marker": {
             "line": {
              "color": "#E5ECF6",
              "width": 0.5
             },
             "pattern": {
              "fillmode": "overlay",
              "size": 10,
              "solidity": 0.2
             }
            },
            "type": "bar"
           }
          ],
          "scattergeo": [
           {
            "type": "scattergeo",
            "marker": {
             "colorbar": {
              "outlinewidth": 0,
              "ticks": ""
             }
            }
           }
          ],
          "scatterpolar": [
           {
            "type": "scatterpolar",
            "marker": {
             "colorbar": {
              "outlinewidth": 0,
              "ticks": ""
             }
            }
           }
          ],
          "histogram": [
           {
            "marker": {
             "pattern": {
              "fillmode": "overlay",
              "size": 10,
              "solidity": 0.2
             }
            },
            "type": "histogram"
           }
          ],
          "scattergl": [
           {
            "type": "scattergl",
            "marker": {
             "colorbar": {
              "outlinewidth": 0,
              "ticks": ""
             }
            }
           }
          ],
          "scatter3d": [
           {
            "type": "scatter3d",
            "line": {
             "colorbar": {
              "outlinewidth": 0,
              "ticks": ""
             }
            },
            "marker": {
             "colorbar": {
              "outlinewidth": 0,
              "ticks": ""
             }
            }
           }
          ],
          "scattermapbox": [
           {
            "type": "scattermapbox",
            "marker": {
             "colorbar": {
              "outlinewidth": 0,
              "ticks": ""
             }
            }
           }
          ],
          "scatterternary": [
           {
            "type": "scatterternary",
            "marker": {
             "colorbar": {
              "outlinewidth": 0,
              "ticks": ""
             }
            }
           }
          ],
          "scattercarpet": [
           {
            "type": "scattercarpet",
            "marker": {
             "colorbar": {
              "outlinewidth": 0,
              "ticks": ""
             }
            }
           }
          ],
          "carpet": [
           {
            "aaxis": {
             "endlinecolor": "#2a3f5f",
             "gridcolor": "white",
             "linecolor": "white",
             "minorgridcolor": "white",
             "startlinecolor": "#2a3f5f"
            },
            "baxis": {
             "endlinecolor": "#2a3f5f",
             "gridcolor": "white",
             "linecolor": "white",
             "minorgridcolor": "white",
             "startlinecolor": "#2a3f5f"
            },
            "type": "carpet"
           }
          ],
          "table": [
           {
            "cells": {
             "fill": {
              "color": "#EBF0F8"
             },
             "line": {
              "color": "white"
             }
            },
            "header": {
             "fill": {
              "color": "#C8D4E3"
             },
             "line": {
              "color": "white"
             }
            },
            "type": "table"
           }
          ],
          "barpolar": [
           {
            "marker": {
             "line": {
              "color": "#E5ECF6",
              "width": 0.5
             },
             "pattern": {
              "fillmode": "overlay",
              "size": 10,
              "solidity": 0.2
             }
            },
            "type": "barpolar"
           }
          ],
          "pie": [
           {
            "automargin": true,
            "type": "pie"
           }
          ]
         },
         "layout": {
          "autotypenumbers": "strict",
          "colorway": [
           "#636efa",
           "#EF553B",
           "#00cc96",
           "#ab63fa",
           "#FFA15A",
           "#19d3f3",
           "#FF6692",
           "#B6E880",
           "#FF97FF",
           "#FECB52"
          ],
          "font": {
           "color": "#2a3f5f"
          },
          "hovermode": "closest",
          "hoverlabel": {
           "align": "left"
          },
          "paper_bgcolor": "white",
          "plot_bgcolor": "#E5ECF6",
          "polar": {
           "bgcolor": "#E5ECF6",
           "angularaxis": {
            "gridcolor": "white",
            "linecolor": "white",
            "ticks": ""
           },
           "radialaxis": {
            "gridcolor": "white",
            "linecolor": "white",
            "ticks": ""
           }
          },
          "ternary": {
           "bgcolor": "#E5ECF6",
           "aaxis": {
            "gridcolor": "white",
            "linecolor": "white",
            "ticks": ""
           },
           "baxis": {
            "gridcolor": "white",
            "linecolor": "white",
            "ticks": ""
           },
           "caxis": {
            "gridcolor": "white",
            "linecolor": "white",
            "ticks": ""
           }
          },
          "coloraxis": {
           "colorbar": {
            "outlinewidth": 0,
            "ticks": ""
           }
          },
          "colorscale": {
           "sequential": [
            [
             0.0,
             "#0d0887"
            ],
            [
             0.1111111111111111,
             "#46039f"
            ],
            [
             0.2222222222222222,
             "#7201a8"
            ],
            [
             0.3333333333333333,
             "#9c179e"
            ],
            [
             0.4444444444444444,
             "#bd3786"
            ],
            [
             0.5555555555555556,
             "#d8576b"
            ],
            [
             0.6666666666666666,
             "#ed7953"
            ],
            [
             0.7777777777777778,
             "#fb9f3a"
            ],
            [
             0.8888888888888888,
             "#fdca26"
            ],
            [
             1.0,
             "#f0f921"
            ]
           ],
           "sequentialminus": [
            [
             0.0,
             "#0d0887"
            ],
            [
             0.1111111111111111,
             "#46039f"
            ],
            [
             0.2222222222222222,
             "#7201a8"
            ],
            [
             0.3333333333333333,
             "#9c179e"
            ],
            [
             0.4444444444444444,
             "#bd3786"
            ],
            [
             0.5555555555555556,
             "#d8576b"
            ],
            [
             0.6666666666666666,
             "#ed7953"
            ],
            [
             0.7777777777777778,
             "#fb9f3a"
            ],
            [
             0.8888888888888888,
             "#fdca26"
            ],
            [
             1.0,
             "#f0f921"
            ]
           ],
           "diverging": [
            [
             0,
             "#8e0152"
            ],
            [
             0.1,
             "#c51b7d"
            ],
            [
             0.2,
             "#de77ae"
            ],
            [
             0.3,
             "#f1b6da"
            ],
            [
             0.4,
             "#fde0ef"
            ],
            [
             0.5,
             "#f7f7f7"
            ],
            [
             0.6,
             "#e6f5d0"
            ],
            [
             0.7,
             "#b8e186"
            ],
            [
             0.8,
             "#7fbc41"
            ],
            [
             0.9,
             "#4d9221"
            ],
            [
             1,
             "#276419"
            ]
           ]
          },
          "xaxis": {
           "gridcolor": "white",
           "linecolor": "white",
           "ticks": "",
           "title": {
            "standoff": 15
           },
           "zerolinecolor": "white",
           "automargin": true,
           "zerolinewidth": 2
          },
          "yaxis": {
           "gridcolor": "white",
           "linecolor": "white",
           "ticks": "",
           "title": {
            "standoff": 15
           },
           "zerolinecolor": "white",
           "automargin": true,
           "zerolinewidth": 2
          },
          "scene": {
           "xaxis": {
            "backgroundcolor": "#E5ECF6",
            "gridcolor": "white",
            "linecolor": "white",
            "showbackground": true,
            "ticks": "",
            "zerolinecolor": "white",
            "gridwidth": 2
           },
           "yaxis": {
            "backgroundcolor": "#E5ECF6",
            "gridcolor": "white",
            "linecolor": "white",
            "showbackground": true,
            "ticks": "",
            "zerolinecolor": "white",
            "gridwidth": 2
           },
           "zaxis": {
            "backgroundcolor": "#E5ECF6",
            "gridcolor": "white",
            "linecolor": "white",
            "showbackground": true,
            "ticks": "",
            "zerolinecolor": "white",
            "gridwidth": 2
           }
          },
          "shapedefaults": {
           "line": {
            "color": "#2a3f5f"
           }
          },
          "annotationdefaults": {
           "arrowcolor": "#2a3f5f",
           "arrowhead": 0,
           "arrowwidth": 1
          },
          "geo": {
           "bgcolor": "white",
           "landcolor": "#E5ECF6",
           "subunitcolor": "white",
           "showland": true,
           "showlakes": true,
           "lakecolor": "white"
          },
          "title": {
           "x": 0.05
          },
          "mapbox": {
           "style": "light"
          }
         }
        },
        "geo": {
         "domain": {
          "x": [
           0.0,
           1.0
          ],
          "y": [
           0.0,
           1.0
          ]
         },
         "projection": {
          "type": "mercator"
         },
         "center": {},
         "fitbounds": "locations",
         "visible": true
        },
        "coloraxis": {
         "colorbar": {
          "title": {
           "text": "Weighted Average Age"
          }
         },
         "colorscale": [
          [
           0.0,
           "#0d0887"
          ],
          [
           0.1111111111111111,
           "#46039f"
          ],
          [
           0.2222222222222222,
           "#7201a8"
          ],
          [
           0.3333333333333333,
           "#9c179e"
          ],
          [
           0.4444444444444444,
           "#bd3786"
          ],
          [
           0.5555555555555556,
           "#d8576b"
          ],
          [
           0.6666666666666666,
           "#ed7953"
          ],
          [
           0.7777777777777778,
           "#fb9f3a"
          ],
          [
           0.8888888888888888,
           "#fdca26"
          ],
          [
           1.0,
           "#f0f921"
          ]
         ]
        },
        "legend": {
         "tracegroupgap": 0
        },
        "margin": {
         "t": 0,
         "r": 0,
         "l": 0,
         "b": 0
        }
       },
       "config": {
        "plotlyServerURL": "https://plot.ly"
       }
      },
      "text/html": "<div>                            <div id=\"3afed422-c6ec-4198-82a6-ce12c087c9cf\" class=\"plotly-graph-div\" style=\"height:525px; width:100%;\"></div>            <script type=\"text/javascript\">                require([\"plotly\"], function(Plotly) {                    window.PLOTLYENV=window.PLOTLYENV || {};                                    if (document.getElementById(\"3afed422-c6ec-4198-82a6-ce12c087c9cf\")) {                    Plotly.newPlot(                        \"3afed422-c6ec-4198-82a6-ce12c087c9cf\",                        [{\"coloraxis\":\"coloraxis\",\"customdata\":[[158.0,1712.0,47.88815130830489],[612.0,1859.0,35.073645569620254],[0.0,0.0,0.0],[0.0,44.0,23.4],[0.0,5.0,7.0],[0.0,126.0,3.625],[0.0,140.0,67.16428571428571],[29.0,370.0,72.01135135135134],[6083.0,52228.0,30.984710753963025],[0.0,356.0,65.5],[0.0,378.0,15.7],[0.0,1029.0,15.02],[0.0,5.0,81.6],[0.0,0.0,0.0],[0.0,0.0,0.0],[0.0,0.0,0.0],[0.0,0.0,0.0],[0.0,0.0,0.0],[0.0,0.0,0.0],[0.0,0.0,0.0],[0.0,0.0,0.0],[0.0,0.0,0.0],[0.0,0.0,0.0],[0.0,0.0,0.0]],\"featureidkey\":\"properties.res_nm_reg\",\"geo\":\"geo\",\"geojson\":{\"type\":\"FeatureCollection\",\"features\":[{\"type\":\"Feature\",\"geometry\":{\"type\":\"Polygon\",\"coordinates\":[[[-75.521078,47.846988],[-75.521328,47.763314],[-75.308858,47.547632],[-75.558812,47.207758],[-75.796918,47.319068],[-76.091496,47.188543],[-76.130591,46.924539],[-75.896777,46.817864],[-75.747563,46.842662],[-75.745234,46.438231],[-75.788765,46.274808],[-75.748112,45.972435],[-75.408277,45.97322],[-75.408148,46.097566],[-74.939369,46.105915],[-74.714402,45.8879],[-74.807877,45.638399],[-75.683908,45.459147],[-75.863327,45.378637],[-75.959496,45.465951],[-76.205678,45.51791],[-76.347222,45.456245],[-76.656641,45.558558],[-76.782695,45.874218],[-76.993624,45.787639],[-77.194378,45.86903],[-77.277882,46.009395],[-77.568477,46.157865],[-77.841593,46.20636],[-77.742892,46.409166],[-77.828896,46.764638],[-77.834224,46.771435],[-77.887515,46.836003],[-77.890685,46.842495],[-77.891966,46.844478],[-77.892402,46.853972],[-77.850785,46.891076],[-77.850058,46.884025],[-77.844448,46.886294],[-77.84366,46.896653],[-77.834101,46.926713],[-77.836447,46.934191],[-77.860428,47.239651],[-77.433071,47.290474],[-77.433281,47.144924],[-77.002301,47.145024],[-77.001718,47.289943],[-76.575914,47.289729],[-76.575596,47.604154],[-76.454455,47.622073],[-76.451946,47.627699],[-76.288937,47.681683],[-76.289692,47.683687],[-76.229669,47.73144],[-75.837584,47.750306],[-75.8341,47.749513],[-75.81342,47.68064],[-75.812205,47.67892],[-75.811202,47.674356],[-75.810177,47.67167],[-75.782192,47.799428],[-75.780107,47.800688],[-75.521078,47.846988]]]},\"properties\":{\"cartodb_id\":10,\"res_co_reg\":7,\"regio_s_id\":12,\"regio_s_\":11,\"res_co_ver\":\"V2012-05\",\"res_co_ref\":\"BDGA1M\",\"res_nm_reg\":\"Outaouais\",\"res_de_ind\":\"R\\u00c3\\u00a9gion administrative\",\"res_no_ind\":\"50 02 0100 000\",\"perimeter\":15.4275800017612,\"area\":3.99614361096536},\"id\":12},{\"type\":\"Feature\",\"geometry\":{\"type\":\"Polygon\",\"coordinates\":[[[-72.07341,47.949997],[-72.123555,47.998509],[-73.017829,47.998663],[-74.471679,48.945649],[-74.420869,48.925683],[-74.41643,48.925868],[-74.402448,48.923826],[-74.396992,48.926784],[-74.279062,49.000026],[-74.289071,49.00669],[-74.227998,49.218962],[-74.314451,49.260076],[-74.314645,49.266932],[-74.372596,49.311446],[-74.372024,49.314222],[-74.407789,49.427228],[-74.247109,49.564582],[-73.895668,49.945404],[-73.896492,49.952643],[-73.778651,50.081098],[-73.750269,50.230163],[-73.74554,50.232972],[-73.551879,50.364399],[-73.541397,50.36738],[-73.306574,50.611597],[-73.30154,50.614383],[-73.149666,50.747545],[-73.019848,50.668756],[-73.01826,50.670501],[-72.863413,50.804071],[-72.85882,50.810156],[-72.855975,50.81184],[-72.842828,50.810644],[-72.75607,50.819404],[-72.751628,50.818176],[-72.602482,50.814747],[-72.601113,50.831484],[-72.599596,50.837254],[-72.598438,50.839056],[-72.541758,50.757474],[-72.533808,50.75494],[-72.534238,50.747853],[-72.53324,50.746069],[-72.509938,50.747318],[-72.500216,50.747245],[-72.376146,50.886885],[-72.370661,50.88857],[-72.161703,50.978119],[-72.118311,51.105061],[-71.837837,51.355642],[-71.583528,51.510729],[-71.57795,51.516338],[-71.570951,51.530783],[-71.572969,51.536908],[-71.580903,51.57797],[-71.57877,51.581075],[-71.616985,51.615556],[-71.612674,51.621228],[-71.551188,51.827533],[-71.376365,51.845963],[-71.246359,52.070431],[-70.967297,52.231721],[-70.961298,52.235813],[-70.279659,52.353398],[-70.277413,52.426716],[-70.273153,52.431986],[-70.219026,52.554111],[-70.227242,52.554116],[-70.237541,52.559448],[-70.237324,52.56694],[-70.216784,52.711207],[-70.029906,52.832544],[-70.02479,52.000079],[-70.025553,50.750063],[-70.010424,49.796526],[-70.010523,49.000001],[-70.018179,48.256731],[-69.871054,48.186107],[-69.956127,48.056784],[-70.172546,48.128806],[-70.263326,47.994919],[-71.41121,47.995934],[-71.379536,47.950024],[-72.07341,47.949997]]]},\"properties\":{\"cartodb_id\":4,\"res_co_reg\":2,\"regio_s_id\":6,\"regio_s_\":5,\"res_co_ver\":\"V2012-05\",\"res_co_ref\":\"BDGA1M\",\"res_nm_reg\":\"Saguenay - Lac-Saint-Jean\",\"res_de_ind\":\"R\\u00e9gion administrative\",\"res_no_ind\":\"50 02 0100 000\",\"perimeter\":19.7857933261279,\"area\":13.298006548304},\"id\":6},{\"type\":\"Feature\",\"geometry\":{\"type\":\"Polygon\",\"coordinates\":[[[-67.153341,49.189062],[-66.563434,49.539165],[-66.295707,49.64523],[-66.000015,49.704048],[-65.395762,49.699742],[-64.910024,49.61016],[-64.595671,49.509706],[-64.163784,49.319935],[-63.600509,48.968992],[-62.999129,48.666683],[-61.749088,48.666663],[-60.468609,48.666663],[-60.403772,47.761098],[-60.762679,47.423328],[-60.991849,47.329432],[-61.350481,47.009723],[-61.399367,46.839999],[-62.299956,46.839999],[-62.98636,47.139728],[-63.791667,48.220564],[-64.421965,48.220568],[-65.111678,47.921103],[-65.536139,47.828607],[-65.606408,47.933611],[-65.858147,48.022234],[-66.302721,48.032746],[-66.452257,48.08721],[-66.699094,48.005315],[-66.916487,47.984707],[-67.209206,47.875818],[-67.392456,47.866956],[-67.598344,48.000066],[-67.5867,48.042391],[-67.588931,48.04974],[-67.666615,48.118412],[-67.374601,48.194887],[-67.277586,48.031515],[-66.879578,48.136958],[-66.974198,48.303186],[-65.948463,48.567122],[-66.537875,48.95834],[-66.698123,48.964179],[-66.698745,48.967353],[-66.70181,48.984814],[-66.700265,48.987354],[-66.83247,48.985116],[-67.153341,49.189062]]]},\"properties\":{\"cartodb_id\":5,\"res_co_reg\":11,\"regio_s_id\":7,\"regio_s_\":6,\"res_co_ver\":\"V2012-05\",\"res_co_ref\":\"BDGA1M\",\"res_nm_reg\":\"Gasp\\u00e9sie-\\u00celes-de-la-Madeleine\",\"res_de_ind\":\"R\\u00e9gion administrative\",\"res_no_ind\":\"50 02 0100 000\",\"perimeter\":20.8678792455471,\"area\":9.48314959730072},\"id\":7},{\"type\":\"Feature\",\"geometry\":{\"type\":\"Polygon\",\"coordinates\":[[[-75.521078,47.846988],[-75.780107,47.800688],[-75.782192,47.799428],[-75.810177,47.67167],[-75.811202,47.674356],[-75.812205,47.67892],[-75.81342,47.68064],[-75.8341,47.749513],[-75.837584,47.750306],[-76.229669,47.73144],[-76.289692,47.683687],[-76.288937,47.681683],[-76.451946,47.627699],[-76.454455,47.622073],[-76.575596,47.604154],[-76.575914,47.289729],[-77.001718,47.289943],[-77.002301,47.145024],[-77.433281,47.144924],[-77.433071,47.290474],[-77.860428,47.239651],[-77.836447,46.934191],[-77.834101,46.926713],[-77.84366,46.896653],[-77.844448,46.886294],[-77.850058,46.884025],[-77.850785,46.891076],[-77.892402,46.853972],[-77.891966,46.844478],[-77.890685,46.842495],[-77.887515,46.836003],[-77.834224,46.771435],[-77.828896,46.764638],[-77.742892,46.409166],[-77.841593,46.20636],[-78.129115,46.272815],[-78.692863,46.31873],[-78.987859,46.547015],[-79.168966,46.823485],[-79.446562,47.110438],[-79.428976,47.240774],[-79.579327,47.432637],[-79.517205,47.533414],[-79.517764,49.009109],[-79.053418,49.000045],[-76.999737,48.999999],[-75.520551,49.000016],[-75.521078,47.846988]]]},\"properties\":{\"cartodb_id\":7,\"res_co_reg\":8,\"regio_s_id\":9,\"regio_s_\":8,\"res_co_ver\":\"V2012-05\",\"res_co_ref\":\"BDGA1M\",\"res_nm_reg\":\"Abitibi-T\\u00e9miscamingue\",\"res_de_ind\":\"R\\u00e9gion administrative\",\"res_no_ind\":\"50 02 0100 000\",\"perimeter\":14.9638243152797,\"area\":7.78473054972107},\"id\":9},{\"type\":\"Feature\",\"geometry\":{\"type\":\"Polygon\",\"coordinates\":[[[-74.471679,48.945649],[-73.017829,47.998663],[-72.123555,47.998509],[-72.07341,47.949997],[-71.890536,47.770179],[-72.238828,47.536571],[-72.145723,47.399614],[-72.239878,47.290108],[-72.50337,47.311941],[-72.540745,47.190662],[-72.435868,47.057484],[-72.167602,46.874224],[-72.392221,46.791376],[-72.082727,46.57015],[-72.198901,46.532325],[-72.21268,46.520967],[-72.267698,46.433635],[-72.936232,46.151217],[-73.216489,46.279333],[-73.167306,46.382865],[-73.333101,46.498727],[-73.536358,46.865513],[-73.543432,46.866338],[-73.570849,46.871483],[-73.573687,46.869887],[-73.66083,46.894617],[-73.65012,46.938033],[-73.853208,47.151075],[-74.028553,47.177965],[-73.975508,47.364768],[-73.972952,47.370797],[-74.511525,47.762906],[-74.889411,47.762619],[-75.521328,47.763314],[-75.521078,47.846988],[-75.520551,49.000016],[-74.55934,48.999925],[-74.471679,48.945649]]]},\"properties\":{\"cartodb_id\":8,\"res_co_reg\":4,\"regio_s_id\":10,\"regio_s_\":9,\"res_co_ver\":\"V2012-05\",\"res_co_ref\":\"BDGA1M\",\"res_nm_reg\":\"Mauricie\",\"res_de_ind\":\"R\\u00e9gion administrative\",\"res_no_ind\":\"50 02 0100 000\",\"perimeter\":13.1966772376706,\"area\":4.78751317999797},\"id\":10},{\"type\":\"Feature\",\"geometry\":{\"type\":\"Polygon\",\"coordinates\":[[[-72.07341,47.949997],[-71.379536,47.950024],[-71.41121,47.995934],[-70.263326,47.994919],[-70.172546,48.128806],[-69.956127,48.056784],[-69.871054,48.186107],[-69.548369,48.049451],[-69.656537,47.99422],[-69.893749,47.701311],[-70.198248,47.411201],[-70.454932,47.253498],[-70.716252,46.993868],[-71.000352,46.84744],[-71.115357,46.839533],[-71.128385,46.8377],[-71.283693,46.746726],[-71.690822,46.649837],[-71.870955,46.677671],[-72.054301,46.570497],[-72.066825,46.569761],[-72.082727,46.57015],[-72.392221,46.791376],[-72.167602,46.874224],[-72.435868,47.057484],[-72.540745,47.190662],[-72.50337,47.311941],[-72.239878,47.290108],[-72.145723,47.399614],[-72.238828,47.536571],[-71.890536,47.770179],[-72.07341,47.949997]]]},\"properties\":{\"cartodb_id\":9,\"res_co_reg\":3,\"regio_s_id\":11,\"regio_s_\":10,\"res_co_ver\":\"V2012-05\",\"res_co_ref\":\"BDGA1M\",\"res_nm_reg\":\"Capitale-Nationale\",\"res_de_ind\":\"R\\u00e9gion administrative\",\"res_no_ind\":\"50 02 0100 000\",\"perimeter\":8.81817210239763,\"area\":2.49937337388851},\"id\":11},{\"type\":\"Feature\",\"geometry\":{\"type\":\"Polygon\",\"coordinates\":[[[-75.521328,47.763314],[-74.889411,47.762619],[-74.5078,47.502208],[-74.507743,47.502935],[-74.619692,47.251113],[-74.415157,47.100723],[-74.57475,46.997571],[-74.427279,46.896617],[-74.508932,46.646535],[-74.508288,46.642451],[-74.503725,46.640022],[-74.499065,46.639045],[-74.491004,46.593768],[-74.488473,46.596463],[-74.445787,46.620477],[-74.423104,46.605517],[-74.38517,46.578771],[-74.376332,46.527668],[-74.477748,46.454113],[-74.412684,46.298891],[-74.182687,46.250042],[-74.03304,46.148714],[-73.935392,45.944243],[-73.937068,45.925236],[-73.759062,45.727893],[-73.761411,45.714365],[-73.744881,45.668642],[-73.895779,45.525458],[-73.977851,45.46442],[-73.990063,45.459525],[-73.996551,45.457488],[-74.339075,45.513261],[-74.380758,45.565982],[-74.629351,45.63829],[-74.807877,45.638399],[-74.714402,45.8879],[-74.939369,46.105915],[-75.408148,46.097566],[-75.408277,45.97322],[-75.748112,45.972435],[-75.788765,46.274808],[-75.745234,46.438231],[-75.747563,46.842662],[-75.896777,46.817864],[-76.130591,46.924539],[-76.091496,47.188543],[-75.796918,47.319068],[-75.558812,47.207758],[-75.308858,47.547632],[-75.521328,47.763314]]]},\"properties\":{\"cartodb_id\":11,\"res_co_reg\":15,\"regio_s_id\":13,\"regio_s_\":12,\"res_co_ver\":\"V2012-05\",\"res_co_ref\":\"BDGA1M\",\"res_nm_reg\":\"Laurentides\",\"res_de_ind\":\"R\\u00e9gion administrative\",\"res_no_ind\":\"50 02 0100 000\",\"perimeter\":12.0473497358836,\"area\":2.64627784216984},\"id\":13},{\"type\":\"Feature\",\"geometry\":{\"type\":\"Polygon\",\"coordinates\":[[[-70.198248,47.411201],[-70.003487,47.278656],[-69.985984,47.285714],[-69.625519,47.06655],[-69.997359,46.695246],[-70.057197,46.416557],[-70.208698,46.329344],[-70.315785,46.020046],[-70.242194,45.938925],[-70.413606,45.795991],[-70.895614,45.780022],[-70.899805,45.886751],[-71.461258,45.816568],[-71.68617,45.966808],[-71.509741,46.137326],[-71.478962,46.395879],[-71.617519,46.451759],[-71.759723,46.363955],[-72.054301,46.570497],[-71.870955,46.677671],[-71.690822,46.649837],[-71.283693,46.746726],[-71.128385,46.8377],[-71.115357,46.839533],[-71.000352,46.84744],[-70.716252,46.993868],[-70.454932,47.253498],[-70.198248,47.411201]]]},\"properties\":{\"cartodb_id\":13,\"res_co_reg\":12,\"regio_s_id\":15,\"regio_s_\":14,\"res_co_ver\":\"V2012-05\",\"res_co_ref\":\"BDGA1M\",\"res_nm_reg\":\"Chaudi\\u00e8re-Appalaches\",\"res_de_ind\":\"R\\u00e9gion administrative\",\"res_no_ind\":\"50 02 0100 000\",\"perimeter\":8.20535335218676,\"area\":1.89098805979165},\"id\":15},{\"type\":\"Feature\",\"geometry\":{\"type\":\"Polygon\",\"coordinates\":[[[-74.889411,47.762619],[-74.511525,47.762906],[-73.972952,47.370797],[-73.975508,47.364768],[-74.028553,47.177965],[-73.853208,47.151075],[-73.65012,46.938033],[-73.66083,46.894617],[-73.573687,46.869887],[-73.570849,46.871483],[-73.543432,46.866338],[-73.536358,46.865513],[-73.333101,46.498727],[-73.167306,46.382865],[-73.216489,46.279333],[-72.936232,46.151217],[-72.992102,46.111805],[-73.158932,46.043609],[-73.290566,45.831375],[-73.474364,45.700024],[-73.523106,45.69786],[-73.744881,45.668642],[-73.761411,45.714365],[-73.759062,45.727893],[-73.937068,45.925236],[-73.935392,45.944243],[-74.03304,46.148714],[-74.182687,46.250042],[-74.412684,46.298891],[-74.477748,46.454113],[-74.376332,46.527668],[-74.38517,46.578771],[-74.423104,46.605517],[-74.445787,46.620477],[-74.488473,46.596463],[-74.491004,46.593768],[-74.499065,46.639045],[-74.503725,46.640022],[-74.508288,46.642451],[-74.508932,46.646535],[-74.427279,46.896617],[-74.57475,46.997571],[-74.415157,47.100723],[-74.619692,47.251113],[-74.507743,47.502935],[-74.5078,47.502208],[-74.889411,47.762619]]]},\"properties\":{\"cartodb_id\":12,\"res_co_reg\":14,\"regio_s_id\":14,\"regio_s_\":13,\"res_co_ver\":\"V2012-05\",\"res_co_ref\":\"BDGA1M\",\"res_nm_reg\":\"Lanaudi\\u00e8re\",\"res_de_ind\":\"R\\u00e9gion administrative\",\"res_no_ind\":\"50 02 0100 000\",\"perimeter\":9.01209725042588,\"area\":1.58700910317102},\"id\":14},{\"type\":\"Feature\",\"geometry\":{\"type\":\"Polygon\",\"coordinates\":[[[-72.992102,46.111805],[-72.752495,45.942799],[-72.852977,45.86388],[-72.577873,45.752622],[-72.315602,45.599234],[-72.350469,45.589009],[-72.359986,45.589036],[-72.454557,45.451383],[-72.403368,45.155766],[-72.485017,45.008814],[-73.068118,45.015872],[-74.148943,44.991358],[-74.495201,45.064735],[-74.318803,45.187976],[-74.472294,45.302813],[-74.380758,45.565982],[-74.339075,45.513261],[-73.996551,45.457488],[-73.822172,45.385406],[-73.559613,45.419082],[-73.474364,45.700024],[-73.290566,45.831375],[-73.158932,46.043609],[-72.992102,46.111805]]]},\"properties\":{\"cartodb_id\":15,\"res_co_reg\":16,\"regio_s_id\":17,\"regio_s_\":16,\"res_co_ver\":\"V2012-05\",\"res_co_ref\":\"BDGA1M\",\"res_nm_reg\":\"Mont\\u00e9r\\u00e9gie\",\"res_de_ind\":\"R\\u00e9gion administrative\",\"res_no_ind\":\"50 02 0100 000\",\"perimeter\":7.09129879389589,\"area\":1.36183178555221},\"id\":17},{\"type\":\"Feature\",\"geometry\":{\"type\":\"Polygon\",\"coordinates\":[[[-71.461258,45.816568],[-70.899805,45.886751],[-70.895614,45.780022],[-70.413606,45.795991],[-70.645443,45.606152],[-70.825525,45.400367],[-71.228181,45.249407],[-71.384778,45.233288],[-71.500556,45.013252],[-72.485017,45.008814],[-72.403368,45.155766],[-72.454557,45.451383],[-72.359986,45.589036],[-72.350469,45.589009],[-72.315602,45.599234],[-72.029639,45.85343],[-71.798933,45.858038],[-71.780876,45.875051],[-71.461258,45.816568]]]},\"properties\":{\"cartodb_id\":16,\"res_co_reg\":5,\"regio_s_id\":18,\"regio_s_\":17,\"res_co_ver\":\"V2012-05\",\"res_co_ref\":\"BDGA1M\",\"res_nm_reg\":\"Estrie\",\"res_de_ind\":\"R\\u00e9gion administrative\",\"res_no_ind\":\"50 02 0100 000\",\"perimeter\":7.28698953467045,\"area\":1.20899519667971},\"id\":18},{\"type\":\"Feature\",\"geometry\":{\"type\":\"Polygon\",\"coordinates\":[[[-70.029906,52.832544],[-70.216784,52.711207],[-70.237324,52.56694],[-70.237541,52.559448],[-70.227242,52.554116],[-70.219026,52.554111],[-70.273153,52.431986],[-70.277413,52.426716],[-70.279659,52.353398],[-70.961298,52.235813],[-70.967297,52.231721],[-71.246359,52.070431],[-71.376365,51.845963],[-71.551188,51.827533],[-71.612674,51.621228],[-71.616985,51.615556],[-71.57877,51.581075],[-71.580903,51.57797],[-71.572969,51.536908],[-71.570951,51.530783],[-71.57795,51.516338],[-71.583528,51.510729],[-71.837837,51.355642],[-72.118311,51.105061],[-72.161703,50.978119],[-72.370661,50.88857],[-72.376146,50.886885],[-72.500216,50.747245],[-72.509938,50.747318],[-72.53324,50.746069],[-72.534238,50.747853],[-72.533808,50.75494],[-72.541758,50.757474],[-72.598438,50.839056],[-72.599596,50.837254],[-72.601113,50.831484],[-72.602482,50.814747],[-72.751628,50.818176],[-72.75607,50.819404],[-72.842828,50.810644],[-72.855975,50.81184],[-72.85882,50.810156],[-72.863413,50.804071],[-73.01826,50.670501],[-73.019848,50.668756],[-73.149666,50.747545],[-73.30154,50.614383],[-73.306574,50.611597],[-73.541397,50.36738],[-73.551879,50.364399],[-73.74554,50.232972],[-73.750269,50.230163],[-73.778651,50.081098],[-73.896492,49.952643],[-73.895668,49.945404],[-74.247109,49.564582],[-74.407789,49.427228],[-74.372024,49.314222],[-74.372596,49.311446],[-74.314645,49.266932],[-74.314451,49.260076],[-74.227998,49.218962],[-74.289071,49.00669],[-74.279062,49.000026],[-74.396992,48.926784],[-74.402448,48.923826],[-74.41643,48.925868],[-74.420869,48.925683],[-74.471679,48.945649],[-74.55934,48.999925],[-75.520551,49.000016],[-76.999737,48.999999],[-79.053418,49.000045],[-79.517764,49.009109],[-79.517778,49.750087],[-79.517782,50.749782],[-79.518348,51.582765],[-79.216599,51.64224],[-78.97984,51.461542],[-78.8012,51.47268],[-78.85079,51.616359],[-79.048087,51.764299],[-78.892221,51.9468],[-78.779781,51.969912],[-78.559298,52.160636],[-78.516069,52.332222],[-78.589509,52.517228],[-78.761621,52.540806],[-78.997057,53.094311],[-78.983656,53.399893],[-79.139357,53.493777],[-79.06147,53.613062],[-79.105933,53.903362],[-79.480179,54.233108],[-79.533899,54.519204],[-79.654207,54.689571],[-79.004662,54.83803],[-78.318669,55.041928],[-77.78361,55.268906],[-77.252517,55.577846],[-77.196747,55.669994],[-76.689674,56.049426],[-76.547842,56.302428],[-76.532224,56.798183],[-76.575855,57.128172],[-76.697944,57.435416],[-77.091539,57.939337],[-77.650514,58.263961],[-78.207122,58.404029],[-78.240246,58.495866],[-78.587222,58.648907],[-78.577592,58.917305],[-77.989747,59.262379],[-77.835235,59.588562],[-77.84815,59.726042],[-77.54479,59.756544],[-77.46729,59.918075],[-77.624387,60.054652],[-77.607278,60.292636],[-78.07599,60.791496],[-78.10992,60.917371],[-77.858235,61.053848],[-77.743741,61.259786],[-77.88746,61.623668],[-78.000007,61.692107],[-78.202012,62.254555],[-78.086497,62.362423],[-77.506116,62.582171],[-76.930718,62.537763],[-76.524456,62.443992],[-75.580695,62.286842],[-75.340345,62.317039],[-74.967923,62.265525],[-74.423074,62.242752],[-74.004542,62.365341],[-73.831326,62.459269],[-73.224515,62.322815],[-73.044368,62.202256],[-72.613396,62.112375],[-72.595276,61.976047],[-72.180093,61.85322],[-72.032175,61.731028],[-71.62851,61.653167],[-71.565604,61.544934],[-71.607302,61.262205],[-71.313338,61.153081],[-70.667132,61.055773],[-70.298932,61.101411],[-69.964086,60.945368],[-69.758506,60.917128],[-69.592277,61.081513],[-69.371593,60.916188],[-69.371451,60.79946],[-69.674783,60.673021],[-69.717298,60.40712],[-69.542288,60.094026],[-69.49501,59.611084],[-69.626464,59.471705],[-69.232263,59.346558],[-69.205631,59.223358],[-68.892257,58.924126],[-68.552048,58.941038],[-68.260454,58.823208],[-68.268268,58.616334],[-68.00256,58.590248],[-67.365056,58.31443],[-66.938354,58.515877],[-66.78029,58.501722],[-66.573738,58.665141],[-66.4834,58.857892],[-66.095088,58.861308],[-65.989371,58.918389],[-65.80651,59.209121],[-65.848893,59.283289],[-65.526989,59.469633],[-65.433076,59.588142],[-65.566606,59.690521],[-65.463741,59.815967],[-65.235871,59.925633],[-65.142601,60.063364],[-64.855821,60.268343],[-64.642658,59.906278],[-64.818186,59.821003],[-64.751401,59.725478],[-64.838986,59.554562],[-64.510789,59.421548],[-64.471064,59.179491],[-64.26522,59.01681],[-64.226498,58.783589],[-63.681534,58.880981],[-63.497759,58.745886],[-63.94783,58.689451],[-64.143259,58.601834],[-63.985802,58.442829],[-64.168456,58.364842],[-64.25609,58.224024],[-64.423654,58.193974],[-64.407753,58.062696],[-64.193215,57.932683],[-63.901728,57.913835],[-63.883302,57.716043],[-63.697963,57.36678],[-63.881318,57.268014],[-63.766982,57.143241],[-63.899353,57.079276],[-63.910478,56.925497],[-64.142895,56.704203],[-63.943953,56.540104],[-63.934837,56.265269],[-64.008251,56.076014],[-63.730528,56.068031],[-63.547381,56.005863],[-63.845131,55.886814],[-63.709229,55.754368],[-63.644633,55.286198],[-63.550617,55.19001],[-63.553921,55.000047],[-64.750002,54.999996],[-66.259781,55.000009],[-66.609089,55.269845],[-66.762782,55.136899],[-66.642917,55.000063],[-68.250018,54.999987],[-70.029883,55.000136],[-70.029708,54.000024],[-70.029906,52.832544]]]},\"properties\":{\"cartodb_id\":19,\"res_co_reg\":10,\"regio_s_id\":1,\"regio_s_\":20,\"res_co_ver\":\"V2012-05\",\"res_co_ref\":\"BDGA1M\",\"res_nm_reg\":\"Nord-du-Qu\\u00e9bec\",\"res_de_ind\":\"R\\u00e9gion administrative\",\"res_no_ind\":\"50 02 0100 000\",\"perimeter\":94.6754067058214,\"area\":124.08686903197},\"id\":1},{\"type\":\"Feature\",\"geometry\":{\"type\":\"Polygon\",\"coordinates\":[[[-73.523106,45.69786],[-73.474364,45.700024],[-73.559613,45.419082],[-73.822172,45.385406],[-73.996551,45.457488],[-73.990063,45.459525],[-73.977851,45.46442],[-73.895779,45.525458],[-73.732746,45.531604],[-73.726358,45.534538],[-73.523106,45.69786]]]},\"properties\":{\"cartodb_id\":17,\"res_co_reg\":6,\"regio_s_id\":19,\"regio_s_\":18,\"res_co_ver\":\"V2012-05\",\"res_co_ref\":\"BDGA1M\",\"res_nm_reg\":\"Montr\\u00e9al\",\"res_de_ind\":\"R\\u00e9gion administrative\",\"res_no_ind\":\"50 02 0100 000\",\"perimeter\":1.46897572891785,\"area\":0.0719384128928997},\"id\":19},{\"type\":\"Feature\",\"geometry\":{\"type\":\"MultiPolygon\",\"coordinates\":[[[[-60.468609,48.666663],[-61.999092,48.666676],[-62.999129,48.666683],[-63.600509,48.968992],[-64.163784,49.319935],[-64.595671,49.509706],[-65.095087,49.652753],[-65.645385,49.717895],[-66.000015,49.704048],[-66.48767,49.575425],[-67.153341,49.189062],[-67.592507,49.078342],[-68.173272,48.881427],[-68.723464,48.621039],[-69.234461,48.291093],[-69.548369,48.049451],[-70.077876,48.252828],[-70.007992,48.357004],[-70.010424,49.796526],[-70.025553,50.750063],[-70.02479,52.000079],[-70.029896,52.916605],[-70.029883,55.000136],[-69,55.000117],[-67.41416,54.994108],[-67.053178,54.695712],[-67.304721,54.514433],[-67.670849,54.446101],[-67.725908,54.334933],[-67.634491,54.159846],[-67.809196,54.017238],[-67.588854,53.917925],[-67.565856,53.794452],[-67.212496,53.539563],[-67.028292,53.533339],[-66.913542,53.420893],[-66.968385,53.203975],[-67.383275,53.08794],[-67.340285,52.893365],[-66.899719,52.686938],[-66.416261,52.846906],[-66.314061,52.732515],[-66.438777,52.623627],[-66.343028,52.398622],[-66.4844,52.348634],[-66.097613,52.200563],[-66.090954,52.108479],[-65.673164,52.120423],[-65.198951,52.260113],[-64.83546,52.034965],[-64.71066,51.873309],[-64.774169,51.804733],[-64.557126,51.580661],[-64.286166,51.727896],[-64.36103,51.864222],[-64.33689,52.009271],[-64.200549,52.176679],[-64.252993,52.274969],[-64.107507,52.407321],[-64.176955,52.585072],[-64.148678,52.728806],[-63.722772,52.773221],[-63.567018,52.944469],[-63.446819,52.944523],[-62.963909,52.758547],[-62.611145,52.79977],[-62.336163,52.736907],[-62.15596,52.780601],[-61.70826,52.573288],[-61.2725,52.513978],[-60.947423,52.36681],[-60.564327,52.318835],[-60.517378,52.454503],[-59.96797,52.496555],[-59.83671,52.662084],[-59.512005,52.612942],[-59.316081,52.626663],[-59.138521,52.516299],[-58.730084,52.481882],[-58.56987,52.652822],[-58.326417,52.690593],[-58.077696,52.544371],[-57.979881,52.431115],[-57.739883,52.370728],[-57.296976,52.09591],[-56.981755,52.030747],[-57.107498,51.805965],[-57.107482,51.202493],[-57.736141,50.998608],[-58.940366,49.84861],[-60,49.112579],[-60.476819,48.781392],[-60.468609,48.666663]]],[[[-66.72991,54.973408],[-66.597631,54.812183],[-66.670161,54.712626],[-66.946476,54.817491],[-67.218818,55.000107],[-66.72991,54.973408]]],[[[-63.563353,54.98803],[-63.786125,54.949003],[-63.909794,54.784361],[-63.763296,54.698498],[-64.052221,54.597304],[-64.324983,54.77317],[-64.600434,54.731281],[-64.964562,54.932565],[-65.427553,54.747206],[-65.679536,54.705263],[-65.919348,54.937431],[-65.374133,55.000096],[-63.563353,54.98803]]],[[[-66.84942,55.306585],[-66.765893,55.248563],[-66.782005,55.041497],[-67.048984,55.230236],[-66.84942,55.306585]]]]},\"properties\":{\"cartodb_id\":1,\"res_co_reg\":9,\"regio_s_id\":2,\"regio_s_\":2,\"res_co_ver\":\"V2012-05\",\"res_co_ref\":\"BDGA1M\",\"res_nm_reg\":\"C\\u00f4te-Nord\",\"res_de_ind\":\"R\\u00e9gion administrative\",\"res_no_ind\":\"50 02 0100 000\",\"perimeter\":0.151935634889039,\"area\":0.000753085700268219},\"id\":2},{\"type\":\"Feature\",\"geometry\":{\"type\":\"Polygon\",\"coordinates\":[[[-67.153341,49.189062],[-66.83247,48.985116],[-66.700265,48.987354],[-66.70181,48.984814],[-66.698745,48.967353],[-66.698123,48.964179],[-66.537875,48.95834],[-65.948463,48.567122],[-66.974198,48.303186],[-66.879578,48.136958],[-67.277586,48.031515],[-67.374601,48.194887],[-67.666615,48.118412],[-67.588931,48.04974],[-67.5867,48.042391],[-67.598344,48.000066],[-68.122856,48.000061],[-68.122785,47.916561],[-68.383141,47.916615],[-68.38295,47.553498],[-68.569408,47.427049],[-69.051087,47.300133],[-69.032042,47.408305],[-69.229788,47.454624],[-69.625519,47.06655],[-69.985984,47.285714],[-70.003487,47.278656],[-70.198248,47.411201],[-69.893749,47.701311],[-69.656537,47.99422],[-69.548369,48.049451],[-69.234461,48.291093],[-68.723464,48.621039],[-68.093746,48.909451],[-67.592507,49.078342],[-67.153341,49.189062]]]},\"properties\":{\"cartodb_id\":6,\"res_co_reg\":1,\"regio_s_id\":8,\"regio_s_\":7,\"res_co_ver\":\"V2012-05\",\"res_co_ref\":\"BDGA1M\",\"res_nm_reg\":\"Bas-Saint-Laurent\",\"res_de_ind\":\"R\\u00e9gion administrative\",\"res_no_ind\":\"50 02 0100 000\",\"perimeter\":11.2654083386742,\"area\":3.43782496715336},\"id\":8},{\"type\":\"Feature\",\"geometry\":{\"type\":\"Polygon\",\"coordinates\":[[[-73.744881,45.668642],[-73.523106,45.69786],[-73.726358,45.534538],[-73.732746,45.531604],[-73.895779,45.525458],[-73.744881,45.668642]]]},\"properties\":{\"cartodb_id\":18,\"res_co_reg\":13,\"regio_s_id\":20,\"regio_s_\":19,\"res_co_ver\":\"V2012-05\",\"res_co_ref\":\"BDGA1M\",\"res_nm_reg\":\"Laval\",\"res_de_ind\":\"R\\u00e9gion administrative\",\"res_no_ind\":\"50 02 0100 000\",\"perimeter\":0.931105008023468,\"area\":0.0307859846863181},\"id\":20},{\"type\":\"Feature\",\"geometry\":{\"type\":\"Polygon\",\"coordinates\":[[[-72.082727,46.57015],[-72.066825,46.569761],[-72.054301,46.570497],[-71.759723,46.363955],[-71.617519,46.451759],[-71.478962,46.395879],[-71.509741,46.137326],[-71.68617,45.966808],[-71.461258,45.816568],[-71.780876,45.875051],[-71.798933,45.858038],[-72.029639,45.85343],[-72.315602,45.599234],[-72.577873,45.752622],[-72.852977,45.86388],[-72.752495,45.942799],[-72.992102,46.111805],[-72.936232,46.151217],[-72.267698,46.433635],[-72.21268,46.520967],[-72.198901,46.532325],[-72.082727,46.57015]]]},\"properties\":{\"cartodb_id\":14,\"res_co_reg\":17,\"regio_s_id\":16,\"regio_s_\":15,\"res_co_ver\":\"V2012-05\",\"res_co_ref\":\"BDGA1M\",\"res_nm_reg\":\"Centre-du-Qu\\u00e9bec\",\"res_de_ind\":\"R\\u00e9gion administrative\",\"res_no_ind\":\"50 02 0100 000\",\"perimeter\":5.40454763380291,\"area\":0.844851321836394},\"id\":16}]},\"hovertemplate\":\"Geographical location=%{location}\\u003cbr\\u003ePET participants=%{customdata[0]}\\u003cbr\\u003eMRI participants=%{customdata[1]}\\u003cbr\\u003eWeighted Average Age=%{z}\\u003cextra\\u003e\\u003c\\u002fextra\\u003e\",\"locations\":[\"Capitale-Nationale\",\"Estrie\",\"Island of Montreal, Quebec City, Laurentians, Lanaudiere, Estrie, Outaouais\",\"Mauricie\",\"Montreal, Bas-Saint-Laurent, Abitibi, Gasp\\u00e9sie, Mauricie\",\"Montreal, Quebec City, Laurentians, Lanaudiere, Estrie, Outaouais\",\"Montreal, Sherbrooke\",\"Montreal, Sherbrooke, Quebec City\",\"Montr\\u00e9al\",\"Mont\\u00e9r\\u00e9gie\",\"Saguenay - Lac-Saint-Jean\",\"Saguenay Lac Saint Jean region, Chicoutimi\",\"Trois-Rivi\\u00e8res, Drummondville\",\"Outaouais\",\"Gasp\\u00e9sie-\\u00celes-de-la-Madeleine\",\"Abitibi-T\\u00e9miscamingue\",\"Laurentides\",\"Chaudi\\u00e8re-Appalaches\",\"Lanaudi\\u00e8re\",\"Nord-du-Qu\\u00e9bec\",\"C\\u00f4te-Nord\",\"Bas-Saint-Laurent\",\"Laval\",\"Centre-du-Qu\\u00e9bec\"],\"name\":\"\",\"z\":[47.88815130830489,35.073645569620254,0.0,23.4,7.0,3.625,67.16428571428571,72.01135135135134,30.984710753963025,65.5,15.7,15.02,81.6,0.0,0.0,0.0,0.0,0.0,0.0,0.0,0.0,0.0,0.0,0.0],\"type\":\"choropleth\"}],                        {\"template\":{\"data\":{\"histogram2dcontour\":[{\"type\":\"histogram2dcontour\",\"colorbar\":{\"outlinewidth\":0,\"ticks\":\"\"},\"colorscale\":[[0.0,\"#0d0887\"],[0.1111111111111111,\"#46039f\"],[0.2222222222222222,\"#7201a8\"],[0.3333333333333333,\"#9c179e\"],[0.4444444444444444,\"#bd3786\"],[0.5555555555555556,\"#d8576b\"],[0.6666666666666666,\"#ed7953\"],[0.7777777777777778,\"#fb9f3a\"],[0.8888888888888888,\"#fdca26\"],[1.0,\"#f0f921\"]]}],\"choropleth\":[{\"type\":\"choropleth\",\"colorbar\":{\"outlinewidth\":0,\"ticks\":\"\"}}],\"histogram2d\":[{\"type\":\"histogram2d\",\"colorbar\":{\"outlinewidth\":0,\"ticks\":\"\"},\"colorscale\":[[0.0,\"#0d0887\"],[0.1111111111111111,\"#46039f\"],[0.2222222222222222,\"#7201a8\"],[0.3333333333333333,\"#9c179e\"],[0.4444444444444444,\"#bd3786\"],[0.5555555555555556,\"#d8576b\"],[0.6666666666666666,\"#ed7953\"],[0.7777777777777778,\"#fb9f3a\"],[0.8888888888888888,\"#fdca26\"],[1.0,\"#f0f921\"]]}],\"heatmap\":[{\"type\":\"heatmap\",\"colorbar\":{\"outlinewidth\":0,\"ticks\":\"\"},\"colorscale\":[[0.0,\"#0d0887\"],[0.1111111111111111,\"#46039f\"],[0.2222222222222222,\"#7201a8\"],[0.3333333333333333,\"#9c179e\"],[0.4444444444444444,\"#bd3786\"],[0.5555555555555556,\"#d8576b\"],[0.6666666666666666,\"#ed7953\"],[0.7777777777777778,\"#fb9f3a\"],[0.8888888888888888,\"#fdca26\"],[1.0,\"#f0f921\"]]}],\"heatmapgl\":[{\"type\":\"heatmapgl\",\"colorbar\":{\"outlinewidth\":0,\"ticks\":\"\"},\"colorscale\":[[0.0,\"#0d0887\"],[0.1111111111111111,\"#46039f\"],[0.2222222222222222,\"#7201a8\"],[0.3333333333333333,\"#9c179e\"],[0.4444444444444444,\"#bd3786\"],[0.5555555555555556,\"#d8576b\"],[0.6666666666666666,\"#ed7953\"],[0.7777777777777778,\"#fb9f3a\"],[0.8888888888888888,\"#fdca26\"],[1.0,\"#f0f921\"]]}],\"contourcarpet\":[{\"type\":\"contourcarpet\",\"colorbar\":{\"outlinewidth\":0,\"ticks\":\"\"}}],\"contour\":[{\"type\":\"contour\",\"colorbar\":{\"outlinewidth\":0,\"ticks\":\"\"},\"colorscale\":[[0.0,\"#0d0887\"],[0.1111111111111111,\"#46039f\"],[0.2222222222222222,\"#7201a8\"],[0.3333333333333333,\"#9c179e\"],[0.4444444444444444,\"#bd3786\"],[0.5555555555555556,\"#d8576b\"],[0.6666666666666666,\"#ed7953\"],[0.7777777777777778,\"#fb9f3a\"],[0.8888888888888888,\"#fdca26\"],[1.0,\"#f0f921\"]]}],\"surface\":[{\"type\":\"surface\",\"colorbar\":{\"outlinewidth\":0,\"ticks\":\"\"},\"colorscale\":[[0.0,\"#0d0887\"],[0.1111111111111111,\"#46039f\"],[0.2222222222222222,\"#7201a8\"],[0.3333333333333333,\"#9c179e\"],[0.4444444444444444,\"#bd3786\"],[0.5555555555555556,\"#d8576b\"],[0.6666666666666666,\"#ed7953\"],[0.7777777777777778,\"#fb9f3a\"],[0.8888888888888888,\"#fdca26\"],[1.0,\"#f0f921\"]]}],\"mesh3d\":[{\"type\":\"mesh3d\",\"colorbar\":{\"outlinewidth\":0,\"ticks\":\"\"}}],\"scatter\":[{\"fillpattern\":{\"fillmode\":\"overlay\",\"size\":10,\"solidity\":0.2},\"type\":\"scatter\"}],\"parcoords\":[{\"type\":\"parcoords\",\"line\":{\"colorbar\":{\"outlinewidth\":0,\"ticks\":\"\"}}}],\"scatterpolargl\":[{\"type\":\"scatterpolargl\",\"marker\":{\"colorbar\":{\"outlinewidth\":0,\"ticks\":\"\"}}}],\"bar\":[{\"error_x\":{\"color\":\"#2a3f5f\"},\"error_y\":{\"color\":\"#2a3f5f\"},\"marker\":{\"line\":{\"color\":\"#E5ECF6\",\"width\":0.5},\"pattern\":{\"fillmode\":\"overlay\",\"size\":10,\"solidity\":0.2}},\"type\":\"bar\"}],\"scattergeo\":[{\"type\":\"scattergeo\",\"marker\":{\"colorbar\":{\"outlinewidth\":0,\"ticks\":\"\"}}}],\"scatterpolar\":[{\"type\":\"scatterpolar\",\"marker\":{\"colorbar\":{\"outlinewidth\":0,\"ticks\":\"\"}}}],\"histogram\":[{\"marker\":{\"pattern\":{\"fillmode\":\"overlay\",\"size\":10,\"solidity\":0.2}},\"type\":\"histogram\"}],\"scattergl\":[{\"type\":\"scattergl\",\"marker\":{\"colorbar\":{\"outlinewidth\":0,\"ticks\":\"\"}}}],\"scatter3d\":[{\"type\":\"scatter3d\",\"line\":{\"colorbar\":{\"outlinewidth\":0,\"ticks\":\"\"}},\"marker\":{\"colorbar\":{\"outlinewidth\":0,\"ticks\":\"\"}}}],\"scattermapbox\":[{\"type\":\"scattermapbox\",\"marker\":{\"colorbar\":{\"outlinewidth\":0,\"ticks\":\"\"}}}],\"scatterternary\":[{\"type\":\"scatterternary\",\"marker\":{\"colorbar\":{\"outlinewidth\":0,\"ticks\":\"\"}}}],\"scattercarpet\":[{\"type\":\"scattercarpet\",\"marker\":{\"colorbar\":{\"outlinewidth\":0,\"ticks\":\"\"}}}],\"carpet\":[{\"aaxis\":{\"endlinecolor\":\"#2a3f5f\",\"gridcolor\":\"white\",\"linecolor\":\"white\",\"minorgridcolor\":\"white\",\"startlinecolor\":\"#2a3f5f\"},\"baxis\":{\"endlinecolor\":\"#2a3f5f\",\"gridcolor\":\"white\",\"linecolor\":\"white\",\"minorgridcolor\":\"white\",\"startlinecolor\":\"#2a3f5f\"},\"type\":\"carpet\"}],\"table\":[{\"cells\":{\"fill\":{\"color\":\"#EBF0F8\"},\"line\":{\"color\":\"white\"}},\"header\":{\"fill\":{\"color\":\"#C8D4E3\"},\"line\":{\"color\":\"white\"}},\"type\":\"table\"}],\"barpolar\":[{\"marker\":{\"line\":{\"color\":\"#E5ECF6\",\"width\":0.5},\"pattern\":{\"fillmode\":\"overlay\",\"size\":10,\"solidity\":0.2}},\"type\":\"barpolar\"}],\"pie\":[{\"automargin\":true,\"type\":\"pie\"}]},\"layout\":{\"autotypenumbers\":\"strict\",\"colorway\":[\"#636efa\",\"#EF553B\",\"#00cc96\",\"#ab63fa\",\"#FFA15A\",\"#19d3f3\",\"#FF6692\",\"#B6E880\",\"#FF97FF\",\"#FECB52\"],\"font\":{\"color\":\"#2a3f5f\"},\"hovermode\":\"closest\",\"hoverlabel\":{\"align\":\"left\"},\"paper_bgcolor\":\"white\",\"plot_bgcolor\":\"#E5ECF6\",\"polar\":{\"bgcolor\":\"#E5ECF6\",\"angularaxis\":{\"gridcolor\":\"white\",\"linecolor\":\"white\",\"ticks\":\"\"},\"radialaxis\":{\"gridcolor\":\"white\",\"linecolor\":\"white\",\"ticks\":\"\"}},\"ternary\":{\"bgcolor\":\"#E5ECF6\",\"aaxis\":{\"gridcolor\":\"white\",\"linecolor\":\"white\",\"ticks\":\"\"},\"baxis\":{\"gridcolor\":\"white\",\"linecolor\":\"white\",\"ticks\":\"\"},\"caxis\":{\"gridcolor\":\"white\",\"linecolor\":\"white\",\"ticks\":\"\"}},\"coloraxis\":{\"colorbar\":{\"outlinewidth\":0,\"ticks\":\"\"}},\"colorscale\":{\"sequential\":[[0.0,\"#0d0887\"],[0.1111111111111111,\"#46039f\"],[0.2222222222222222,\"#7201a8\"],[0.3333333333333333,\"#9c179e\"],[0.4444444444444444,\"#bd3786\"],[0.5555555555555556,\"#d8576b\"],[0.6666666666666666,\"#ed7953\"],[0.7777777777777778,\"#fb9f3a\"],[0.8888888888888888,\"#fdca26\"],[1.0,\"#f0f921\"]],\"sequentialminus\":[[0.0,\"#0d0887\"],[0.1111111111111111,\"#46039f\"],[0.2222222222222222,\"#7201a8\"],[0.3333333333333333,\"#9c179e\"],[0.4444444444444444,\"#bd3786\"],[0.5555555555555556,\"#d8576b\"],[0.6666666666666666,\"#ed7953\"],[0.7777777777777778,\"#fb9f3a\"],[0.8888888888888888,\"#fdca26\"],[1.0,\"#f0f921\"]],\"diverging\":[[0,\"#8e0152\"],[0.1,\"#c51b7d\"],[0.2,\"#de77ae\"],[0.3,\"#f1b6da\"],[0.4,\"#fde0ef\"],[0.5,\"#f7f7f7\"],[0.6,\"#e6f5d0\"],[0.7,\"#b8e186\"],[0.8,\"#7fbc41\"],[0.9,\"#4d9221\"],[1,\"#276419\"]]},\"xaxis\":{\"gridcolor\":\"white\",\"linecolor\":\"white\",\"ticks\":\"\",\"title\":{\"standoff\":15},\"zerolinecolor\":\"white\",\"automargin\":true,\"zerolinewidth\":2},\"yaxis\":{\"gridcolor\":\"white\",\"linecolor\":\"white\",\"ticks\":\"\",\"title\":{\"standoff\":15},\"zerolinecolor\":\"white\",\"automargin\":true,\"zerolinewidth\":2},\"scene\":{\"xaxis\":{\"backgroundcolor\":\"#E5ECF6\",\"gridcolor\":\"white\",\"linecolor\":\"white\",\"showbackground\":true,\"ticks\":\"\",\"zerolinecolor\":\"white\",\"gridwidth\":2},\"yaxis\":{\"backgroundcolor\":\"#E5ECF6\",\"gridcolor\":\"white\",\"linecolor\":\"white\",\"showbackground\":true,\"ticks\":\"\",\"zerolinecolor\":\"white\",\"gridwidth\":2},\"zaxis\":{\"backgroundcolor\":\"#E5ECF6\",\"gridcolor\":\"white\",\"linecolor\":\"white\",\"showbackground\":true,\"ticks\":\"\",\"zerolinecolor\":\"white\",\"gridwidth\":2}},\"shapedefaults\":{\"line\":{\"color\":\"#2a3f5f\"}},\"annotationdefaults\":{\"arrowcolor\":\"#2a3f5f\",\"arrowhead\":0,\"arrowwidth\":1},\"geo\":{\"bgcolor\":\"white\",\"landcolor\":\"#E5ECF6\",\"subunitcolor\":\"white\",\"showland\":true,\"showlakes\":true,\"lakecolor\":\"white\"},\"title\":{\"x\":0.05},\"mapbox\":{\"style\":\"light\"}}},\"geo\":{\"domain\":{\"x\":[0.0,1.0],\"y\":[0.0,1.0]},\"projection\":{\"type\":\"mercator\"},\"center\":{},\"fitbounds\":\"locations\",\"visible\":true},\"coloraxis\":{\"colorbar\":{\"title\":{\"text\":\"Weighted Average Age\"}},\"colorscale\":[[0.0,\"#0d0887\"],[0.1111111111111111,\"#46039f\"],[0.2222222222222222,\"#7201a8\"],[0.3333333333333333,\"#9c179e\"],[0.4444444444444444,\"#bd3786\"],[0.5555555555555556,\"#d8576b\"],[0.6666666666666666,\"#ed7953\"],[0.7777777777777778,\"#fb9f3a\"],[0.8888888888888888,\"#fdca26\"],[1.0,\"#f0f921\"]]},\"legend\":{\"tracegroupgap\":0},\"margin\":{\"t\":0,\"r\":0,\"l\":0,\"b\":0}},                        {\"responsive\": true}                    ).then(function(){\n                            \nvar gd = document.getElementById('3afed422-c6ec-4198-82a6-ce12c087c9cf');\nvar x = new MutationObserver(function (mutations, observer) {{\n        var display = window.getComputedStyle(gd).display;\n        if (!display || display === 'none') {{\n            console.log([gd, 'removed!']);\n            Plotly.purge(gd);\n            observer.disconnect();\n        }}\n}});\n\n// Listen for the removal of the full notebook cells\nvar notebookContainer = gd.closest('#notebook-container');\nif (notebookContainer) {{\n    x.observe(notebookContainer, {childList: true});\n}}\n\n// Listen for the clearing of the current output cell\nvar outputEl = gd.closest('.output');\nif (outputEl) {{\n    x.observe(outputEl, {childList: true});\n}}\n\n                        })                };                });            </script>        </div>"
     },
     "metadata": {},
     "output_type": "display_data"
    }
   ],
   "source": [
    "# Display study data on maps using a choropleth graph\n",
    "fig = px.choropleth(sum_by_locations, geojson=geojson, color=\"Weighted Average Age\",\n",
    "                    locations=\"Geographical location\", featureidkey=\"properties.res_nm_reg\",\n",
    "                    projection=\"mercator\", hover_data=[\"PET participants\", \"MRI participants\", \"Weighted Average Age\"]\n",
    "                   )\n",
    "fig.update_geos(fitbounds=\"locations\", visible=True)\n",
    "fig.update_layout(margin={\"r\":0,\"t\":0,\"l\":0,\"b\":0})\n",
    "fig.show()"
   ],
   "metadata": {
    "collapsed": false,
    "ExecuteTime": {
     "end_time": "2024-11-11T16:31:57.736068Z",
     "start_time": "2024-11-11T16:31:57.727913Z"
    }
   },
   "id": "9d1ae997cd0e96c0"
  },
  {
   "cell_type": "code",
   "execution_count": 139,
   "id": "0855f956-8666-47d4-bc96-663a4dbb1e12",
   "metadata": {
    "ExecuteTime": {
     "end_time": "2024-11-11T16:31:59.940654Z",
     "start_time": "2024-11-11T16:31:59.924234Z"
    }
   },
   "outputs": [
    {
     "data": {
      "application/vnd.plotly.v1+json": {
       "data": [
        {
         "coloraxis": "coloraxis",
         "customdata": [
          [
           158.0,
           1712.0,
           47.88815130830489
          ],
          [
           612.0,
           1859.0,
           35.073645569620254
          ],
          [
           0.0,
           0.0,
           0.0
          ],
          [
           0.0,
           44.0,
           23.4
          ],
          [
           0.0,
           5.0,
           7.0
          ],
          [
           0.0,
           126.0,
           3.625
          ],
          [
           0.0,
           140.0,
           67.16428571428571
          ],
          [
           29.0,
           370.0,
           72.01135135135134
          ],
          [
           6083.0,
           52228.0,
           30.984710753963025
          ],
          [
           0.0,
           356.0,
           65.5
          ],
          [
           0.0,
           378.0,
           15.7
          ],
          [
           0.0,
           1029.0,
           15.02
          ],
          [
           0.0,
           5.0,
           81.6
          ],
          [
           0.0,
           0.0,
           0.0
          ],
          [
           0.0,
           0.0,
           0.0
          ],
          [
           0.0,
           0.0,
           0.0
          ],
          [
           0.0,
           0.0,
           0.0
          ],
          [
           0.0,
           0.0,
           0.0
          ],
          [
           0.0,
           0.0,
           0.0
          ],
          [
           0.0,
           0.0,
           0.0
          ],
          [
           0.0,
           0.0,
           0.0
          ],
          [
           0.0,
           0.0,
           0.0
          ],
          [
           0.0,
           0.0,
           0.0
          ],
          [
           0.0,
           0.0,
           0.0
          ]
         ],
         "featureidkey": "properties.res_nm_reg",
         "geojson": {
          "type": "FeatureCollection",
          "features": [
           {
            "type": "Feature",
            "geometry": {
             "type": "Polygon",
             "coordinates": [
              [
               [
                -75.521078,
                47.846988
               ],
               [
                -75.521328,
                47.763314
               ],
               [
                -75.308858,
                47.547632
               ],
               [
                -75.558812,
                47.207758
               ],
               [
                -75.796918,
                47.319068
               ],
               [
                -76.091496,
                47.188543
               ],
               [
                -76.130591,
                46.924539
               ],
               [
                -75.896777,
                46.817864
               ],
               [
                -75.747563,
                46.842662
               ],
               [
                -75.745234,
                46.438231
               ],
               [
                -75.788765,
                46.274808
               ],
               [
                -75.748112,
                45.972435
               ],
               [
                -75.408277,
                45.97322
               ],
               [
                -75.408148,
                46.097566
               ],
               [
                -74.939369,
                46.105915
               ],
               [
                -74.714402,
                45.8879
               ],
               [
                -74.807877,
                45.638399
               ],
               [
                -75.683908,
                45.459147
               ],
               [
                -75.863327,
                45.378637
               ],
               [
                -75.959496,
                45.465951
               ],
               [
                -76.205678,
                45.51791
               ],
               [
                -76.347222,
                45.456245
               ],
               [
                -76.656641,
                45.558558
               ],
               [
                -76.782695,
                45.874218
               ],
               [
                -76.993624,
                45.787639
               ],
               [
                -77.194378,
                45.86903
               ],
               [
                -77.277882,
                46.009395
               ],
               [
                -77.568477,
                46.157865
               ],
               [
                -77.841593,
                46.20636
               ],
               [
                -77.742892,
                46.409166
               ],
               [
                -77.828896,
                46.764638
               ],
               [
                -77.834224,
                46.771435
               ],
               [
                -77.887515,
                46.836003
               ],
               [
                -77.890685,
                46.842495
               ],
               [
                -77.891966,
                46.844478
               ],
               [
                -77.892402,
                46.853972
               ],
               [
                -77.850785,
                46.891076
               ],
               [
                -77.850058,
                46.884025
               ],
               [
                -77.844448,
                46.886294
               ],
               [
                -77.84366,
                46.896653
               ],
               [
                -77.834101,
                46.926713
               ],
               [
                -77.836447,
                46.934191
               ],
               [
                -77.860428,
                47.239651
               ],
               [
                -77.433071,
                47.290474
               ],
               [
                -77.433281,
                47.144924
               ],
               [
                -77.002301,
                47.145024
               ],
               [
                -77.001718,
                47.289943
               ],
               [
                -76.575914,
                47.289729
               ],
               [
                -76.575596,
                47.604154
               ],
               [
                -76.454455,
                47.622073
               ],
               [
                -76.451946,
                47.627699
               ],
               [
                -76.288937,
                47.681683
               ],
               [
                -76.289692,
                47.683687
               ],
               [
                -76.229669,
                47.73144
               ],
               [
                -75.837584,
                47.750306
               ],
               [
                -75.8341,
                47.749513
               ],
               [
                -75.81342,
                47.68064
               ],
               [
                -75.812205,
                47.67892
               ],
               [
                -75.811202,
                47.674356
               ],
               [
                -75.810177,
                47.67167
               ],
               [
                -75.782192,
                47.799428
               ],
               [
                -75.780107,
                47.800688
               ],
               [
                -75.521078,
                47.846988
               ]
              ]
             ]
            },
            "properties": {
             "cartodb_id": 10,
             "res_co_reg": 7,
             "regio_s_id": 12,
             "regio_s_": 11,
             "res_co_ver": "V2012-05",
             "res_co_ref": "BDGA1M",
             "res_nm_reg": "Outaouais",
             "res_de_ind": "RÃ©gion administrative",
             "res_no_ind": "50 02 0100 000",
             "perimeter": 15.4275800017612,
             "area": 3.99614361096536
            },
            "id": 12
           },
           {
            "type": "Feature",
            "geometry": {
             "type": "Polygon",
             "coordinates": [
              [
               [
                -72.07341,
                47.949997
               ],
               [
                -72.123555,
                47.998509
               ],
               [
                -73.017829,
                47.998663
               ],
               [
                -74.471679,
                48.945649
               ],
               [
                -74.420869,
                48.925683
               ],
               [
                -74.41643,
                48.925868
               ],
               [
                -74.402448,
                48.923826
               ],
               [
                -74.396992,
                48.926784
               ],
               [
                -74.279062,
                49.000026
               ],
               [
                -74.289071,
                49.00669
               ],
               [
                -74.227998,
                49.218962
               ],
               [
                -74.314451,
                49.260076
               ],
               [
                -74.314645,
                49.266932
               ],
               [
                -74.372596,
                49.311446
               ],
               [
                -74.372024,
                49.314222
               ],
               [
                -74.407789,
                49.427228
               ],
               [
                -74.247109,
                49.564582
               ],
               [
                -73.895668,
                49.945404
               ],
               [
                -73.896492,
                49.952643
               ],
               [
                -73.778651,
                50.081098
               ],
               [
                -73.750269,
                50.230163
               ],
               [
                -73.74554,
                50.232972
               ],
               [
                -73.551879,
                50.364399
               ],
               [
                -73.541397,
                50.36738
               ],
               [
                -73.306574,
                50.611597
               ],
               [
                -73.30154,
                50.614383
               ],
               [
                -73.149666,
                50.747545
               ],
               [
                -73.019848,
                50.668756
               ],
               [
                -73.01826,
                50.670501
               ],
               [
                -72.863413,
                50.804071
               ],
               [
                -72.85882,
                50.810156
               ],
               [
                -72.855975,
                50.81184
               ],
               [
                -72.842828,
                50.810644
               ],
               [
                -72.75607,
                50.819404
               ],
               [
                -72.751628,
                50.818176
               ],
               [
                -72.602482,
                50.814747
               ],
               [
                -72.601113,
                50.831484
               ],
               [
                -72.599596,
                50.837254
               ],
               [
                -72.598438,
                50.839056
               ],
               [
                -72.541758,
                50.757474
               ],
               [
                -72.533808,
                50.75494
               ],
               [
                -72.534238,
                50.747853
               ],
               [
                -72.53324,
                50.746069
               ],
               [
                -72.509938,
                50.747318
               ],
               [
                -72.500216,
                50.747245
               ],
               [
                -72.376146,
                50.886885
               ],
               [
                -72.370661,
                50.88857
               ],
               [
                -72.161703,
                50.978119
               ],
               [
                -72.118311,
                51.105061
               ],
               [
                -71.837837,
                51.355642
               ],
               [
                -71.583528,
                51.510729
               ],
               [
                -71.57795,
                51.516338
               ],
               [
                -71.570951,
                51.530783
               ],
               [
                -71.572969,
                51.536908
               ],
               [
                -71.580903,
                51.57797
               ],
               [
                -71.57877,
                51.581075
               ],
               [
                -71.616985,
                51.615556
               ],
               [
                -71.612674,
                51.621228
               ],
               [
                -71.551188,
                51.827533
               ],
               [
                -71.376365,
                51.845963
               ],
               [
                -71.246359,
                52.070431
               ],
               [
                -70.967297,
                52.231721
               ],
               [
                -70.961298,
                52.235813
               ],
               [
                -70.279659,
                52.353398
               ],
               [
                -70.277413,
                52.426716
               ],
               [
                -70.273153,
                52.431986
               ],
               [
                -70.219026,
                52.554111
               ],
               [
                -70.227242,
                52.554116
               ],
               [
                -70.237541,
                52.559448
               ],
               [
                -70.237324,
                52.56694
               ],
               [
                -70.216784,
                52.711207
               ],
               [
                -70.029906,
                52.832544
               ],
               [
                -70.02479,
                52.000079
               ],
               [
                -70.025553,
                50.750063
               ],
               [
                -70.010424,
                49.796526
               ],
               [
                -70.010523,
                49.000001
               ],
               [
                -70.018179,
                48.256731
               ],
               [
                -69.871054,
                48.186107
               ],
               [
                -69.956127,
                48.056784
               ],
               [
                -70.172546,
                48.128806
               ],
               [
                -70.263326,
                47.994919
               ],
               [
                -71.41121,
                47.995934
               ],
               [
                -71.379536,
                47.950024
               ],
               [
                -72.07341,
                47.949997
               ]
              ]
             ]
            },
            "properties": {
             "cartodb_id": 4,
             "res_co_reg": 2,
             "regio_s_id": 6,
             "regio_s_": 5,
             "res_co_ver": "V2012-05",
             "res_co_ref": "BDGA1M",
             "res_nm_reg": "Saguenay - Lac-Saint-Jean",
             "res_de_ind": "Région administrative",
             "res_no_ind": "50 02 0100 000",
             "perimeter": 19.7857933261279,
             "area": 13.298006548304
            },
            "id": 6
           },
           {
            "type": "Feature",
            "geometry": {
             "type": "Polygon",
             "coordinates": [
              [
               [
                -67.153341,
                49.189062
               ],
               [
                -66.563434,
                49.539165
               ],
               [
                -66.295707,
                49.64523
               ],
               [
                -66.000015,
                49.704048
               ],
               [
                -65.395762,
                49.699742
               ],
               [
                -64.910024,
                49.61016
               ],
               [
                -64.595671,
                49.509706
               ],
               [
                -64.163784,
                49.319935
               ],
               [
                -63.600509,
                48.968992
               ],
               [
                -62.999129,
                48.666683
               ],
               [
                -61.749088,
                48.666663
               ],
               [
                -60.468609,
                48.666663
               ],
               [
                -60.403772,
                47.761098
               ],
               [
                -60.762679,
                47.423328
               ],
               [
                -60.991849,
                47.329432
               ],
               [
                -61.350481,
                47.009723
               ],
               [
                -61.399367,
                46.839999
               ],
               [
                -62.299956,
                46.839999
               ],
               [
                -62.98636,
                47.139728
               ],
               [
                -63.791667,
                48.220564
               ],
               [
                -64.421965,
                48.220568
               ],
               [
                -65.111678,
                47.921103
               ],
               [
                -65.536139,
                47.828607
               ],
               [
                -65.606408,
                47.933611
               ],
               [
                -65.858147,
                48.022234
               ],
               [
                -66.302721,
                48.032746
               ],
               [
                -66.452257,
                48.08721
               ],
               [
                -66.699094,
                48.005315
               ],
               [
                -66.916487,
                47.984707
               ],
               [
                -67.209206,
                47.875818
               ],
               [
                -67.392456,
                47.866956
               ],
               [
                -67.598344,
                48.000066
               ],
               [
                -67.5867,
                48.042391
               ],
               [
                -67.588931,
                48.04974
               ],
               [
                -67.666615,
                48.118412
               ],
               [
                -67.374601,
                48.194887
               ],
               [
                -67.277586,
                48.031515
               ],
               [
                -66.879578,
                48.136958
               ],
               [
                -66.974198,
                48.303186
               ],
               [
                -65.948463,
                48.567122
               ],
               [
                -66.537875,
                48.95834
               ],
               [
                -66.698123,
                48.964179
               ],
               [
                -66.698745,
                48.967353
               ],
               [
                -66.70181,
                48.984814
               ],
               [
                -66.700265,
                48.987354
               ],
               [
                -66.83247,
                48.985116
               ],
               [
                -67.153341,
                49.189062
               ]
              ]
             ]
            },
            "properties": {
             "cartodb_id": 5,
             "res_co_reg": 11,
             "regio_s_id": 7,
             "regio_s_": 6,
             "res_co_ver": "V2012-05",
             "res_co_ref": "BDGA1M",
             "res_nm_reg": "Gaspésie-Îles-de-la-Madeleine",
             "res_de_ind": "Région administrative",
             "res_no_ind": "50 02 0100 000",
             "perimeter": 20.8678792455471,
             "area": 9.48314959730072
            },
            "id": 7
           },
           {
            "type": "Feature",
            "geometry": {
             "type": "Polygon",
             "coordinates": [
              [
               [
                -75.521078,
                47.846988
               ],
               [
                -75.780107,
                47.800688
               ],
               [
                -75.782192,
                47.799428
               ],
               [
                -75.810177,
                47.67167
               ],
               [
                -75.811202,
                47.674356
               ],
               [
                -75.812205,
                47.67892
               ],
               [
                -75.81342,
                47.68064
               ],
               [
                -75.8341,
                47.749513
               ],
               [
                -75.837584,
                47.750306
               ],
               [
                -76.229669,
                47.73144
               ],
               [
                -76.289692,
                47.683687
               ],
               [
                -76.288937,
                47.681683
               ],
               [
                -76.451946,
                47.627699
               ],
               [
                -76.454455,
                47.622073
               ],
               [
                -76.575596,
                47.604154
               ],
               [
                -76.575914,
                47.289729
               ],
               [
                -77.001718,
                47.289943
               ],
               [
                -77.002301,
                47.145024
               ],
               [
                -77.433281,
                47.144924
               ],
               [
                -77.433071,
                47.290474
               ],
               [
                -77.860428,
                47.239651
               ],
               [
                -77.836447,
                46.934191
               ],
               [
                -77.834101,
                46.926713
               ],
               [
                -77.84366,
                46.896653
               ],
               [
                -77.844448,
                46.886294
               ],
               [
                -77.850058,
                46.884025
               ],
               [
                -77.850785,
                46.891076
               ],
               [
                -77.892402,
                46.853972
               ],
               [
                -77.891966,
                46.844478
               ],
               [
                -77.890685,
                46.842495
               ],
               [
                -77.887515,
                46.836003
               ],
               [
                -77.834224,
                46.771435
               ],
               [
                -77.828896,
                46.764638
               ],
               [
                -77.742892,
                46.409166
               ],
               [
                -77.841593,
                46.20636
               ],
               [
                -78.129115,
                46.272815
               ],
               [
                -78.692863,
                46.31873
               ],
               [
                -78.987859,
                46.547015
               ],
               [
                -79.168966,
                46.823485
               ],
               [
                -79.446562,
                47.110438
               ],
               [
                -79.428976,
                47.240774
               ],
               [
                -79.579327,
                47.432637
               ],
               [
                -79.517205,
                47.533414
               ],
               [
                -79.517764,
                49.009109
               ],
               [
                -79.053418,
                49.000045
               ],
               [
                -76.999737,
                48.999999
               ],
               [
                -75.520551,
                49.000016
               ],
               [
                -75.521078,
                47.846988
               ]
              ]
             ]
            },
            "properties": {
             "cartodb_id": 7,
             "res_co_reg": 8,
             "regio_s_id": 9,
             "regio_s_": 8,
             "res_co_ver": "V2012-05",
             "res_co_ref": "BDGA1M",
             "res_nm_reg": "Abitibi-Témiscamingue",
             "res_de_ind": "Région administrative",
             "res_no_ind": "50 02 0100 000",
             "perimeter": 14.9638243152797,
             "area": 7.78473054972107
            },
            "id": 9
           },
           {
            "type": "Feature",
            "geometry": {
             "type": "Polygon",
             "coordinates": [
              [
               [
                -74.471679,
                48.945649
               ],
               [
                -73.017829,
                47.998663
               ],
               [
                -72.123555,
                47.998509
               ],
               [
                -72.07341,
                47.949997
               ],
               [
                -71.890536,
                47.770179
               ],
               [
                -72.238828,
                47.536571
               ],
               [
                -72.145723,
                47.399614
               ],
               [
                -72.239878,
                47.290108
               ],
               [
                -72.50337,
                47.311941
               ],
               [
                -72.540745,
                47.190662
               ],
               [
                -72.435868,
                47.057484
               ],
               [
                -72.167602,
                46.874224
               ],
               [
                -72.392221,
                46.791376
               ],
               [
                -72.082727,
                46.57015
               ],
               [
                -72.198901,
                46.532325
               ],
               [
                -72.21268,
                46.520967
               ],
               [
                -72.267698,
                46.433635
               ],
               [
                -72.936232,
                46.151217
               ],
               [
                -73.216489,
                46.279333
               ],
               [
                -73.167306,
                46.382865
               ],
               [
                -73.333101,
                46.498727
               ],
               [
                -73.536358,
                46.865513
               ],
               [
                -73.543432,
                46.866338
               ],
               [
                -73.570849,
                46.871483
               ],
               [
                -73.573687,
                46.869887
               ],
               [
                -73.66083,
                46.894617
               ],
               [
                -73.65012,
                46.938033
               ],
               [
                -73.853208,
                47.151075
               ],
               [
                -74.028553,
                47.177965
               ],
               [
                -73.975508,
                47.364768
               ],
               [
                -73.972952,
                47.370797
               ],
               [
                -74.511525,
                47.762906
               ],
               [
                -74.889411,
                47.762619
               ],
               [
                -75.521328,
                47.763314
               ],
               [
                -75.521078,
                47.846988
               ],
               [
                -75.520551,
                49.000016
               ],
               [
                -74.55934,
                48.999925
               ],
               [
                -74.471679,
                48.945649
               ]
              ]
             ]
            },
            "properties": {
             "cartodb_id": 8,
             "res_co_reg": 4,
             "regio_s_id": 10,
             "regio_s_": 9,
             "res_co_ver": "V2012-05",
             "res_co_ref": "BDGA1M",
             "res_nm_reg": "Mauricie",
             "res_de_ind": "Région administrative",
             "res_no_ind": "50 02 0100 000",
             "perimeter": 13.1966772376706,
             "area": 4.78751317999797
            },
            "id": 10
           },
           {
            "type": "Feature",
            "geometry": {
             "type": "Polygon",
             "coordinates": [
              [
               [
                -72.07341,
                47.949997
               ],
               [
                -71.379536,
                47.950024
               ],
               [
                -71.41121,
                47.995934
               ],
               [
                -70.263326,
                47.994919
               ],
               [
                -70.172546,
                48.128806
               ],
               [
                -69.956127,
                48.056784
               ],
               [
                -69.871054,
                48.186107
               ],
               [
                -69.548369,
                48.049451
               ],
               [
                -69.656537,
                47.99422
               ],
               [
                -69.893749,
                47.701311
               ],
               [
                -70.198248,
                47.411201
               ],
               [
                -70.454932,
                47.253498
               ],
               [
                -70.716252,
                46.993868
               ],
               [
                -71.000352,
                46.84744
               ],
               [
                -71.115357,
                46.839533
               ],
               [
                -71.128385,
                46.8377
               ],
               [
                -71.283693,
                46.746726
               ],
               [
                -71.690822,
                46.649837
               ],
               [
                -71.870955,
                46.677671
               ],
               [
                -72.054301,
                46.570497
               ],
               [
                -72.066825,
                46.569761
               ],
               [
                -72.082727,
                46.57015
               ],
               [
                -72.392221,
                46.791376
               ],
               [
                -72.167602,
                46.874224
               ],
               [
                -72.435868,
                47.057484
               ],
               [
                -72.540745,
                47.190662
               ],
               [
                -72.50337,
                47.311941
               ],
               [
                -72.239878,
                47.290108
               ],
               [
                -72.145723,
                47.399614
               ],
               [
                -72.238828,
                47.536571
               ],
               [
                -71.890536,
                47.770179
               ],
               [
                -72.07341,
                47.949997
               ]
              ]
             ]
            },
            "properties": {
             "cartodb_id": 9,
             "res_co_reg": 3,
             "regio_s_id": 11,
             "regio_s_": 10,
             "res_co_ver": "V2012-05",
             "res_co_ref": "BDGA1M",
             "res_nm_reg": "Capitale-Nationale",
             "res_de_ind": "Région administrative",
             "res_no_ind": "50 02 0100 000",
             "perimeter": 8.81817210239763,
             "area": 2.49937337388851
            },
            "id": 11
           },
           {
            "type": "Feature",
            "geometry": {
             "type": "Polygon",
             "coordinates": [
              [
               [
                -75.521328,
                47.763314
               ],
               [
                -74.889411,
                47.762619
               ],
               [
                -74.5078,
                47.502208
               ],
               [
                -74.507743,
                47.502935
               ],
               [
                -74.619692,
                47.251113
               ],
               [
                -74.415157,
                47.100723
               ],
               [
                -74.57475,
                46.997571
               ],
               [
                -74.427279,
                46.896617
               ],
               [
                -74.508932,
                46.646535
               ],
               [
                -74.508288,
                46.642451
               ],
               [
                -74.503725,
                46.640022
               ],
               [
                -74.499065,
                46.639045
               ],
               [
                -74.491004,
                46.593768
               ],
               [
                -74.488473,
                46.596463
               ],
               [
                -74.445787,
                46.620477
               ],
               [
                -74.423104,
                46.605517
               ],
               [
                -74.38517,
                46.578771
               ],
               [
                -74.376332,
                46.527668
               ],
               [
                -74.477748,
                46.454113
               ],
               [
                -74.412684,
                46.298891
               ],
               [
                -74.182687,
                46.250042
               ],
               [
                -74.03304,
                46.148714
               ],
               [
                -73.935392,
                45.944243
               ],
               [
                -73.937068,
                45.925236
               ],
               [
                -73.759062,
                45.727893
               ],
               [
                -73.761411,
                45.714365
               ],
               [
                -73.744881,
                45.668642
               ],
               [
                -73.895779,
                45.525458
               ],
               [
                -73.977851,
                45.46442
               ],
               [
                -73.990063,
                45.459525
               ],
               [
                -73.996551,
                45.457488
               ],
               [
                -74.339075,
                45.513261
               ],
               [
                -74.380758,
                45.565982
               ],
               [
                -74.629351,
                45.63829
               ],
               [
                -74.807877,
                45.638399
               ],
               [
                -74.714402,
                45.8879
               ],
               [
                -74.939369,
                46.105915
               ],
               [
                -75.408148,
                46.097566
               ],
               [
                -75.408277,
                45.97322
               ],
               [
                -75.748112,
                45.972435
               ],
               [
                -75.788765,
                46.274808
               ],
               [
                -75.745234,
                46.438231
               ],
               [
                -75.747563,
                46.842662
               ],
               [
                -75.896777,
                46.817864
               ],
               [
                -76.130591,
                46.924539
               ],
               [
                -76.091496,
                47.188543
               ],
               [
                -75.796918,
                47.319068
               ],
               [
                -75.558812,
                47.207758
               ],
               [
                -75.308858,
                47.547632
               ],
               [
                -75.521328,
                47.763314
               ]
              ]
             ]
            },
            "properties": {
             "cartodb_id": 11,
             "res_co_reg": 15,
             "regio_s_id": 13,
             "regio_s_": 12,
             "res_co_ver": "V2012-05",
             "res_co_ref": "BDGA1M",
             "res_nm_reg": "Laurentides",
             "res_de_ind": "Région administrative",
             "res_no_ind": "50 02 0100 000",
             "perimeter": 12.0473497358836,
             "area": 2.64627784216984
            },
            "id": 13
           },
           {
            "type": "Feature",
            "geometry": {
             "type": "Polygon",
             "coordinates": [
              [
               [
                -70.198248,
                47.411201
               ],
               [
                -70.003487,
                47.278656
               ],
               [
                -69.985984,
                47.285714
               ],
               [
                -69.625519,
                47.06655
               ],
               [
                -69.997359,
                46.695246
               ],
               [
                -70.057197,
                46.416557
               ],
               [
                -70.208698,
                46.329344
               ],
               [
                -70.315785,
                46.020046
               ],
               [
                -70.242194,
                45.938925
               ],
               [
                -70.413606,
                45.795991
               ],
               [
                -70.895614,
                45.780022
               ],
               [
                -70.899805,
                45.886751
               ],
               [
                -71.461258,
                45.816568
               ],
               [
                -71.68617,
                45.966808
               ],
               [
                -71.509741,
                46.137326
               ],
               [
                -71.478962,
                46.395879
               ],
               [
                -71.617519,
                46.451759
               ],
               [
                -71.759723,
                46.363955
               ],
               [
                -72.054301,
                46.570497
               ],
               [
                -71.870955,
                46.677671
               ],
               [
                -71.690822,
                46.649837
               ],
               [
                -71.283693,
                46.746726
               ],
               [
                -71.128385,
                46.8377
               ],
               [
                -71.115357,
                46.839533
               ],
               [
                -71.000352,
                46.84744
               ],
               [
                -70.716252,
                46.993868
               ],
               [
                -70.454932,
                47.253498
               ],
               [
                -70.198248,
                47.411201
               ]
              ]
             ]
            },
            "properties": {
             "cartodb_id": 13,
             "res_co_reg": 12,
             "regio_s_id": 15,
             "regio_s_": 14,
             "res_co_ver": "V2012-05",
             "res_co_ref": "BDGA1M",
             "res_nm_reg": "Chaudière-Appalaches",
             "res_de_ind": "Région administrative",
             "res_no_ind": "50 02 0100 000",
             "perimeter": 8.20535335218676,
             "area": 1.89098805979165
            },
            "id": 15
           },
           {
            "type": "Feature",
            "geometry": {
             "type": "Polygon",
             "coordinates": [
              [
               [
                -74.889411,
                47.762619
               ],
               [
                -74.511525,
                47.762906
               ],
               [
                -73.972952,
                47.370797
               ],
               [
                -73.975508,
                47.364768
               ],
               [
                -74.028553,
                47.177965
               ],
               [
                -73.853208,
                47.151075
               ],
               [
                -73.65012,
                46.938033
               ],
               [
                -73.66083,
                46.894617
               ],
               [
                -73.573687,
                46.869887
               ],
               [
                -73.570849,
                46.871483
               ],
               [
                -73.543432,
                46.866338
               ],
               [
                -73.536358,
                46.865513
               ],
               [
                -73.333101,
                46.498727
               ],
               [
                -73.167306,
                46.382865
               ],
               [
                -73.216489,
                46.279333
               ],
               [
                -72.936232,
                46.151217
               ],
               [
                -72.992102,
                46.111805
               ],
               [
                -73.158932,
                46.043609
               ],
               [
                -73.290566,
                45.831375
               ],
               [
                -73.474364,
                45.700024
               ],
               [
                -73.523106,
                45.69786
               ],
               [
                -73.744881,
                45.668642
               ],
               [
                -73.761411,
                45.714365
               ],
               [
                -73.759062,
                45.727893
               ],
               [
                -73.937068,
                45.925236
               ],
               [
                -73.935392,
                45.944243
               ],
               [
                -74.03304,
                46.148714
               ],
               [
                -74.182687,
                46.250042
               ],
               [
                -74.412684,
                46.298891
               ],
               [
                -74.477748,
                46.454113
               ],
               [
                -74.376332,
                46.527668
               ],
               [
                -74.38517,
                46.578771
               ],
               [
                -74.423104,
                46.605517
               ],
               [
                -74.445787,
                46.620477
               ],
               [
                -74.488473,
                46.596463
               ],
               [
                -74.491004,
                46.593768
               ],
               [
                -74.499065,
                46.639045
               ],
               [
                -74.503725,
                46.640022
               ],
               [
                -74.508288,
                46.642451
               ],
               [
                -74.508932,
                46.646535
               ],
               [
                -74.427279,
                46.896617
               ],
               [
                -74.57475,
                46.997571
               ],
               [
                -74.415157,
                47.100723
               ],
               [
                -74.619692,
                47.251113
               ],
               [
                -74.507743,
                47.502935
               ],
               [
                -74.5078,
                47.502208
               ],
               [
                -74.889411,
                47.762619
               ]
              ]
             ]
            },
            "properties": {
             "cartodb_id": 12,
             "res_co_reg": 14,
             "regio_s_id": 14,
             "regio_s_": 13,
             "res_co_ver": "V2012-05",
             "res_co_ref": "BDGA1M",
             "res_nm_reg": "Lanaudière",
             "res_de_ind": "Région administrative",
             "res_no_ind": "50 02 0100 000",
             "perimeter": 9.01209725042588,
             "area": 1.58700910317102
            },
            "id": 14
           },
           {
            "type": "Feature",
            "geometry": {
             "type": "Polygon",
             "coordinates": [
              [
               [
                -72.992102,
                46.111805
               ],
               [
                -72.752495,
                45.942799
               ],
               [
                -72.852977,
                45.86388
               ],
               [
                -72.577873,
                45.752622
               ],
               [
                -72.315602,
                45.599234
               ],
               [
                -72.350469,
                45.589009
               ],
               [
                -72.359986,
                45.589036
               ],
               [
                -72.454557,
                45.451383
               ],
               [
                -72.403368,
                45.155766
               ],
               [
                -72.485017,
                45.008814
               ],
               [
                -73.068118,
                45.015872
               ],
               [
                -74.148943,
                44.991358
               ],
               [
                -74.495201,
                45.064735
               ],
               [
                -74.318803,
                45.187976
               ],
               [
                -74.472294,
                45.302813
               ],
               [
                -74.380758,
                45.565982
               ],
               [
                -74.339075,
                45.513261
               ],
               [
                -73.996551,
                45.457488
               ],
               [
                -73.822172,
                45.385406
               ],
               [
                -73.559613,
                45.419082
               ],
               [
                -73.474364,
                45.700024
               ],
               [
                -73.290566,
                45.831375
               ],
               [
                -73.158932,
                46.043609
               ],
               [
                -72.992102,
                46.111805
               ]
              ]
             ]
            },
            "properties": {
             "cartodb_id": 15,
             "res_co_reg": 16,
             "regio_s_id": 17,
             "regio_s_": 16,
             "res_co_ver": "V2012-05",
             "res_co_ref": "BDGA1M",
             "res_nm_reg": "Montérégie",
             "res_de_ind": "Région administrative",
             "res_no_ind": "50 02 0100 000",
             "perimeter": 7.09129879389589,
             "area": 1.36183178555221
            },
            "id": 17
           },
           {
            "type": "Feature",
            "geometry": {
             "type": "Polygon",
             "coordinates": [
              [
               [
                -71.461258,
                45.816568
               ],
               [
                -70.899805,
                45.886751
               ],
               [
                -70.895614,
                45.780022
               ],
               [
                -70.413606,
                45.795991
               ],
               [
                -70.645443,
                45.606152
               ],
               [
                -70.825525,
                45.400367
               ],
               [
                -71.228181,
                45.249407
               ],
               [
                -71.384778,
                45.233288
               ],
               [
                -71.500556,
                45.013252
               ],
               [
                -72.485017,
                45.008814
               ],
               [
                -72.403368,
                45.155766
               ],
               [
                -72.454557,
                45.451383
               ],
               [
                -72.359986,
                45.589036
               ],
               [
                -72.350469,
                45.589009
               ],
               [
                -72.315602,
                45.599234
               ],
               [
                -72.029639,
                45.85343
               ],
               [
                -71.798933,
                45.858038
               ],
               [
                -71.780876,
                45.875051
               ],
               [
                -71.461258,
                45.816568
               ]
              ]
             ]
            },
            "properties": {
             "cartodb_id": 16,
             "res_co_reg": 5,
             "regio_s_id": 18,
             "regio_s_": 17,
             "res_co_ver": "V2012-05",
             "res_co_ref": "BDGA1M",
             "res_nm_reg": "Estrie",
             "res_de_ind": "Région administrative",
             "res_no_ind": "50 02 0100 000",
             "perimeter": 7.28698953467045,
             "area": 1.20899519667971
            },
            "id": 18
           },
           {
            "type": "Feature",
            "geometry": {
             "type": "Polygon",
             "coordinates": [
              [
               [
                -70.029906,
                52.832544
               ],
               [
                -70.216784,
                52.711207
               ],
               [
                -70.237324,
                52.56694
               ],
               [
                -70.237541,
                52.559448
               ],
               [
                -70.227242,
                52.554116
               ],
               [
                -70.219026,
                52.554111
               ],
               [
                -70.273153,
                52.431986
               ],
               [
                -70.277413,
                52.426716
               ],
               [
                -70.279659,
                52.353398
               ],
               [
                -70.961298,
                52.235813
               ],
               [
                -70.967297,
                52.231721
               ],
               [
                -71.246359,
                52.070431
               ],
               [
                -71.376365,
                51.845963
               ],
               [
                -71.551188,
                51.827533
               ],
               [
                -71.612674,
                51.621228
               ],
               [
                -71.616985,
                51.615556
               ],
               [
                -71.57877,
                51.581075
               ],
               [
                -71.580903,
                51.57797
               ],
               [
                -71.572969,
                51.536908
               ],
               [
                -71.570951,
                51.530783
               ],
               [
                -71.57795,
                51.516338
               ],
               [
                -71.583528,
                51.510729
               ],
               [
                -71.837837,
                51.355642
               ],
               [
                -72.118311,
                51.105061
               ],
               [
                -72.161703,
                50.978119
               ],
               [
                -72.370661,
                50.88857
               ],
               [
                -72.376146,
                50.886885
               ],
               [
                -72.500216,
                50.747245
               ],
               [
                -72.509938,
                50.747318
               ],
               [
                -72.53324,
                50.746069
               ],
               [
                -72.534238,
                50.747853
               ],
               [
                -72.533808,
                50.75494
               ],
               [
                -72.541758,
                50.757474
               ],
               [
                -72.598438,
                50.839056
               ],
               [
                -72.599596,
                50.837254
               ],
               [
                -72.601113,
                50.831484
               ],
               [
                -72.602482,
                50.814747
               ],
               [
                -72.751628,
                50.818176
               ],
               [
                -72.75607,
                50.819404
               ],
               [
                -72.842828,
                50.810644
               ],
               [
                -72.855975,
                50.81184
               ],
               [
                -72.85882,
                50.810156
               ],
               [
                -72.863413,
                50.804071
               ],
               [
                -73.01826,
                50.670501
               ],
               [
                -73.019848,
                50.668756
               ],
               [
                -73.149666,
                50.747545
               ],
               [
                -73.30154,
                50.614383
               ],
               [
                -73.306574,
                50.611597
               ],
               [
                -73.541397,
                50.36738
               ],
               [
                -73.551879,
                50.364399
               ],
               [
                -73.74554,
                50.232972
               ],
               [
                -73.750269,
                50.230163
               ],
               [
                -73.778651,
                50.081098
               ],
               [
                -73.896492,
                49.952643
               ],
               [
                -73.895668,
                49.945404
               ],
               [
                -74.247109,
                49.564582
               ],
               [
                -74.407789,
                49.427228
               ],
               [
                -74.372024,
                49.314222
               ],
               [
                -74.372596,
                49.311446
               ],
               [
                -74.314645,
                49.266932
               ],
               [
                -74.314451,
                49.260076
               ],
               [
                -74.227998,
                49.218962
               ],
               [
                -74.289071,
                49.00669
               ],
               [
                -74.279062,
                49.000026
               ],
               [
                -74.396992,
                48.926784
               ],
               [
                -74.402448,
                48.923826
               ],
               [
                -74.41643,
                48.925868
               ],
               [
                -74.420869,
                48.925683
               ],
               [
                -74.471679,
                48.945649
               ],
               [
                -74.55934,
                48.999925
               ],
               [
                -75.520551,
                49.000016
               ],
               [
                -76.999737,
                48.999999
               ],
               [
                -79.053418,
                49.000045
               ],
               [
                -79.517764,
                49.009109
               ],
               [
                -79.517778,
                49.750087
               ],
               [
                -79.517782,
                50.749782
               ],
               [
                -79.518348,
                51.582765
               ],
               [
                -79.216599,
                51.64224
               ],
               [
                -78.97984,
                51.461542
               ],
               [
                -78.8012,
                51.47268
               ],
               [
                -78.85079,
                51.616359
               ],
               [
                -79.048087,
                51.764299
               ],
               [
                -78.892221,
                51.9468
               ],
               [
                -78.779781,
                51.969912
               ],
               [
                -78.559298,
                52.160636
               ],
               [
                -78.516069,
                52.332222
               ],
               [
                -78.589509,
                52.517228
               ],
               [
                -78.761621,
                52.540806
               ],
               [
                -78.997057,
                53.094311
               ],
               [
                -78.983656,
                53.399893
               ],
               [
                -79.139357,
                53.493777
               ],
               [
                -79.06147,
                53.613062
               ],
               [
                -79.105933,
                53.903362
               ],
               [
                -79.480179,
                54.233108
               ],
               [
                -79.533899,
                54.519204
               ],
               [
                -79.654207,
                54.689571
               ],
               [
                -79.004662,
                54.83803
               ],
               [
                -78.318669,
                55.041928
               ],
               [
                -77.78361,
                55.268906
               ],
               [
                -77.252517,
                55.577846
               ],
               [
                -77.196747,
                55.669994
               ],
               [
                -76.689674,
                56.049426
               ],
               [
                -76.547842,
                56.302428
               ],
               [
                -76.532224,
                56.798183
               ],
               [
                -76.575855,
                57.128172
               ],
               [
                -76.697944,
                57.435416
               ],
               [
                -77.091539,
                57.939337
               ],
               [
                -77.650514,
                58.263961
               ],
               [
                -78.207122,
                58.404029
               ],
               [
                -78.240246,
                58.495866
               ],
               [
                -78.587222,
                58.648907
               ],
               [
                -78.577592,
                58.917305
               ],
               [
                -77.989747,
                59.262379
               ],
               [
                -77.835235,
                59.588562
               ],
               [
                -77.84815,
                59.726042
               ],
               [
                -77.54479,
                59.756544
               ],
               [
                -77.46729,
                59.918075
               ],
               [
                -77.624387,
                60.054652
               ],
               [
                -77.607278,
                60.292636
               ],
               [
                -78.07599,
                60.791496
               ],
               [
                -78.10992,
                60.917371
               ],
               [
                -77.858235,
                61.053848
               ],
               [
                -77.743741,
                61.259786
               ],
               [
                -77.88746,
                61.623668
               ],
               [
                -78.000007,
                61.692107
               ],
               [
                -78.202012,
                62.254555
               ],
               [
                -78.086497,
                62.362423
               ],
               [
                -77.506116,
                62.582171
               ],
               [
                -76.930718,
                62.537763
               ],
               [
                -76.524456,
                62.443992
               ],
               [
                -75.580695,
                62.286842
               ],
               [
                -75.340345,
                62.317039
               ],
               [
                -74.967923,
                62.265525
               ],
               [
                -74.423074,
                62.242752
               ],
               [
                -74.004542,
                62.365341
               ],
               [
                -73.831326,
                62.459269
               ],
               [
                -73.224515,
                62.322815
               ],
               [
                -73.044368,
                62.202256
               ],
               [
                -72.613396,
                62.112375
               ],
               [
                -72.595276,
                61.976047
               ],
               [
                -72.180093,
                61.85322
               ],
               [
                -72.032175,
                61.731028
               ],
               [
                -71.62851,
                61.653167
               ],
               [
                -71.565604,
                61.544934
               ],
               [
                -71.607302,
                61.262205
               ],
               [
                -71.313338,
                61.153081
               ],
               [
                -70.667132,
                61.055773
               ],
               [
                -70.298932,
                61.101411
               ],
               [
                -69.964086,
                60.945368
               ],
               [
                -69.758506,
                60.917128
               ],
               [
                -69.592277,
                61.081513
               ],
               [
                -69.371593,
                60.916188
               ],
               [
                -69.371451,
                60.79946
               ],
               [
                -69.674783,
                60.673021
               ],
               [
                -69.717298,
                60.40712
               ],
               [
                -69.542288,
                60.094026
               ],
               [
                -69.49501,
                59.611084
               ],
               [
                -69.626464,
                59.471705
               ],
               [
                -69.232263,
                59.346558
               ],
               [
                -69.205631,
                59.223358
               ],
               [
                -68.892257,
                58.924126
               ],
               [
                -68.552048,
                58.941038
               ],
               [
                -68.260454,
                58.823208
               ],
               [
                -68.268268,
                58.616334
               ],
               [
                -68.00256,
                58.590248
               ],
               [
                -67.365056,
                58.31443
               ],
               [
                -66.938354,
                58.515877
               ],
               [
                -66.78029,
                58.501722
               ],
               [
                -66.573738,
                58.665141
               ],
               [
                -66.4834,
                58.857892
               ],
               [
                -66.095088,
                58.861308
               ],
               [
                -65.989371,
                58.918389
               ],
               [
                -65.80651,
                59.209121
               ],
               [
                -65.848893,
                59.283289
               ],
               [
                -65.526989,
                59.469633
               ],
               [
                -65.433076,
                59.588142
               ],
               [
                -65.566606,
                59.690521
               ],
               [
                -65.463741,
                59.815967
               ],
               [
                -65.235871,
                59.925633
               ],
               [
                -65.142601,
                60.063364
               ],
               [
                -64.855821,
                60.268343
               ],
               [
                -64.642658,
                59.906278
               ],
               [
                -64.818186,
                59.821003
               ],
               [
                -64.751401,
                59.725478
               ],
               [
                -64.838986,
                59.554562
               ],
               [
                -64.510789,
                59.421548
               ],
               [
                -64.471064,
                59.179491
               ],
               [
                -64.26522,
                59.01681
               ],
               [
                -64.226498,
                58.783589
               ],
               [
                -63.681534,
                58.880981
               ],
               [
                -63.497759,
                58.745886
               ],
               [
                -63.94783,
                58.689451
               ],
               [
                -64.143259,
                58.601834
               ],
               [
                -63.985802,
                58.442829
               ],
               [
                -64.168456,
                58.364842
               ],
               [
                -64.25609,
                58.224024
               ],
               [
                -64.423654,
                58.193974
               ],
               [
                -64.407753,
                58.062696
               ],
               [
                -64.193215,
                57.932683
               ],
               [
                -63.901728,
                57.913835
               ],
               [
                -63.883302,
                57.716043
               ],
               [
                -63.697963,
                57.36678
               ],
               [
                -63.881318,
                57.268014
               ],
               [
                -63.766982,
                57.143241
               ],
               [
                -63.899353,
                57.079276
               ],
               [
                -63.910478,
                56.925497
               ],
               [
                -64.142895,
                56.704203
               ],
               [
                -63.943953,
                56.540104
               ],
               [
                -63.934837,
                56.265269
               ],
               [
                -64.008251,
                56.076014
               ],
               [
                -63.730528,
                56.068031
               ],
               [
                -63.547381,
                56.005863
               ],
               [
                -63.845131,
                55.886814
               ],
               [
                -63.709229,
                55.754368
               ],
               [
                -63.644633,
                55.286198
               ],
               [
                -63.550617,
                55.19001
               ],
               [
                -63.553921,
                55.000047
               ],
               [
                -64.750002,
                54.999996
               ],
               [
                -66.259781,
                55.000009
               ],
               [
                -66.609089,
                55.269845
               ],
               [
                -66.762782,
                55.136899
               ],
               [
                -66.642917,
                55.000063
               ],
               [
                -68.250018,
                54.999987
               ],
               [
                -70.029883,
                55.000136
               ],
               [
                -70.029708,
                54.000024
               ],
               [
                -70.029906,
                52.832544
               ]
              ]
             ]
            },
            "properties": {
             "cartodb_id": 19,
             "res_co_reg": 10,
             "regio_s_id": 1,
             "regio_s_": 20,
             "res_co_ver": "V2012-05",
             "res_co_ref": "BDGA1M",
             "res_nm_reg": "Nord-du-Québec",
             "res_de_ind": "Région administrative",
             "res_no_ind": "50 02 0100 000",
             "perimeter": 94.6754067058214,
             "area": 124.08686903197
            },
            "id": 1
           },
           {
            "type": "Feature",
            "geometry": {
             "type": "Polygon",
             "coordinates": [
              [
               [
                -73.523106,
                45.69786
               ],
               [
                -73.474364,
                45.700024
               ],
               [
                -73.559613,
                45.419082
               ],
               [
                -73.822172,
                45.385406
               ],
               [
                -73.996551,
                45.457488
               ],
               [
                -73.990063,
                45.459525
               ],
               [
                -73.977851,
                45.46442
               ],
               [
                -73.895779,
                45.525458
               ],
               [
                -73.732746,
                45.531604
               ],
               [
                -73.726358,
                45.534538
               ],
               [
                -73.523106,
                45.69786
               ]
              ]
             ]
            },
            "properties": {
             "cartodb_id": 17,
             "res_co_reg": 6,
             "regio_s_id": 19,
             "regio_s_": 18,
             "res_co_ver": "V2012-05",
             "res_co_ref": "BDGA1M",
             "res_nm_reg": "Montréal",
             "res_de_ind": "Région administrative",
             "res_no_ind": "50 02 0100 000",
             "perimeter": 1.46897572891785,
             "area": 0.0719384128928997
            },
            "id": 19
           },
           {
            "type": "Feature",
            "geometry": {
             "type": "MultiPolygon",
             "coordinates": [
              [
               [
                [
                 -60.468609,
                 48.666663
                ],
                [
                 -61.999092,
                 48.666676
                ],
                [
                 -62.999129,
                 48.666683
                ],
                [
                 -63.600509,
                 48.968992
                ],
                [
                 -64.163784,
                 49.319935
                ],
                [
                 -64.595671,
                 49.509706
                ],
                [
                 -65.095087,
                 49.652753
                ],
                [
                 -65.645385,
                 49.717895
                ],
                [
                 -66.000015,
                 49.704048
                ],
                [
                 -66.48767,
                 49.575425
                ],
                [
                 -67.153341,
                 49.189062
                ],
                [
                 -67.592507,
                 49.078342
                ],
                [
                 -68.173272,
                 48.881427
                ],
                [
                 -68.723464,
                 48.621039
                ],
                [
                 -69.234461,
                 48.291093
                ],
                [
                 -69.548369,
                 48.049451
                ],
                [
                 -70.077876,
                 48.252828
                ],
                [
                 -70.007992,
                 48.357004
                ],
                [
                 -70.010424,
                 49.796526
                ],
                [
                 -70.025553,
                 50.750063
                ],
                [
                 -70.02479,
                 52.000079
                ],
                [
                 -70.029896,
                 52.916605
                ],
                [
                 -70.029883,
                 55.000136
                ],
                [
                 -69,
                 55.000117
                ],
                [
                 -67.41416,
                 54.994108
                ],
                [
                 -67.053178,
                 54.695712
                ],
                [
                 -67.304721,
                 54.514433
                ],
                [
                 -67.670849,
                 54.446101
                ],
                [
                 -67.725908,
                 54.334933
                ],
                [
                 -67.634491,
                 54.159846
                ],
                [
                 -67.809196,
                 54.017238
                ],
                [
                 -67.588854,
                 53.917925
                ],
                [
                 -67.565856,
                 53.794452
                ],
                [
                 -67.212496,
                 53.539563
                ],
                [
                 -67.028292,
                 53.533339
                ],
                [
                 -66.913542,
                 53.420893
                ],
                [
                 -66.968385,
                 53.203975
                ],
                [
                 -67.383275,
                 53.08794
                ],
                [
                 -67.340285,
                 52.893365
                ],
                [
                 -66.899719,
                 52.686938
                ],
                [
                 -66.416261,
                 52.846906
                ],
                [
                 -66.314061,
                 52.732515
                ],
                [
                 -66.438777,
                 52.623627
                ],
                [
                 -66.343028,
                 52.398622
                ],
                [
                 -66.4844,
                 52.348634
                ],
                [
                 -66.097613,
                 52.200563
                ],
                [
                 -66.090954,
                 52.108479
                ],
                [
                 -65.673164,
                 52.120423
                ],
                [
                 -65.198951,
                 52.260113
                ],
                [
                 -64.83546,
                 52.034965
                ],
                [
                 -64.71066,
                 51.873309
                ],
                [
                 -64.774169,
                 51.804733
                ],
                [
                 -64.557126,
                 51.580661
                ],
                [
                 -64.286166,
                 51.727896
                ],
                [
                 -64.36103,
                 51.864222
                ],
                [
                 -64.33689,
                 52.009271
                ],
                [
                 -64.200549,
                 52.176679
                ],
                [
                 -64.252993,
                 52.274969
                ],
                [
                 -64.107507,
                 52.407321
                ],
                [
                 -64.176955,
                 52.585072
                ],
                [
                 -64.148678,
                 52.728806
                ],
                [
                 -63.722772,
                 52.773221
                ],
                [
                 -63.567018,
                 52.944469
                ],
                [
                 -63.446819,
                 52.944523
                ],
                [
                 -62.963909,
                 52.758547
                ],
                [
                 -62.611145,
                 52.79977
                ],
                [
                 -62.336163,
                 52.736907
                ],
                [
                 -62.15596,
                 52.780601
                ],
                [
                 -61.70826,
                 52.573288
                ],
                [
                 -61.2725,
                 52.513978
                ],
                [
                 -60.947423,
                 52.36681
                ],
                [
                 -60.564327,
                 52.318835
                ],
                [
                 -60.517378,
                 52.454503
                ],
                [
                 -59.96797,
                 52.496555
                ],
                [
                 -59.83671,
                 52.662084
                ],
                [
                 -59.512005,
                 52.612942
                ],
                [
                 -59.316081,
                 52.626663
                ],
                [
                 -59.138521,
                 52.516299
                ],
                [
                 -58.730084,
                 52.481882
                ],
                [
                 -58.56987,
                 52.652822
                ],
                [
                 -58.326417,
                 52.690593
                ],
                [
                 -58.077696,
                 52.544371
                ],
                [
                 -57.979881,
                 52.431115
                ],
                [
                 -57.739883,
                 52.370728
                ],
                [
                 -57.296976,
                 52.09591
                ],
                [
                 -56.981755,
                 52.030747
                ],
                [
                 -57.107498,
                 51.805965
                ],
                [
                 -57.107482,
                 51.202493
                ],
                [
                 -57.736141,
                 50.998608
                ],
                [
                 -58.940366,
                 49.84861
                ],
                [
                 -60,
                 49.112579
                ],
                [
                 -60.476819,
                 48.781392
                ],
                [
                 -60.468609,
                 48.666663
                ]
               ]
              ],
              [
               [
                [
                 -66.72991,
                 54.973408
                ],
                [
                 -66.597631,
                 54.812183
                ],
                [
                 -66.670161,
                 54.712626
                ],
                [
                 -66.946476,
                 54.817491
                ],
                [
                 -67.218818,
                 55.000107
                ],
                [
                 -66.72991,
                 54.973408
                ]
               ]
              ],
              [
               [
                [
                 -63.563353,
                 54.98803
                ],
                [
                 -63.786125,
                 54.949003
                ],
                [
                 -63.909794,
                 54.784361
                ],
                [
                 -63.763296,
                 54.698498
                ],
                [
                 -64.052221,
                 54.597304
                ],
                [
                 -64.324983,
                 54.77317
                ],
                [
                 -64.600434,
                 54.731281
                ],
                [
                 -64.964562,
                 54.932565
                ],
                [
                 -65.427553,
                 54.747206
                ],
                [
                 -65.679536,
                 54.705263
                ],
                [
                 -65.919348,
                 54.937431
                ],
                [
                 -65.374133,
                 55.000096
                ],
                [
                 -63.563353,
                 54.98803
                ]
               ]
              ],
              [
               [
                [
                 -66.84942,
                 55.306585
                ],
                [
                 -66.765893,
                 55.248563
                ],
                [
                 -66.782005,
                 55.041497
                ],
                [
                 -67.048984,
                 55.230236
                ],
                [
                 -66.84942,
                 55.306585
                ]
               ]
              ]
             ]
            },
            "properties": {
             "cartodb_id": 1,
             "res_co_reg": 9,
             "regio_s_id": 2,
             "regio_s_": 2,
             "res_co_ver": "V2012-05",
             "res_co_ref": "BDGA1M",
             "res_nm_reg": "Côte-Nord",
             "res_de_ind": "Région administrative",
             "res_no_ind": "50 02 0100 000",
             "perimeter": 0.151935634889039,
             "area": 7.53085700268219E-4
            },
            "id": 2
           },
           {
            "type": "Feature",
            "geometry": {
             "type": "Polygon",
             "coordinates": [
              [
               [
                -67.153341,
                49.189062
               ],
               [
                -66.83247,
                48.985116
               ],
               [
                -66.700265,
                48.987354
               ],
               [
                -66.70181,
                48.984814
               ],
               [
                -66.698745,
                48.967353
               ],
               [
                -66.698123,
                48.964179
               ],
               [
                -66.537875,
                48.95834
               ],
               [
                -65.948463,
                48.567122
               ],
               [
                -66.974198,
                48.303186
               ],
               [
                -66.879578,
                48.136958
               ],
               [
                -67.277586,
                48.031515
               ],
               [
                -67.374601,
                48.194887
               ],
               [
                -67.666615,
                48.118412
               ],
               [
                -67.588931,
                48.04974
               ],
               [
                -67.5867,
                48.042391
               ],
               [
                -67.598344,
                48.000066
               ],
               [
                -68.122856,
                48.000061
               ],
               [
                -68.122785,
                47.916561
               ],
               [
                -68.383141,
                47.916615
               ],
               [
                -68.38295,
                47.553498
               ],
               [
                -68.569408,
                47.427049
               ],
               [
                -69.051087,
                47.300133
               ],
               [
                -69.032042,
                47.408305
               ],
               [
                -69.229788,
                47.454624
               ],
               [
                -69.625519,
                47.06655
               ],
               [
                -69.985984,
                47.285714
               ],
               [
                -70.003487,
                47.278656
               ],
               [
                -70.198248,
                47.411201
               ],
               [
                -69.893749,
                47.701311
               ],
               [
                -69.656537,
                47.99422
               ],
               [
                -69.548369,
                48.049451
               ],
               [
                -69.234461,
                48.291093
               ],
               [
                -68.723464,
                48.621039
               ],
               [
                -68.093746,
                48.909451
               ],
               [
                -67.592507,
                49.078342
               ],
               [
                -67.153341,
                49.189062
               ]
              ]
             ]
            },
            "properties": {
             "cartodb_id": 6,
             "res_co_reg": 1,
             "regio_s_id": 8,
             "regio_s_": 7,
             "res_co_ver": "V2012-05",
             "res_co_ref": "BDGA1M",
             "res_nm_reg": "Bas-Saint-Laurent",
             "res_de_ind": "Région administrative",
             "res_no_ind": "50 02 0100 000",
             "perimeter": 11.2654083386742,
             "area": 3.43782496715336
            },
            "id": 8
           },
           {
            "type": "Feature",
            "geometry": {
             "type": "Polygon",
             "coordinates": [
              [
               [
                -73.744881,
                45.668642
               ],
               [
                -73.523106,
                45.69786
               ],
               [
                -73.726358,
                45.534538
               ],
               [
                -73.732746,
                45.531604
               ],
               [
                -73.895779,
                45.525458
               ],
               [
                -73.744881,
                45.668642
               ]
              ]
             ]
            },
            "properties": {
             "cartodb_id": 18,
             "res_co_reg": 13,
             "regio_s_id": 20,
             "regio_s_": 19,
             "res_co_ver": "V2012-05",
             "res_co_ref": "BDGA1M",
             "res_nm_reg": "Laval",
             "res_de_ind": "Région administrative",
             "res_no_ind": "50 02 0100 000",
             "perimeter": 0.931105008023468,
             "area": 0.0307859846863181
            },
            "id": 20
           },
           {
            "type": "Feature",
            "geometry": {
             "type": "Polygon",
             "coordinates": [
              [
               [
                -72.082727,
                46.57015
               ],
               [
                -72.066825,
                46.569761
               ],
               [
                -72.054301,
                46.570497
               ],
               [
                -71.759723,
                46.363955
               ],
               [
                -71.617519,
                46.451759
               ],
               [
                -71.478962,
                46.395879
               ],
               [
                -71.509741,
                46.137326
               ],
               [
                -71.68617,
                45.966808
               ],
               [
                -71.461258,
                45.816568
               ],
               [
                -71.780876,
                45.875051
               ],
               [
                -71.798933,
                45.858038
               ],
               [
                -72.029639,
                45.85343
               ],
               [
                -72.315602,
                45.599234
               ],
               [
                -72.577873,
                45.752622
               ],
               [
                -72.852977,
                45.86388
               ],
               [
                -72.752495,
                45.942799
               ],
               [
                -72.992102,
                46.111805
               ],
               [
                -72.936232,
                46.151217
               ],
               [
                -72.267698,
                46.433635
               ],
               [
                -72.21268,
                46.520967
               ],
               [
                -72.198901,
                46.532325
               ],
               [
                -72.082727,
                46.57015
               ]
              ]
             ]
            },
            "properties": {
             "cartodb_id": 14,
             "res_co_reg": 17,
             "regio_s_id": 16,
             "regio_s_": 15,
             "res_co_ver": "V2012-05",
             "res_co_ref": "BDGA1M",
             "res_nm_reg": "Centre-du-Québec",
             "res_de_ind": "Région administrative",
             "res_no_ind": "50 02 0100 000",
             "perimeter": 5.40454763380291,
             "area": 0.844851321836394
            },
            "id": 16
           }
          ]
         },
         "hovertemplate": "Geographical location=%{location}<br>PET participants=%{customdata[0]}<br>MRI participants=%{customdata[1]}<br>Weighted Average Age=%{z}<extra></extra>",
         "locations": [
          "Capitale-Nationale",
          "Estrie",
          "Island of Montreal, Quebec City, Laurentians, Lanaudiere, Estrie, Outaouais",
          "Mauricie",
          "Montreal, Bas-Saint-Laurent, Abitibi, Gaspésie, Mauricie",
          "Montreal, Quebec City, Laurentians, Lanaudiere, Estrie, Outaouais",
          "Montreal, Sherbrooke",
          "Montreal, Sherbrooke, Quebec City",
          "Montréal",
          "Montérégie",
          "Saguenay - Lac-Saint-Jean",
          "Saguenay Lac Saint Jean region, Chicoutimi",
          "Trois-Rivières, Drummondville",
          "Outaouais",
          "Gaspésie-Îles-de-la-Madeleine",
          "Abitibi-Témiscamingue",
          "Laurentides",
          "Chaudière-Appalaches",
          "Lanaudière",
          "Nord-du-Québec",
          "Côte-Nord",
          "Bas-Saint-Laurent",
          "Laval",
          "Centre-du-Québec"
         ],
         "marker": {
          "opacity": 0.5
         },
         "name": "",
         "subplot": "mapbox",
         "z": [
          47.88815130830489,
          35.073645569620254,
          0.0,
          23.4,
          7.0,
          3.625,
          67.16428571428571,
          72.01135135135134,
          30.984710753963025,
          65.5,
          15.7,
          15.02,
          81.6,
          0.0,
          0.0,
          0.0,
          0.0,
          0.0,
          0.0,
          0.0,
          0.0,
          0.0,
          0.0,
          0.0
         ],
         "type": "choroplethmapbox"
        }
       ],
       "layout": {
        "template": {
         "data": {
          "histogram2dcontour": [
           {
            "type": "histogram2dcontour",
            "colorbar": {
             "outlinewidth": 0,
             "ticks": ""
            },
            "colorscale": [
             [
              0.0,
              "#0d0887"
             ],
             [
              0.1111111111111111,
              "#46039f"
             ],
             [
              0.2222222222222222,
              "#7201a8"
             ],
             [
              0.3333333333333333,
              "#9c179e"
             ],
             [
              0.4444444444444444,
              "#bd3786"
             ],
             [
              0.5555555555555556,
              "#d8576b"
             ],
             [
              0.6666666666666666,
              "#ed7953"
             ],
             [
              0.7777777777777778,
              "#fb9f3a"
             ],
             [
              0.8888888888888888,
              "#fdca26"
             ],
             [
              1.0,
              "#f0f921"
             ]
            ]
           }
          ],
          "choropleth": [
           {
            "type": "choropleth",
            "colorbar": {
             "outlinewidth": 0,
             "ticks": ""
            }
           }
          ],
          "histogram2d": [
           {
            "type": "histogram2d",
            "colorbar": {
             "outlinewidth": 0,
             "ticks": ""
            },
            "colorscale": [
             [
              0.0,
              "#0d0887"
             ],
             [
              0.1111111111111111,
              "#46039f"
             ],
             [
              0.2222222222222222,
              "#7201a8"
             ],
             [
              0.3333333333333333,
              "#9c179e"
             ],
             [
              0.4444444444444444,
              "#bd3786"
             ],
             [
              0.5555555555555556,
              "#d8576b"
             ],
             [
              0.6666666666666666,
              "#ed7953"
             ],
             [
              0.7777777777777778,
              "#fb9f3a"
             ],
             [
              0.8888888888888888,
              "#fdca26"
             ],
             [
              1.0,
              "#f0f921"
             ]
            ]
           }
          ],
          "heatmap": [
           {
            "type": "heatmap",
            "colorbar": {
             "outlinewidth": 0,
             "ticks": ""
            },
            "colorscale": [
             [
              0.0,
              "#0d0887"
             ],
             [
              0.1111111111111111,
              "#46039f"
             ],
             [
              0.2222222222222222,
              "#7201a8"
             ],
             [
              0.3333333333333333,
              "#9c179e"
             ],
             [
              0.4444444444444444,
              "#bd3786"
             ],
             [
              0.5555555555555556,
              "#d8576b"
             ],
             [
              0.6666666666666666,
              "#ed7953"
             ],
             [
              0.7777777777777778,
              "#fb9f3a"
             ],
             [
              0.8888888888888888,
              "#fdca26"
             ],
             [
              1.0,
              "#f0f921"
             ]
            ]
           }
          ],
          "heatmapgl": [
           {
            "type": "heatmapgl",
            "colorbar": {
             "outlinewidth": 0,
             "ticks": ""
            },
            "colorscale": [
             [
              0.0,
              "#0d0887"
             ],
             [
              0.1111111111111111,
              "#46039f"
             ],
             [
              0.2222222222222222,
              "#7201a8"
             ],
             [
              0.3333333333333333,
              "#9c179e"
             ],
             [
              0.4444444444444444,
              "#bd3786"
             ],
             [
              0.5555555555555556,
              "#d8576b"
             ],
             [
              0.6666666666666666,
              "#ed7953"
             ],
             [
              0.7777777777777778,
              "#fb9f3a"
             ],
             [
              0.8888888888888888,
              "#fdca26"
             ],
             [
              1.0,
              "#f0f921"
             ]
            ]
           }
          ],
          "contourcarpet": [
           {
            "type": "contourcarpet",
            "colorbar": {
             "outlinewidth": 0,
             "ticks": ""
            }
           }
          ],
          "contour": [
           {
            "type": "contour",
            "colorbar": {
             "outlinewidth": 0,
             "ticks": ""
            },
            "colorscale": [
             [
              0.0,
              "#0d0887"
             ],
             [
              0.1111111111111111,
              "#46039f"
             ],
             [
              0.2222222222222222,
              "#7201a8"
             ],
             [
              0.3333333333333333,
              "#9c179e"
             ],
             [
              0.4444444444444444,
              "#bd3786"
             ],
             [
              0.5555555555555556,
              "#d8576b"
             ],
             [
              0.6666666666666666,
              "#ed7953"
             ],
             [
              0.7777777777777778,
              "#fb9f3a"
             ],
             [
              0.8888888888888888,
              "#fdca26"
             ],
             [
              1.0,
              "#f0f921"
             ]
            ]
           }
          ],
          "surface": [
           {
            "type": "surface",
            "colorbar": {
             "outlinewidth": 0,
             "ticks": ""
            },
            "colorscale": [
             [
              0.0,
              "#0d0887"
             ],
             [
              0.1111111111111111,
              "#46039f"
             ],
             [
              0.2222222222222222,
              "#7201a8"
             ],
             [
              0.3333333333333333,
              "#9c179e"
             ],
             [
              0.4444444444444444,
              "#bd3786"
             ],
             [
              0.5555555555555556,
              "#d8576b"
             ],
             [
              0.6666666666666666,
              "#ed7953"
             ],
             [
              0.7777777777777778,
              "#fb9f3a"
             ],
             [
              0.8888888888888888,
              "#fdca26"
             ],
             [
              1.0,
              "#f0f921"
             ]
            ]
           }
          ],
          "mesh3d": [
           {
            "type": "mesh3d",
            "colorbar": {
             "outlinewidth": 0,
             "ticks": ""
            }
           }
          ],
          "scatter": [
           {
            "fillpattern": {
             "fillmode": "overlay",
             "size": 10,
             "solidity": 0.2
            },
            "type": "scatter"
           }
          ],
          "parcoords": [
           {
            "type": "parcoords",
            "line": {
             "colorbar": {
              "outlinewidth": 0,
              "ticks": ""
             }
            }
           }
          ],
          "scatterpolargl": [
           {
            "type": "scatterpolargl",
            "marker": {
             "colorbar": {
              "outlinewidth": 0,
              "ticks": ""
             }
            }
           }
          ],
          "bar": [
           {
            "error_x": {
             "color": "#2a3f5f"
            },
            "error_y": {
             "color": "#2a3f5f"
            },
            "marker": {
             "line": {
              "color": "#E5ECF6",
              "width": 0.5
             },
             "pattern": {
              "fillmode": "overlay",
              "size": 10,
              "solidity": 0.2
             }
            },
            "type": "bar"
           }
          ],
          "scattergeo": [
           {
            "type": "scattergeo",
            "marker": {
             "colorbar": {
              "outlinewidth": 0,
              "ticks": ""
             }
            }
           }
          ],
          "scatterpolar": [
           {
            "type": "scatterpolar",
            "marker": {
             "colorbar": {
              "outlinewidth": 0,
              "ticks": ""
             }
            }
           }
          ],
          "histogram": [
           {
            "marker": {
             "pattern": {
              "fillmode": "overlay",
              "size": 10,
              "solidity": 0.2
             }
            },
            "type": "histogram"
           }
          ],
          "scattergl": [
           {
            "type": "scattergl",
            "marker": {
             "colorbar": {
              "outlinewidth": 0,
              "ticks": ""
             }
            }
           }
          ],
          "scatter3d": [
           {
            "type": "scatter3d",
            "line": {
             "colorbar": {
              "outlinewidth": 0,
              "ticks": ""
             }
            },
            "marker": {
             "colorbar": {
              "outlinewidth": 0,
              "ticks": ""
             }
            }
           }
          ],
          "scattermapbox": [
           {
            "type": "scattermapbox",
            "marker": {
             "colorbar": {
              "outlinewidth": 0,
              "ticks": ""
             }
            }
           }
          ],
          "scatterternary": [
           {
            "type": "scatterternary",
            "marker": {
             "colorbar": {
              "outlinewidth": 0,
              "ticks": ""
             }
            }
           }
          ],
          "scattercarpet": [
           {
            "type": "scattercarpet",
            "marker": {
             "colorbar": {
              "outlinewidth": 0,
              "ticks": ""
             }
            }
           }
          ],
          "carpet": [
           {
            "aaxis": {
             "endlinecolor": "#2a3f5f",
             "gridcolor": "white",
             "linecolor": "white",
             "minorgridcolor": "white",
             "startlinecolor": "#2a3f5f"
            },
            "baxis": {
             "endlinecolor": "#2a3f5f",
             "gridcolor": "white",
             "linecolor": "white",
             "minorgridcolor": "white",
             "startlinecolor": "#2a3f5f"
            },
            "type": "carpet"
           }
          ],
          "table": [
           {
            "cells": {
             "fill": {
              "color": "#EBF0F8"
             },
             "line": {
              "color": "white"
             }
            },
            "header": {
             "fill": {
              "color": "#C8D4E3"
             },
             "line": {
              "color": "white"
             }
            },
            "type": "table"
           }
          ],
          "barpolar": [
           {
            "marker": {
             "line": {
              "color": "#E5ECF6",
              "width": 0.5
             },
             "pattern": {
              "fillmode": "overlay",
              "size": 10,
              "solidity": 0.2
             }
            },
            "type": "barpolar"
           }
          ],
          "pie": [
           {
            "automargin": true,
            "type": "pie"
           }
          ]
         },
         "layout": {
          "autotypenumbers": "strict",
          "colorway": [
           "#636efa",
           "#EF553B",
           "#00cc96",
           "#ab63fa",
           "#FFA15A",
           "#19d3f3",
           "#FF6692",
           "#B6E880",
           "#FF97FF",
           "#FECB52"
          ],
          "font": {
           "color": "#2a3f5f"
          },
          "hovermode": "closest",
          "hoverlabel": {
           "align": "left"
          },
          "paper_bgcolor": "white",
          "plot_bgcolor": "#E5ECF6",
          "polar": {
           "bgcolor": "#E5ECF6",
           "angularaxis": {
            "gridcolor": "white",
            "linecolor": "white",
            "ticks": ""
           },
           "radialaxis": {
            "gridcolor": "white",
            "linecolor": "white",
            "ticks": ""
           }
          },
          "ternary": {
           "bgcolor": "#E5ECF6",
           "aaxis": {
            "gridcolor": "white",
            "linecolor": "white",
            "ticks": ""
           },
           "baxis": {
            "gridcolor": "white",
            "linecolor": "white",
            "ticks": ""
           },
           "caxis": {
            "gridcolor": "white",
            "linecolor": "white",
            "ticks": ""
           }
          },
          "coloraxis": {
           "colorbar": {
            "outlinewidth": 0,
            "ticks": ""
           }
          },
          "colorscale": {
           "sequential": [
            [
             0.0,
             "#0d0887"
            ],
            [
             0.1111111111111111,
             "#46039f"
            ],
            [
             0.2222222222222222,
             "#7201a8"
            ],
            [
             0.3333333333333333,
             "#9c179e"
            ],
            [
             0.4444444444444444,
             "#bd3786"
            ],
            [
             0.5555555555555556,
             "#d8576b"
            ],
            [
             0.6666666666666666,
             "#ed7953"
            ],
            [
             0.7777777777777778,
             "#fb9f3a"
            ],
            [
             0.8888888888888888,
             "#fdca26"
            ],
            [
             1.0,
             "#f0f921"
            ]
           ],
           "sequentialminus": [
            [
             0.0,
             "#0d0887"
            ],
            [
             0.1111111111111111,
             "#46039f"
            ],
            [
             0.2222222222222222,
             "#7201a8"
            ],
            [
             0.3333333333333333,
             "#9c179e"
            ],
            [
             0.4444444444444444,
             "#bd3786"
            ],
            [
             0.5555555555555556,
             "#d8576b"
            ],
            [
             0.6666666666666666,
             "#ed7953"
            ],
            [
             0.7777777777777778,
             "#fb9f3a"
            ],
            [
             0.8888888888888888,
             "#fdca26"
            ],
            [
             1.0,
             "#f0f921"
            ]
           ],
           "diverging": [
            [
             0,
             "#8e0152"
            ],
            [
             0.1,
             "#c51b7d"
            ],
            [
             0.2,
             "#de77ae"
            ],
            [
             0.3,
             "#f1b6da"
            ],
            [
             0.4,
             "#fde0ef"
            ],
            [
             0.5,
             "#f7f7f7"
            ],
            [
             0.6,
             "#e6f5d0"
            ],
            [
             0.7,
             "#b8e186"
            ],
            [
             0.8,
             "#7fbc41"
            ],
            [
             0.9,
             "#4d9221"
            ],
            [
             1,
             "#276419"
            ]
           ]
          },
          "xaxis": {
           "gridcolor": "white",
           "linecolor": "white",
           "ticks": "",
           "title": {
            "standoff": 15
           },
           "zerolinecolor": "white",
           "automargin": true,
           "zerolinewidth": 2
          },
          "yaxis": {
           "gridcolor": "white",
           "linecolor": "white",
           "ticks": "",
           "title": {
            "standoff": 15
           },
           "zerolinecolor": "white",
           "automargin": true,
           "zerolinewidth": 2
          },
          "scene": {
           "xaxis": {
            "backgroundcolor": "#E5ECF6",
            "gridcolor": "white",
            "linecolor": "white",
            "showbackground": true,
            "ticks": "",
            "zerolinecolor": "white",
            "gridwidth": 2
           },
           "yaxis": {
            "backgroundcolor": "#E5ECF6",
            "gridcolor": "white",
            "linecolor": "white",
            "showbackground": true,
            "ticks": "",
            "zerolinecolor": "white",
            "gridwidth": 2
           },
           "zaxis": {
            "backgroundcolor": "#E5ECF6",
            "gridcolor": "white",
            "linecolor": "white",
            "showbackground": true,
            "ticks": "",
            "zerolinecolor": "white",
            "gridwidth": 2
           }
          },
          "shapedefaults": {
           "line": {
            "color": "#2a3f5f"
           }
          },
          "annotationdefaults": {
           "arrowcolor": "#2a3f5f",
           "arrowhead": 0,
           "arrowwidth": 1
          },
          "geo": {
           "bgcolor": "white",
           "landcolor": "#E5ECF6",
           "subunitcolor": "white",
           "showland": true,
           "showlakes": true,
           "lakecolor": "white"
          },
          "title": {
           "x": 0.05
          },
          "mapbox": {
           "style": "light"
          }
         }
        },
        "mapbox": {
         "domain": {
          "x": [
           0.0,
           1.0
          ],
          "y": [
           0.0,
           1.0
          ]
         },
         "center": {
          "lat": 50,
          "lon": -65
         },
         "zoom": 3,
         "style": "carto-positron"
        },
        "coloraxis": {
         "colorbar": {
          "title": {
           "text": "Weighted Average Age"
          }
         },
         "colorscale": [
          [
           0.0,
           "#440154"
          ],
          [
           0.1111111111111111,
           "#482878"
          ],
          [
           0.2222222222222222,
           "#3e4989"
          ],
          [
           0.3333333333333333,
           "#31688e"
          ],
          [
           0.4444444444444444,
           "#26828e"
          ],
          [
           0.5555555555555556,
           "#1f9e89"
          ],
          [
           0.6666666666666666,
           "#35b779"
          ],
          [
           0.7777777777777778,
           "#6ece58"
          ],
          [
           0.8888888888888888,
           "#b5de2b"
          ],
          [
           1.0,
           "#fde725"
          ]
         ]
        },
        "legend": {
         "tracegroupgap": 0
        },
        "margin": {
         "t": 0,
         "r": 0,
         "l": 0,
         "b": 0
        },
        "geo": {
         "fitbounds": "locations",
         "visible": true
        }
       },
       "config": {
        "plotlyServerURL": "https://plot.ly"
       }
      },
      "text/html": "<div>                            <div id=\"017f79af-7c82-4f22-9e14-8c101ef7fea2\" class=\"plotly-graph-div\" style=\"height:525px; width:100%;\"></div>            <script type=\"text/javascript\">                require([\"plotly\"], function(Plotly) {                    window.PLOTLYENV=window.PLOTLYENV || {};                                    if (document.getElementById(\"017f79af-7c82-4f22-9e14-8c101ef7fea2\")) {                    Plotly.newPlot(                        \"017f79af-7c82-4f22-9e14-8c101ef7fea2\",                        [{\"coloraxis\":\"coloraxis\",\"customdata\":[[158.0,1712.0,47.88815130830489],[612.0,1859.0,35.073645569620254],[0.0,0.0,0.0],[0.0,44.0,23.4],[0.0,5.0,7.0],[0.0,126.0,3.625],[0.0,140.0,67.16428571428571],[29.0,370.0,72.01135135135134],[6083.0,52228.0,30.984710753963025],[0.0,356.0,65.5],[0.0,378.0,15.7],[0.0,1029.0,15.02],[0.0,5.0,81.6],[0.0,0.0,0.0],[0.0,0.0,0.0],[0.0,0.0,0.0],[0.0,0.0,0.0],[0.0,0.0,0.0],[0.0,0.0,0.0],[0.0,0.0,0.0],[0.0,0.0,0.0],[0.0,0.0,0.0],[0.0,0.0,0.0],[0.0,0.0,0.0]],\"featureidkey\":\"properties.res_nm_reg\",\"geojson\":{\"type\":\"FeatureCollection\",\"features\":[{\"type\":\"Feature\",\"geometry\":{\"type\":\"Polygon\",\"coordinates\":[[[-75.521078,47.846988],[-75.521328,47.763314],[-75.308858,47.547632],[-75.558812,47.207758],[-75.796918,47.319068],[-76.091496,47.188543],[-76.130591,46.924539],[-75.896777,46.817864],[-75.747563,46.842662],[-75.745234,46.438231],[-75.788765,46.274808],[-75.748112,45.972435],[-75.408277,45.97322],[-75.408148,46.097566],[-74.939369,46.105915],[-74.714402,45.8879],[-74.807877,45.638399],[-75.683908,45.459147],[-75.863327,45.378637],[-75.959496,45.465951],[-76.205678,45.51791],[-76.347222,45.456245],[-76.656641,45.558558],[-76.782695,45.874218],[-76.993624,45.787639],[-77.194378,45.86903],[-77.277882,46.009395],[-77.568477,46.157865],[-77.841593,46.20636],[-77.742892,46.409166],[-77.828896,46.764638],[-77.834224,46.771435],[-77.887515,46.836003],[-77.890685,46.842495],[-77.891966,46.844478],[-77.892402,46.853972],[-77.850785,46.891076],[-77.850058,46.884025],[-77.844448,46.886294],[-77.84366,46.896653],[-77.834101,46.926713],[-77.836447,46.934191],[-77.860428,47.239651],[-77.433071,47.290474],[-77.433281,47.144924],[-77.002301,47.145024],[-77.001718,47.289943],[-76.575914,47.289729],[-76.575596,47.604154],[-76.454455,47.622073],[-76.451946,47.627699],[-76.288937,47.681683],[-76.289692,47.683687],[-76.229669,47.73144],[-75.837584,47.750306],[-75.8341,47.749513],[-75.81342,47.68064],[-75.812205,47.67892],[-75.811202,47.674356],[-75.810177,47.67167],[-75.782192,47.799428],[-75.780107,47.800688],[-75.521078,47.846988]]]},\"properties\":{\"cartodb_id\":10,\"res_co_reg\":7,\"regio_s_id\":12,\"regio_s_\":11,\"res_co_ver\":\"V2012-05\",\"res_co_ref\":\"BDGA1M\",\"res_nm_reg\":\"Outaouais\",\"res_de_ind\":\"R\\u00c3\\u00a9gion administrative\",\"res_no_ind\":\"50 02 0100 000\",\"perimeter\":15.4275800017612,\"area\":3.99614361096536},\"id\":12},{\"type\":\"Feature\",\"geometry\":{\"type\":\"Polygon\",\"coordinates\":[[[-72.07341,47.949997],[-72.123555,47.998509],[-73.017829,47.998663],[-74.471679,48.945649],[-74.420869,48.925683],[-74.41643,48.925868],[-74.402448,48.923826],[-74.396992,48.926784],[-74.279062,49.000026],[-74.289071,49.00669],[-74.227998,49.218962],[-74.314451,49.260076],[-74.314645,49.266932],[-74.372596,49.311446],[-74.372024,49.314222],[-74.407789,49.427228],[-74.247109,49.564582],[-73.895668,49.945404],[-73.896492,49.952643],[-73.778651,50.081098],[-73.750269,50.230163],[-73.74554,50.232972],[-73.551879,50.364399],[-73.541397,50.36738],[-73.306574,50.611597],[-73.30154,50.614383],[-73.149666,50.747545],[-73.019848,50.668756],[-73.01826,50.670501],[-72.863413,50.804071],[-72.85882,50.810156],[-72.855975,50.81184],[-72.842828,50.810644],[-72.75607,50.819404],[-72.751628,50.818176],[-72.602482,50.814747],[-72.601113,50.831484],[-72.599596,50.837254],[-72.598438,50.839056],[-72.541758,50.757474],[-72.533808,50.75494],[-72.534238,50.747853],[-72.53324,50.746069],[-72.509938,50.747318],[-72.500216,50.747245],[-72.376146,50.886885],[-72.370661,50.88857],[-72.161703,50.978119],[-72.118311,51.105061],[-71.837837,51.355642],[-71.583528,51.510729],[-71.57795,51.516338],[-71.570951,51.530783],[-71.572969,51.536908],[-71.580903,51.57797],[-71.57877,51.581075],[-71.616985,51.615556],[-71.612674,51.621228],[-71.551188,51.827533],[-71.376365,51.845963],[-71.246359,52.070431],[-70.967297,52.231721],[-70.961298,52.235813],[-70.279659,52.353398],[-70.277413,52.426716],[-70.273153,52.431986],[-70.219026,52.554111],[-70.227242,52.554116],[-70.237541,52.559448],[-70.237324,52.56694],[-70.216784,52.711207],[-70.029906,52.832544],[-70.02479,52.000079],[-70.025553,50.750063],[-70.010424,49.796526],[-70.010523,49.000001],[-70.018179,48.256731],[-69.871054,48.186107],[-69.956127,48.056784],[-70.172546,48.128806],[-70.263326,47.994919],[-71.41121,47.995934],[-71.379536,47.950024],[-72.07341,47.949997]]]},\"properties\":{\"cartodb_id\":4,\"res_co_reg\":2,\"regio_s_id\":6,\"regio_s_\":5,\"res_co_ver\":\"V2012-05\",\"res_co_ref\":\"BDGA1M\",\"res_nm_reg\":\"Saguenay - Lac-Saint-Jean\",\"res_de_ind\":\"R\\u00e9gion administrative\",\"res_no_ind\":\"50 02 0100 000\",\"perimeter\":19.7857933261279,\"area\":13.298006548304},\"id\":6},{\"type\":\"Feature\",\"geometry\":{\"type\":\"Polygon\",\"coordinates\":[[[-67.153341,49.189062],[-66.563434,49.539165],[-66.295707,49.64523],[-66.000015,49.704048],[-65.395762,49.699742],[-64.910024,49.61016],[-64.595671,49.509706],[-64.163784,49.319935],[-63.600509,48.968992],[-62.999129,48.666683],[-61.749088,48.666663],[-60.468609,48.666663],[-60.403772,47.761098],[-60.762679,47.423328],[-60.991849,47.329432],[-61.350481,47.009723],[-61.399367,46.839999],[-62.299956,46.839999],[-62.98636,47.139728],[-63.791667,48.220564],[-64.421965,48.220568],[-65.111678,47.921103],[-65.536139,47.828607],[-65.606408,47.933611],[-65.858147,48.022234],[-66.302721,48.032746],[-66.452257,48.08721],[-66.699094,48.005315],[-66.916487,47.984707],[-67.209206,47.875818],[-67.392456,47.866956],[-67.598344,48.000066],[-67.5867,48.042391],[-67.588931,48.04974],[-67.666615,48.118412],[-67.374601,48.194887],[-67.277586,48.031515],[-66.879578,48.136958],[-66.974198,48.303186],[-65.948463,48.567122],[-66.537875,48.95834],[-66.698123,48.964179],[-66.698745,48.967353],[-66.70181,48.984814],[-66.700265,48.987354],[-66.83247,48.985116],[-67.153341,49.189062]]]},\"properties\":{\"cartodb_id\":5,\"res_co_reg\":11,\"regio_s_id\":7,\"regio_s_\":6,\"res_co_ver\":\"V2012-05\",\"res_co_ref\":\"BDGA1M\",\"res_nm_reg\":\"Gasp\\u00e9sie-\\u00celes-de-la-Madeleine\",\"res_de_ind\":\"R\\u00e9gion administrative\",\"res_no_ind\":\"50 02 0100 000\",\"perimeter\":20.8678792455471,\"area\":9.48314959730072},\"id\":7},{\"type\":\"Feature\",\"geometry\":{\"type\":\"Polygon\",\"coordinates\":[[[-75.521078,47.846988],[-75.780107,47.800688],[-75.782192,47.799428],[-75.810177,47.67167],[-75.811202,47.674356],[-75.812205,47.67892],[-75.81342,47.68064],[-75.8341,47.749513],[-75.837584,47.750306],[-76.229669,47.73144],[-76.289692,47.683687],[-76.288937,47.681683],[-76.451946,47.627699],[-76.454455,47.622073],[-76.575596,47.604154],[-76.575914,47.289729],[-77.001718,47.289943],[-77.002301,47.145024],[-77.433281,47.144924],[-77.433071,47.290474],[-77.860428,47.239651],[-77.836447,46.934191],[-77.834101,46.926713],[-77.84366,46.896653],[-77.844448,46.886294],[-77.850058,46.884025],[-77.850785,46.891076],[-77.892402,46.853972],[-77.891966,46.844478],[-77.890685,46.842495],[-77.887515,46.836003],[-77.834224,46.771435],[-77.828896,46.764638],[-77.742892,46.409166],[-77.841593,46.20636],[-78.129115,46.272815],[-78.692863,46.31873],[-78.987859,46.547015],[-79.168966,46.823485],[-79.446562,47.110438],[-79.428976,47.240774],[-79.579327,47.432637],[-79.517205,47.533414],[-79.517764,49.009109],[-79.053418,49.000045],[-76.999737,48.999999],[-75.520551,49.000016],[-75.521078,47.846988]]]},\"properties\":{\"cartodb_id\":7,\"res_co_reg\":8,\"regio_s_id\":9,\"regio_s_\":8,\"res_co_ver\":\"V2012-05\",\"res_co_ref\":\"BDGA1M\",\"res_nm_reg\":\"Abitibi-T\\u00e9miscamingue\",\"res_de_ind\":\"R\\u00e9gion administrative\",\"res_no_ind\":\"50 02 0100 000\",\"perimeter\":14.9638243152797,\"area\":7.78473054972107},\"id\":9},{\"type\":\"Feature\",\"geometry\":{\"type\":\"Polygon\",\"coordinates\":[[[-74.471679,48.945649],[-73.017829,47.998663],[-72.123555,47.998509],[-72.07341,47.949997],[-71.890536,47.770179],[-72.238828,47.536571],[-72.145723,47.399614],[-72.239878,47.290108],[-72.50337,47.311941],[-72.540745,47.190662],[-72.435868,47.057484],[-72.167602,46.874224],[-72.392221,46.791376],[-72.082727,46.57015],[-72.198901,46.532325],[-72.21268,46.520967],[-72.267698,46.433635],[-72.936232,46.151217],[-73.216489,46.279333],[-73.167306,46.382865],[-73.333101,46.498727],[-73.536358,46.865513],[-73.543432,46.866338],[-73.570849,46.871483],[-73.573687,46.869887],[-73.66083,46.894617],[-73.65012,46.938033],[-73.853208,47.151075],[-74.028553,47.177965],[-73.975508,47.364768],[-73.972952,47.370797],[-74.511525,47.762906],[-74.889411,47.762619],[-75.521328,47.763314],[-75.521078,47.846988],[-75.520551,49.000016],[-74.55934,48.999925],[-74.471679,48.945649]]]},\"properties\":{\"cartodb_id\":8,\"res_co_reg\":4,\"regio_s_id\":10,\"regio_s_\":9,\"res_co_ver\":\"V2012-05\",\"res_co_ref\":\"BDGA1M\",\"res_nm_reg\":\"Mauricie\",\"res_de_ind\":\"R\\u00e9gion administrative\",\"res_no_ind\":\"50 02 0100 000\",\"perimeter\":13.1966772376706,\"area\":4.78751317999797},\"id\":10},{\"type\":\"Feature\",\"geometry\":{\"type\":\"Polygon\",\"coordinates\":[[[-72.07341,47.949997],[-71.379536,47.950024],[-71.41121,47.995934],[-70.263326,47.994919],[-70.172546,48.128806],[-69.956127,48.056784],[-69.871054,48.186107],[-69.548369,48.049451],[-69.656537,47.99422],[-69.893749,47.701311],[-70.198248,47.411201],[-70.454932,47.253498],[-70.716252,46.993868],[-71.000352,46.84744],[-71.115357,46.839533],[-71.128385,46.8377],[-71.283693,46.746726],[-71.690822,46.649837],[-71.870955,46.677671],[-72.054301,46.570497],[-72.066825,46.569761],[-72.082727,46.57015],[-72.392221,46.791376],[-72.167602,46.874224],[-72.435868,47.057484],[-72.540745,47.190662],[-72.50337,47.311941],[-72.239878,47.290108],[-72.145723,47.399614],[-72.238828,47.536571],[-71.890536,47.770179],[-72.07341,47.949997]]]},\"properties\":{\"cartodb_id\":9,\"res_co_reg\":3,\"regio_s_id\":11,\"regio_s_\":10,\"res_co_ver\":\"V2012-05\",\"res_co_ref\":\"BDGA1M\",\"res_nm_reg\":\"Capitale-Nationale\",\"res_de_ind\":\"R\\u00e9gion administrative\",\"res_no_ind\":\"50 02 0100 000\",\"perimeter\":8.81817210239763,\"area\":2.49937337388851},\"id\":11},{\"type\":\"Feature\",\"geometry\":{\"type\":\"Polygon\",\"coordinates\":[[[-75.521328,47.763314],[-74.889411,47.762619],[-74.5078,47.502208],[-74.507743,47.502935],[-74.619692,47.251113],[-74.415157,47.100723],[-74.57475,46.997571],[-74.427279,46.896617],[-74.508932,46.646535],[-74.508288,46.642451],[-74.503725,46.640022],[-74.499065,46.639045],[-74.491004,46.593768],[-74.488473,46.596463],[-74.445787,46.620477],[-74.423104,46.605517],[-74.38517,46.578771],[-74.376332,46.527668],[-74.477748,46.454113],[-74.412684,46.298891],[-74.182687,46.250042],[-74.03304,46.148714],[-73.935392,45.944243],[-73.937068,45.925236],[-73.759062,45.727893],[-73.761411,45.714365],[-73.744881,45.668642],[-73.895779,45.525458],[-73.977851,45.46442],[-73.990063,45.459525],[-73.996551,45.457488],[-74.339075,45.513261],[-74.380758,45.565982],[-74.629351,45.63829],[-74.807877,45.638399],[-74.714402,45.8879],[-74.939369,46.105915],[-75.408148,46.097566],[-75.408277,45.97322],[-75.748112,45.972435],[-75.788765,46.274808],[-75.745234,46.438231],[-75.747563,46.842662],[-75.896777,46.817864],[-76.130591,46.924539],[-76.091496,47.188543],[-75.796918,47.319068],[-75.558812,47.207758],[-75.308858,47.547632],[-75.521328,47.763314]]]},\"properties\":{\"cartodb_id\":11,\"res_co_reg\":15,\"regio_s_id\":13,\"regio_s_\":12,\"res_co_ver\":\"V2012-05\",\"res_co_ref\":\"BDGA1M\",\"res_nm_reg\":\"Laurentides\",\"res_de_ind\":\"R\\u00e9gion administrative\",\"res_no_ind\":\"50 02 0100 000\",\"perimeter\":12.0473497358836,\"area\":2.64627784216984},\"id\":13},{\"type\":\"Feature\",\"geometry\":{\"type\":\"Polygon\",\"coordinates\":[[[-70.198248,47.411201],[-70.003487,47.278656],[-69.985984,47.285714],[-69.625519,47.06655],[-69.997359,46.695246],[-70.057197,46.416557],[-70.208698,46.329344],[-70.315785,46.020046],[-70.242194,45.938925],[-70.413606,45.795991],[-70.895614,45.780022],[-70.899805,45.886751],[-71.461258,45.816568],[-71.68617,45.966808],[-71.509741,46.137326],[-71.478962,46.395879],[-71.617519,46.451759],[-71.759723,46.363955],[-72.054301,46.570497],[-71.870955,46.677671],[-71.690822,46.649837],[-71.283693,46.746726],[-71.128385,46.8377],[-71.115357,46.839533],[-71.000352,46.84744],[-70.716252,46.993868],[-70.454932,47.253498],[-70.198248,47.411201]]]},\"properties\":{\"cartodb_id\":13,\"res_co_reg\":12,\"regio_s_id\":15,\"regio_s_\":14,\"res_co_ver\":\"V2012-05\",\"res_co_ref\":\"BDGA1M\",\"res_nm_reg\":\"Chaudi\\u00e8re-Appalaches\",\"res_de_ind\":\"R\\u00e9gion administrative\",\"res_no_ind\":\"50 02 0100 000\",\"perimeter\":8.20535335218676,\"area\":1.89098805979165},\"id\":15},{\"type\":\"Feature\",\"geometry\":{\"type\":\"Polygon\",\"coordinates\":[[[-74.889411,47.762619],[-74.511525,47.762906],[-73.972952,47.370797],[-73.975508,47.364768],[-74.028553,47.177965],[-73.853208,47.151075],[-73.65012,46.938033],[-73.66083,46.894617],[-73.573687,46.869887],[-73.570849,46.871483],[-73.543432,46.866338],[-73.536358,46.865513],[-73.333101,46.498727],[-73.167306,46.382865],[-73.216489,46.279333],[-72.936232,46.151217],[-72.992102,46.111805],[-73.158932,46.043609],[-73.290566,45.831375],[-73.474364,45.700024],[-73.523106,45.69786],[-73.744881,45.668642],[-73.761411,45.714365],[-73.759062,45.727893],[-73.937068,45.925236],[-73.935392,45.944243],[-74.03304,46.148714],[-74.182687,46.250042],[-74.412684,46.298891],[-74.477748,46.454113],[-74.376332,46.527668],[-74.38517,46.578771],[-74.423104,46.605517],[-74.445787,46.620477],[-74.488473,46.596463],[-74.491004,46.593768],[-74.499065,46.639045],[-74.503725,46.640022],[-74.508288,46.642451],[-74.508932,46.646535],[-74.427279,46.896617],[-74.57475,46.997571],[-74.415157,47.100723],[-74.619692,47.251113],[-74.507743,47.502935],[-74.5078,47.502208],[-74.889411,47.762619]]]},\"properties\":{\"cartodb_id\":12,\"res_co_reg\":14,\"regio_s_id\":14,\"regio_s_\":13,\"res_co_ver\":\"V2012-05\",\"res_co_ref\":\"BDGA1M\",\"res_nm_reg\":\"Lanaudi\\u00e8re\",\"res_de_ind\":\"R\\u00e9gion administrative\",\"res_no_ind\":\"50 02 0100 000\",\"perimeter\":9.01209725042588,\"area\":1.58700910317102},\"id\":14},{\"type\":\"Feature\",\"geometry\":{\"type\":\"Polygon\",\"coordinates\":[[[-72.992102,46.111805],[-72.752495,45.942799],[-72.852977,45.86388],[-72.577873,45.752622],[-72.315602,45.599234],[-72.350469,45.589009],[-72.359986,45.589036],[-72.454557,45.451383],[-72.403368,45.155766],[-72.485017,45.008814],[-73.068118,45.015872],[-74.148943,44.991358],[-74.495201,45.064735],[-74.318803,45.187976],[-74.472294,45.302813],[-74.380758,45.565982],[-74.339075,45.513261],[-73.996551,45.457488],[-73.822172,45.385406],[-73.559613,45.419082],[-73.474364,45.700024],[-73.290566,45.831375],[-73.158932,46.043609],[-72.992102,46.111805]]]},\"properties\":{\"cartodb_id\":15,\"res_co_reg\":16,\"regio_s_id\":17,\"regio_s_\":16,\"res_co_ver\":\"V2012-05\",\"res_co_ref\":\"BDGA1M\",\"res_nm_reg\":\"Mont\\u00e9r\\u00e9gie\",\"res_de_ind\":\"R\\u00e9gion administrative\",\"res_no_ind\":\"50 02 0100 000\",\"perimeter\":7.09129879389589,\"area\":1.36183178555221},\"id\":17},{\"type\":\"Feature\",\"geometry\":{\"type\":\"Polygon\",\"coordinates\":[[[-71.461258,45.816568],[-70.899805,45.886751],[-70.895614,45.780022],[-70.413606,45.795991],[-70.645443,45.606152],[-70.825525,45.400367],[-71.228181,45.249407],[-71.384778,45.233288],[-71.500556,45.013252],[-72.485017,45.008814],[-72.403368,45.155766],[-72.454557,45.451383],[-72.359986,45.589036],[-72.350469,45.589009],[-72.315602,45.599234],[-72.029639,45.85343],[-71.798933,45.858038],[-71.780876,45.875051],[-71.461258,45.816568]]]},\"properties\":{\"cartodb_id\":16,\"res_co_reg\":5,\"regio_s_id\":18,\"regio_s_\":17,\"res_co_ver\":\"V2012-05\",\"res_co_ref\":\"BDGA1M\",\"res_nm_reg\":\"Estrie\",\"res_de_ind\":\"R\\u00e9gion administrative\",\"res_no_ind\":\"50 02 0100 000\",\"perimeter\":7.28698953467045,\"area\":1.20899519667971},\"id\":18},{\"type\":\"Feature\",\"geometry\":{\"type\":\"Polygon\",\"coordinates\":[[[-70.029906,52.832544],[-70.216784,52.711207],[-70.237324,52.56694],[-70.237541,52.559448],[-70.227242,52.554116],[-70.219026,52.554111],[-70.273153,52.431986],[-70.277413,52.426716],[-70.279659,52.353398],[-70.961298,52.235813],[-70.967297,52.231721],[-71.246359,52.070431],[-71.376365,51.845963],[-71.551188,51.827533],[-71.612674,51.621228],[-71.616985,51.615556],[-71.57877,51.581075],[-71.580903,51.57797],[-71.572969,51.536908],[-71.570951,51.530783],[-71.57795,51.516338],[-71.583528,51.510729],[-71.837837,51.355642],[-72.118311,51.105061],[-72.161703,50.978119],[-72.370661,50.88857],[-72.376146,50.886885],[-72.500216,50.747245],[-72.509938,50.747318],[-72.53324,50.746069],[-72.534238,50.747853],[-72.533808,50.75494],[-72.541758,50.757474],[-72.598438,50.839056],[-72.599596,50.837254],[-72.601113,50.831484],[-72.602482,50.814747],[-72.751628,50.818176],[-72.75607,50.819404],[-72.842828,50.810644],[-72.855975,50.81184],[-72.85882,50.810156],[-72.863413,50.804071],[-73.01826,50.670501],[-73.019848,50.668756],[-73.149666,50.747545],[-73.30154,50.614383],[-73.306574,50.611597],[-73.541397,50.36738],[-73.551879,50.364399],[-73.74554,50.232972],[-73.750269,50.230163],[-73.778651,50.081098],[-73.896492,49.952643],[-73.895668,49.945404],[-74.247109,49.564582],[-74.407789,49.427228],[-74.372024,49.314222],[-74.372596,49.311446],[-74.314645,49.266932],[-74.314451,49.260076],[-74.227998,49.218962],[-74.289071,49.00669],[-74.279062,49.000026],[-74.396992,48.926784],[-74.402448,48.923826],[-74.41643,48.925868],[-74.420869,48.925683],[-74.471679,48.945649],[-74.55934,48.999925],[-75.520551,49.000016],[-76.999737,48.999999],[-79.053418,49.000045],[-79.517764,49.009109],[-79.517778,49.750087],[-79.517782,50.749782],[-79.518348,51.582765],[-79.216599,51.64224],[-78.97984,51.461542],[-78.8012,51.47268],[-78.85079,51.616359],[-79.048087,51.764299],[-78.892221,51.9468],[-78.779781,51.969912],[-78.559298,52.160636],[-78.516069,52.332222],[-78.589509,52.517228],[-78.761621,52.540806],[-78.997057,53.094311],[-78.983656,53.399893],[-79.139357,53.493777],[-79.06147,53.613062],[-79.105933,53.903362],[-79.480179,54.233108],[-79.533899,54.519204],[-79.654207,54.689571],[-79.004662,54.83803],[-78.318669,55.041928],[-77.78361,55.268906],[-77.252517,55.577846],[-77.196747,55.669994],[-76.689674,56.049426],[-76.547842,56.302428],[-76.532224,56.798183],[-76.575855,57.128172],[-76.697944,57.435416],[-77.091539,57.939337],[-77.650514,58.263961],[-78.207122,58.404029],[-78.240246,58.495866],[-78.587222,58.648907],[-78.577592,58.917305],[-77.989747,59.262379],[-77.835235,59.588562],[-77.84815,59.726042],[-77.54479,59.756544],[-77.46729,59.918075],[-77.624387,60.054652],[-77.607278,60.292636],[-78.07599,60.791496],[-78.10992,60.917371],[-77.858235,61.053848],[-77.743741,61.259786],[-77.88746,61.623668],[-78.000007,61.692107],[-78.202012,62.254555],[-78.086497,62.362423],[-77.506116,62.582171],[-76.930718,62.537763],[-76.524456,62.443992],[-75.580695,62.286842],[-75.340345,62.317039],[-74.967923,62.265525],[-74.423074,62.242752],[-74.004542,62.365341],[-73.831326,62.459269],[-73.224515,62.322815],[-73.044368,62.202256],[-72.613396,62.112375],[-72.595276,61.976047],[-72.180093,61.85322],[-72.032175,61.731028],[-71.62851,61.653167],[-71.565604,61.544934],[-71.607302,61.262205],[-71.313338,61.153081],[-70.667132,61.055773],[-70.298932,61.101411],[-69.964086,60.945368],[-69.758506,60.917128],[-69.592277,61.081513],[-69.371593,60.916188],[-69.371451,60.79946],[-69.674783,60.673021],[-69.717298,60.40712],[-69.542288,60.094026],[-69.49501,59.611084],[-69.626464,59.471705],[-69.232263,59.346558],[-69.205631,59.223358],[-68.892257,58.924126],[-68.552048,58.941038],[-68.260454,58.823208],[-68.268268,58.616334],[-68.00256,58.590248],[-67.365056,58.31443],[-66.938354,58.515877],[-66.78029,58.501722],[-66.573738,58.665141],[-66.4834,58.857892],[-66.095088,58.861308],[-65.989371,58.918389],[-65.80651,59.209121],[-65.848893,59.283289],[-65.526989,59.469633],[-65.433076,59.588142],[-65.566606,59.690521],[-65.463741,59.815967],[-65.235871,59.925633],[-65.142601,60.063364],[-64.855821,60.268343],[-64.642658,59.906278],[-64.818186,59.821003],[-64.751401,59.725478],[-64.838986,59.554562],[-64.510789,59.421548],[-64.471064,59.179491],[-64.26522,59.01681],[-64.226498,58.783589],[-63.681534,58.880981],[-63.497759,58.745886],[-63.94783,58.689451],[-64.143259,58.601834],[-63.985802,58.442829],[-64.168456,58.364842],[-64.25609,58.224024],[-64.423654,58.193974],[-64.407753,58.062696],[-64.193215,57.932683],[-63.901728,57.913835],[-63.883302,57.716043],[-63.697963,57.36678],[-63.881318,57.268014],[-63.766982,57.143241],[-63.899353,57.079276],[-63.910478,56.925497],[-64.142895,56.704203],[-63.943953,56.540104],[-63.934837,56.265269],[-64.008251,56.076014],[-63.730528,56.068031],[-63.547381,56.005863],[-63.845131,55.886814],[-63.709229,55.754368],[-63.644633,55.286198],[-63.550617,55.19001],[-63.553921,55.000047],[-64.750002,54.999996],[-66.259781,55.000009],[-66.609089,55.269845],[-66.762782,55.136899],[-66.642917,55.000063],[-68.250018,54.999987],[-70.029883,55.000136],[-70.029708,54.000024],[-70.029906,52.832544]]]},\"properties\":{\"cartodb_id\":19,\"res_co_reg\":10,\"regio_s_id\":1,\"regio_s_\":20,\"res_co_ver\":\"V2012-05\",\"res_co_ref\":\"BDGA1M\",\"res_nm_reg\":\"Nord-du-Qu\\u00e9bec\",\"res_de_ind\":\"R\\u00e9gion administrative\",\"res_no_ind\":\"50 02 0100 000\",\"perimeter\":94.6754067058214,\"area\":124.08686903197},\"id\":1},{\"type\":\"Feature\",\"geometry\":{\"type\":\"Polygon\",\"coordinates\":[[[-73.523106,45.69786],[-73.474364,45.700024],[-73.559613,45.419082],[-73.822172,45.385406],[-73.996551,45.457488],[-73.990063,45.459525],[-73.977851,45.46442],[-73.895779,45.525458],[-73.732746,45.531604],[-73.726358,45.534538],[-73.523106,45.69786]]]},\"properties\":{\"cartodb_id\":17,\"res_co_reg\":6,\"regio_s_id\":19,\"regio_s_\":18,\"res_co_ver\":\"V2012-05\",\"res_co_ref\":\"BDGA1M\",\"res_nm_reg\":\"Montr\\u00e9al\",\"res_de_ind\":\"R\\u00e9gion administrative\",\"res_no_ind\":\"50 02 0100 000\",\"perimeter\":1.46897572891785,\"area\":0.0719384128928997},\"id\":19},{\"type\":\"Feature\",\"geometry\":{\"type\":\"MultiPolygon\",\"coordinates\":[[[[-60.468609,48.666663],[-61.999092,48.666676],[-62.999129,48.666683],[-63.600509,48.968992],[-64.163784,49.319935],[-64.595671,49.509706],[-65.095087,49.652753],[-65.645385,49.717895],[-66.000015,49.704048],[-66.48767,49.575425],[-67.153341,49.189062],[-67.592507,49.078342],[-68.173272,48.881427],[-68.723464,48.621039],[-69.234461,48.291093],[-69.548369,48.049451],[-70.077876,48.252828],[-70.007992,48.357004],[-70.010424,49.796526],[-70.025553,50.750063],[-70.02479,52.000079],[-70.029896,52.916605],[-70.029883,55.000136],[-69,55.000117],[-67.41416,54.994108],[-67.053178,54.695712],[-67.304721,54.514433],[-67.670849,54.446101],[-67.725908,54.334933],[-67.634491,54.159846],[-67.809196,54.017238],[-67.588854,53.917925],[-67.565856,53.794452],[-67.212496,53.539563],[-67.028292,53.533339],[-66.913542,53.420893],[-66.968385,53.203975],[-67.383275,53.08794],[-67.340285,52.893365],[-66.899719,52.686938],[-66.416261,52.846906],[-66.314061,52.732515],[-66.438777,52.623627],[-66.343028,52.398622],[-66.4844,52.348634],[-66.097613,52.200563],[-66.090954,52.108479],[-65.673164,52.120423],[-65.198951,52.260113],[-64.83546,52.034965],[-64.71066,51.873309],[-64.774169,51.804733],[-64.557126,51.580661],[-64.286166,51.727896],[-64.36103,51.864222],[-64.33689,52.009271],[-64.200549,52.176679],[-64.252993,52.274969],[-64.107507,52.407321],[-64.176955,52.585072],[-64.148678,52.728806],[-63.722772,52.773221],[-63.567018,52.944469],[-63.446819,52.944523],[-62.963909,52.758547],[-62.611145,52.79977],[-62.336163,52.736907],[-62.15596,52.780601],[-61.70826,52.573288],[-61.2725,52.513978],[-60.947423,52.36681],[-60.564327,52.318835],[-60.517378,52.454503],[-59.96797,52.496555],[-59.83671,52.662084],[-59.512005,52.612942],[-59.316081,52.626663],[-59.138521,52.516299],[-58.730084,52.481882],[-58.56987,52.652822],[-58.326417,52.690593],[-58.077696,52.544371],[-57.979881,52.431115],[-57.739883,52.370728],[-57.296976,52.09591],[-56.981755,52.030747],[-57.107498,51.805965],[-57.107482,51.202493],[-57.736141,50.998608],[-58.940366,49.84861],[-60,49.112579],[-60.476819,48.781392],[-60.468609,48.666663]]],[[[-66.72991,54.973408],[-66.597631,54.812183],[-66.670161,54.712626],[-66.946476,54.817491],[-67.218818,55.000107],[-66.72991,54.973408]]],[[[-63.563353,54.98803],[-63.786125,54.949003],[-63.909794,54.784361],[-63.763296,54.698498],[-64.052221,54.597304],[-64.324983,54.77317],[-64.600434,54.731281],[-64.964562,54.932565],[-65.427553,54.747206],[-65.679536,54.705263],[-65.919348,54.937431],[-65.374133,55.000096],[-63.563353,54.98803]]],[[[-66.84942,55.306585],[-66.765893,55.248563],[-66.782005,55.041497],[-67.048984,55.230236],[-66.84942,55.306585]]]]},\"properties\":{\"cartodb_id\":1,\"res_co_reg\":9,\"regio_s_id\":2,\"regio_s_\":2,\"res_co_ver\":\"V2012-05\",\"res_co_ref\":\"BDGA1M\",\"res_nm_reg\":\"C\\u00f4te-Nord\",\"res_de_ind\":\"R\\u00e9gion administrative\",\"res_no_ind\":\"50 02 0100 000\",\"perimeter\":0.151935634889039,\"area\":0.000753085700268219},\"id\":2},{\"type\":\"Feature\",\"geometry\":{\"type\":\"Polygon\",\"coordinates\":[[[-67.153341,49.189062],[-66.83247,48.985116],[-66.700265,48.987354],[-66.70181,48.984814],[-66.698745,48.967353],[-66.698123,48.964179],[-66.537875,48.95834],[-65.948463,48.567122],[-66.974198,48.303186],[-66.879578,48.136958],[-67.277586,48.031515],[-67.374601,48.194887],[-67.666615,48.118412],[-67.588931,48.04974],[-67.5867,48.042391],[-67.598344,48.000066],[-68.122856,48.000061],[-68.122785,47.916561],[-68.383141,47.916615],[-68.38295,47.553498],[-68.569408,47.427049],[-69.051087,47.300133],[-69.032042,47.408305],[-69.229788,47.454624],[-69.625519,47.06655],[-69.985984,47.285714],[-70.003487,47.278656],[-70.198248,47.411201],[-69.893749,47.701311],[-69.656537,47.99422],[-69.548369,48.049451],[-69.234461,48.291093],[-68.723464,48.621039],[-68.093746,48.909451],[-67.592507,49.078342],[-67.153341,49.189062]]]},\"properties\":{\"cartodb_id\":6,\"res_co_reg\":1,\"regio_s_id\":8,\"regio_s_\":7,\"res_co_ver\":\"V2012-05\",\"res_co_ref\":\"BDGA1M\",\"res_nm_reg\":\"Bas-Saint-Laurent\",\"res_de_ind\":\"R\\u00e9gion administrative\",\"res_no_ind\":\"50 02 0100 000\",\"perimeter\":11.2654083386742,\"area\":3.43782496715336},\"id\":8},{\"type\":\"Feature\",\"geometry\":{\"type\":\"Polygon\",\"coordinates\":[[[-73.744881,45.668642],[-73.523106,45.69786],[-73.726358,45.534538],[-73.732746,45.531604],[-73.895779,45.525458],[-73.744881,45.668642]]]},\"properties\":{\"cartodb_id\":18,\"res_co_reg\":13,\"regio_s_id\":20,\"regio_s_\":19,\"res_co_ver\":\"V2012-05\",\"res_co_ref\":\"BDGA1M\",\"res_nm_reg\":\"Laval\",\"res_de_ind\":\"R\\u00e9gion administrative\",\"res_no_ind\":\"50 02 0100 000\",\"perimeter\":0.931105008023468,\"area\":0.0307859846863181},\"id\":20},{\"type\":\"Feature\",\"geometry\":{\"type\":\"Polygon\",\"coordinates\":[[[-72.082727,46.57015],[-72.066825,46.569761],[-72.054301,46.570497],[-71.759723,46.363955],[-71.617519,46.451759],[-71.478962,46.395879],[-71.509741,46.137326],[-71.68617,45.966808],[-71.461258,45.816568],[-71.780876,45.875051],[-71.798933,45.858038],[-72.029639,45.85343],[-72.315602,45.599234],[-72.577873,45.752622],[-72.852977,45.86388],[-72.752495,45.942799],[-72.992102,46.111805],[-72.936232,46.151217],[-72.267698,46.433635],[-72.21268,46.520967],[-72.198901,46.532325],[-72.082727,46.57015]]]},\"properties\":{\"cartodb_id\":14,\"res_co_reg\":17,\"regio_s_id\":16,\"regio_s_\":15,\"res_co_ver\":\"V2012-05\",\"res_co_ref\":\"BDGA1M\",\"res_nm_reg\":\"Centre-du-Qu\\u00e9bec\",\"res_de_ind\":\"R\\u00e9gion administrative\",\"res_no_ind\":\"50 02 0100 000\",\"perimeter\":5.40454763380291,\"area\":0.844851321836394},\"id\":16}]},\"hovertemplate\":\"Geographical location=%{location}\\u003cbr\\u003ePET participants=%{customdata[0]}\\u003cbr\\u003eMRI participants=%{customdata[1]}\\u003cbr\\u003eWeighted Average Age=%{z}\\u003cextra\\u003e\\u003c\\u002fextra\\u003e\",\"locations\":[\"Capitale-Nationale\",\"Estrie\",\"Island of Montreal, Quebec City, Laurentians, Lanaudiere, Estrie, Outaouais\",\"Mauricie\",\"Montreal, Bas-Saint-Laurent, Abitibi, Gasp\\u00e9sie, Mauricie\",\"Montreal, Quebec City, Laurentians, Lanaudiere, Estrie, Outaouais\",\"Montreal, Sherbrooke\",\"Montreal, Sherbrooke, Quebec City\",\"Montr\\u00e9al\",\"Mont\\u00e9r\\u00e9gie\",\"Saguenay - Lac-Saint-Jean\",\"Saguenay Lac Saint Jean region, Chicoutimi\",\"Trois-Rivi\\u00e8res, Drummondville\",\"Outaouais\",\"Gasp\\u00e9sie-\\u00celes-de-la-Madeleine\",\"Abitibi-T\\u00e9miscamingue\",\"Laurentides\",\"Chaudi\\u00e8re-Appalaches\",\"Lanaudi\\u00e8re\",\"Nord-du-Qu\\u00e9bec\",\"C\\u00f4te-Nord\",\"Bas-Saint-Laurent\",\"Laval\",\"Centre-du-Qu\\u00e9bec\"],\"marker\":{\"opacity\":0.5},\"name\":\"\",\"subplot\":\"mapbox\",\"z\":[47.88815130830489,35.073645569620254,0.0,23.4,7.0,3.625,67.16428571428571,72.01135135135134,30.984710753963025,65.5,15.7,15.02,81.6,0.0,0.0,0.0,0.0,0.0,0.0,0.0,0.0,0.0,0.0,0.0],\"type\":\"choroplethmapbox\"}],                        {\"template\":{\"data\":{\"histogram2dcontour\":[{\"type\":\"histogram2dcontour\",\"colorbar\":{\"outlinewidth\":0,\"ticks\":\"\"},\"colorscale\":[[0.0,\"#0d0887\"],[0.1111111111111111,\"#46039f\"],[0.2222222222222222,\"#7201a8\"],[0.3333333333333333,\"#9c179e\"],[0.4444444444444444,\"#bd3786\"],[0.5555555555555556,\"#d8576b\"],[0.6666666666666666,\"#ed7953\"],[0.7777777777777778,\"#fb9f3a\"],[0.8888888888888888,\"#fdca26\"],[1.0,\"#f0f921\"]]}],\"choropleth\":[{\"type\":\"choropleth\",\"colorbar\":{\"outlinewidth\":0,\"ticks\":\"\"}}],\"histogram2d\":[{\"type\":\"histogram2d\",\"colorbar\":{\"outlinewidth\":0,\"ticks\":\"\"},\"colorscale\":[[0.0,\"#0d0887\"],[0.1111111111111111,\"#46039f\"],[0.2222222222222222,\"#7201a8\"],[0.3333333333333333,\"#9c179e\"],[0.4444444444444444,\"#bd3786\"],[0.5555555555555556,\"#d8576b\"],[0.6666666666666666,\"#ed7953\"],[0.7777777777777778,\"#fb9f3a\"],[0.8888888888888888,\"#fdca26\"],[1.0,\"#f0f921\"]]}],\"heatmap\":[{\"type\":\"heatmap\",\"colorbar\":{\"outlinewidth\":0,\"ticks\":\"\"},\"colorscale\":[[0.0,\"#0d0887\"],[0.1111111111111111,\"#46039f\"],[0.2222222222222222,\"#7201a8\"],[0.3333333333333333,\"#9c179e\"],[0.4444444444444444,\"#bd3786\"],[0.5555555555555556,\"#d8576b\"],[0.6666666666666666,\"#ed7953\"],[0.7777777777777778,\"#fb9f3a\"],[0.8888888888888888,\"#fdca26\"],[1.0,\"#f0f921\"]]}],\"heatmapgl\":[{\"type\":\"heatmapgl\",\"colorbar\":{\"outlinewidth\":0,\"ticks\":\"\"},\"colorscale\":[[0.0,\"#0d0887\"],[0.1111111111111111,\"#46039f\"],[0.2222222222222222,\"#7201a8\"],[0.3333333333333333,\"#9c179e\"],[0.4444444444444444,\"#bd3786\"],[0.5555555555555556,\"#d8576b\"],[0.6666666666666666,\"#ed7953\"],[0.7777777777777778,\"#fb9f3a\"],[0.8888888888888888,\"#fdca26\"],[1.0,\"#f0f921\"]]}],\"contourcarpet\":[{\"type\":\"contourcarpet\",\"colorbar\":{\"outlinewidth\":0,\"ticks\":\"\"}}],\"contour\":[{\"type\":\"contour\",\"colorbar\":{\"outlinewidth\":0,\"ticks\":\"\"},\"colorscale\":[[0.0,\"#0d0887\"],[0.1111111111111111,\"#46039f\"],[0.2222222222222222,\"#7201a8\"],[0.3333333333333333,\"#9c179e\"],[0.4444444444444444,\"#bd3786\"],[0.5555555555555556,\"#d8576b\"],[0.6666666666666666,\"#ed7953\"],[0.7777777777777778,\"#fb9f3a\"],[0.8888888888888888,\"#fdca26\"],[1.0,\"#f0f921\"]]}],\"surface\":[{\"type\":\"surface\",\"colorbar\":{\"outlinewidth\":0,\"ticks\":\"\"},\"colorscale\":[[0.0,\"#0d0887\"],[0.1111111111111111,\"#46039f\"],[0.2222222222222222,\"#7201a8\"],[0.3333333333333333,\"#9c179e\"],[0.4444444444444444,\"#bd3786\"],[0.5555555555555556,\"#d8576b\"],[0.6666666666666666,\"#ed7953\"],[0.7777777777777778,\"#fb9f3a\"],[0.8888888888888888,\"#fdca26\"],[1.0,\"#f0f921\"]]}],\"mesh3d\":[{\"type\":\"mesh3d\",\"colorbar\":{\"outlinewidth\":0,\"ticks\":\"\"}}],\"scatter\":[{\"fillpattern\":{\"fillmode\":\"overlay\",\"size\":10,\"solidity\":0.2},\"type\":\"scatter\"}],\"parcoords\":[{\"type\":\"parcoords\",\"line\":{\"colorbar\":{\"outlinewidth\":0,\"ticks\":\"\"}}}],\"scatterpolargl\":[{\"type\":\"scatterpolargl\",\"marker\":{\"colorbar\":{\"outlinewidth\":0,\"ticks\":\"\"}}}],\"bar\":[{\"error_x\":{\"color\":\"#2a3f5f\"},\"error_y\":{\"color\":\"#2a3f5f\"},\"marker\":{\"line\":{\"color\":\"#E5ECF6\",\"width\":0.5},\"pattern\":{\"fillmode\":\"overlay\",\"size\":10,\"solidity\":0.2}},\"type\":\"bar\"}],\"scattergeo\":[{\"type\":\"scattergeo\",\"marker\":{\"colorbar\":{\"outlinewidth\":0,\"ticks\":\"\"}}}],\"scatterpolar\":[{\"type\":\"scatterpolar\",\"marker\":{\"colorbar\":{\"outlinewidth\":0,\"ticks\":\"\"}}}],\"histogram\":[{\"marker\":{\"pattern\":{\"fillmode\":\"overlay\",\"size\":10,\"solidity\":0.2}},\"type\":\"histogram\"}],\"scattergl\":[{\"type\":\"scattergl\",\"marker\":{\"colorbar\":{\"outlinewidth\":0,\"ticks\":\"\"}}}],\"scatter3d\":[{\"type\":\"scatter3d\",\"line\":{\"colorbar\":{\"outlinewidth\":0,\"ticks\":\"\"}},\"marker\":{\"colorbar\":{\"outlinewidth\":0,\"ticks\":\"\"}}}],\"scattermapbox\":[{\"type\":\"scattermapbox\",\"marker\":{\"colorbar\":{\"outlinewidth\":0,\"ticks\":\"\"}}}],\"scatterternary\":[{\"type\":\"scatterternary\",\"marker\":{\"colorbar\":{\"outlinewidth\":0,\"ticks\":\"\"}}}],\"scattercarpet\":[{\"type\":\"scattercarpet\",\"marker\":{\"colorbar\":{\"outlinewidth\":0,\"ticks\":\"\"}}}],\"carpet\":[{\"aaxis\":{\"endlinecolor\":\"#2a3f5f\",\"gridcolor\":\"white\",\"linecolor\":\"white\",\"minorgridcolor\":\"white\",\"startlinecolor\":\"#2a3f5f\"},\"baxis\":{\"endlinecolor\":\"#2a3f5f\",\"gridcolor\":\"white\",\"linecolor\":\"white\",\"minorgridcolor\":\"white\",\"startlinecolor\":\"#2a3f5f\"},\"type\":\"carpet\"}],\"table\":[{\"cells\":{\"fill\":{\"color\":\"#EBF0F8\"},\"line\":{\"color\":\"white\"}},\"header\":{\"fill\":{\"color\":\"#C8D4E3\"},\"line\":{\"color\":\"white\"}},\"type\":\"table\"}],\"barpolar\":[{\"marker\":{\"line\":{\"color\":\"#E5ECF6\",\"width\":0.5},\"pattern\":{\"fillmode\":\"overlay\",\"size\":10,\"solidity\":0.2}},\"type\":\"barpolar\"}],\"pie\":[{\"automargin\":true,\"type\":\"pie\"}]},\"layout\":{\"autotypenumbers\":\"strict\",\"colorway\":[\"#636efa\",\"#EF553B\",\"#00cc96\",\"#ab63fa\",\"#FFA15A\",\"#19d3f3\",\"#FF6692\",\"#B6E880\",\"#FF97FF\",\"#FECB52\"],\"font\":{\"color\":\"#2a3f5f\"},\"hovermode\":\"closest\",\"hoverlabel\":{\"align\":\"left\"},\"paper_bgcolor\":\"white\",\"plot_bgcolor\":\"#E5ECF6\",\"polar\":{\"bgcolor\":\"#E5ECF6\",\"angularaxis\":{\"gridcolor\":\"white\",\"linecolor\":\"white\",\"ticks\":\"\"},\"radialaxis\":{\"gridcolor\":\"white\",\"linecolor\":\"white\",\"ticks\":\"\"}},\"ternary\":{\"bgcolor\":\"#E5ECF6\",\"aaxis\":{\"gridcolor\":\"white\",\"linecolor\":\"white\",\"ticks\":\"\"},\"baxis\":{\"gridcolor\":\"white\",\"linecolor\":\"white\",\"ticks\":\"\"},\"caxis\":{\"gridcolor\":\"white\",\"linecolor\":\"white\",\"ticks\":\"\"}},\"coloraxis\":{\"colorbar\":{\"outlinewidth\":0,\"ticks\":\"\"}},\"colorscale\":{\"sequential\":[[0.0,\"#0d0887\"],[0.1111111111111111,\"#46039f\"],[0.2222222222222222,\"#7201a8\"],[0.3333333333333333,\"#9c179e\"],[0.4444444444444444,\"#bd3786\"],[0.5555555555555556,\"#d8576b\"],[0.6666666666666666,\"#ed7953\"],[0.7777777777777778,\"#fb9f3a\"],[0.8888888888888888,\"#fdca26\"],[1.0,\"#f0f921\"]],\"sequentialminus\":[[0.0,\"#0d0887\"],[0.1111111111111111,\"#46039f\"],[0.2222222222222222,\"#7201a8\"],[0.3333333333333333,\"#9c179e\"],[0.4444444444444444,\"#bd3786\"],[0.5555555555555556,\"#d8576b\"],[0.6666666666666666,\"#ed7953\"],[0.7777777777777778,\"#fb9f3a\"],[0.8888888888888888,\"#fdca26\"],[1.0,\"#f0f921\"]],\"diverging\":[[0,\"#8e0152\"],[0.1,\"#c51b7d\"],[0.2,\"#de77ae\"],[0.3,\"#f1b6da\"],[0.4,\"#fde0ef\"],[0.5,\"#f7f7f7\"],[0.6,\"#e6f5d0\"],[0.7,\"#b8e186\"],[0.8,\"#7fbc41\"],[0.9,\"#4d9221\"],[1,\"#276419\"]]},\"xaxis\":{\"gridcolor\":\"white\",\"linecolor\":\"white\",\"ticks\":\"\",\"title\":{\"standoff\":15},\"zerolinecolor\":\"white\",\"automargin\":true,\"zerolinewidth\":2},\"yaxis\":{\"gridcolor\":\"white\",\"linecolor\":\"white\",\"ticks\":\"\",\"title\":{\"standoff\":15},\"zerolinecolor\":\"white\",\"automargin\":true,\"zerolinewidth\":2},\"scene\":{\"xaxis\":{\"backgroundcolor\":\"#E5ECF6\",\"gridcolor\":\"white\",\"linecolor\":\"white\",\"showbackground\":true,\"ticks\":\"\",\"zerolinecolor\":\"white\",\"gridwidth\":2},\"yaxis\":{\"backgroundcolor\":\"#E5ECF6\",\"gridcolor\":\"white\",\"linecolor\":\"white\",\"showbackground\":true,\"ticks\":\"\",\"zerolinecolor\":\"white\",\"gridwidth\":2},\"zaxis\":{\"backgroundcolor\":\"#E5ECF6\",\"gridcolor\":\"white\",\"linecolor\":\"white\",\"showbackground\":true,\"ticks\":\"\",\"zerolinecolor\":\"white\",\"gridwidth\":2}},\"shapedefaults\":{\"line\":{\"color\":\"#2a3f5f\"}},\"annotationdefaults\":{\"arrowcolor\":\"#2a3f5f\",\"arrowhead\":0,\"arrowwidth\":1},\"geo\":{\"bgcolor\":\"white\",\"landcolor\":\"#E5ECF6\",\"subunitcolor\":\"white\",\"showland\":true,\"showlakes\":true,\"lakecolor\":\"white\"},\"title\":{\"x\":0.05},\"mapbox\":{\"style\":\"light\"}}},\"mapbox\":{\"domain\":{\"x\":[0.0,1.0],\"y\":[0.0,1.0]},\"center\":{\"lat\":50,\"lon\":-65},\"zoom\":3,\"style\":\"carto-positron\"},\"coloraxis\":{\"colorbar\":{\"title\":{\"text\":\"Weighted Average Age\"}},\"colorscale\":[[0.0,\"#440154\"],[0.1111111111111111,\"#482878\"],[0.2222222222222222,\"#3e4989\"],[0.3333333333333333,\"#31688e\"],[0.4444444444444444,\"#26828e\"],[0.5555555555555556,\"#1f9e89\"],[0.6666666666666666,\"#35b779\"],[0.7777777777777778,\"#6ece58\"],[0.8888888888888888,\"#b5de2b\"],[1.0,\"#fde725\"]]},\"legend\":{\"tracegroupgap\":0},\"margin\":{\"t\":0,\"r\":0,\"l\":0,\"b\":0},\"geo\":{\"fitbounds\":\"locations\",\"visible\":true}},                        {\"responsive\": true}                    ).then(function(){\n                            \nvar gd = document.getElementById('017f79af-7c82-4f22-9e14-8c101ef7fea2');\nvar x = new MutationObserver(function (mutations, observer) {{\n        var display = window.getComputedStyle(gd).display;\n        if (!display || display === 'none') {{\n            console.log([gd, 'removed!']);\n            Plotly.purge(gd);\n            observer.disconnect();\n        }}\n}});\n\n// Listen for the removal of the full notebook cells\nvar notebookContainer = gd.closest('#notebook-container');\nif (notebookContainer) {{\n    x.observe(notebookContainer, {childList: true});\n}}\n\n// Listen for the clearing of the current output cell\nvar outputEl = gd.closest('.output');\nif (outputEl) {{\n    x.observe(outputEl, {childList: true});\n}}\n\n                        })                };                });            </script>        </div>"
     },
     "metadata": {},
     "output_type": "display_data"
    }
   ],
   "source": [
    "# Display study data on maps using a choropleth graph with a map in the background\n",
    "fig = px.choropleth_mapbox(sum_by_locations, geojson=geojson, color=\"Weighted Average Age\",\n",
    "                           locations=\"Geographical location\", featureidkey=\"properties.res_nm_reg\", \n",
    "                           mapbox_style=\"carto-positron\", color_continuous_scale=\"Viridis\",\n",
    "                           zoom=3, center = {\"lat\": 50, \"lon\": -65}, opacity=0.5, \n",
    "                           hover_data=[\"PET participants\", \"MRI participants\", \"Weighted Average Age\"]\n",
    "                           )\n",
    "fig.update_geos(fitbounds=\"locations\", visible=True)\n",
    "fig.update_layout(margin={\"r\":0,\"t\":0,\"l\":0,\"b\":0})\n",
    "fig.show()"
   ]
  },
  {
   "cell_type": "code",
   "execution_count": 145,
   "id": "6f60fc00-0d34-4621-8488-76bdac86d8b1",
   "metadata": {
    "ExecuteTime": {
     "end_time": "2024-11-12T14:16:42.888296Z",
     "start_time": "2024-11-12T14:16:42.707914Z"
    }
   },
   "outputs": [
    {
     "data": {
      "text/plain": "<Figure size 672.111x500 with 1 Axes>",
      "image/png": "[encoded data removed]"
     },
     "metadata": {},
     "output_type": "display_data"
    }
   ],
   "source": [
    "# Show the joint distribution using kernel density estimation\n",
    "g = sns.relplot(\n",
    "    data=df_data,\n",
    "    x=\"Average Age (Years)\", y=\"Ratio Female/Male\",\n",
    "    hue=\"Number of participants\",\n",
    ")"
   ]
  },
  {
   "cell_type": "code",
   "execution_count": 158,
   "outputs": [
    {
     "data": {
      "text/plain": "(2.0, 24.15)"
     },
     "execution_count": 158,
     "metadata": {},
     "output_type": "execute_result"
    },
    {
     "data": {
      "text/plain": "<Figure size 1000x400 with 2 Axes>",
      "image/png": "[encoded data removed]"
     },
     "metadata": {},
     "output_type": "display_data"
    }
   ],
   "source": [
    "# Show the distribution of the Female/Male ratio depending on the region\n",
    "# Graphs were separated to display main distribution and outliers.\n",
    "\n",
    "f, (ax1, ax2) = plt.subplots(ncols=2, sharey=True, gridspec_kw={'width_ratios':[3, 1]}, figsize=(10, 4))\n",
    "\n",
    "sns.boxplot(\n",
    "    df_data, x=\"Ratio Female/Male\", y=\"Geographical location\", hue=\"Geographical location\", width=.6, palette=\"vlag\", ax=ax1\n",
    ")\n",
    "sns.boxplot(\n",
    "    df_data, x=\"Ratio Female/Male\", y=\"Geographical location\", hue=\"Geographical location\", width=.6, palette=\"vlag\", ax=ax2\n",
    ")\n",
    "ax1.grid('on')\n",
    "ax1.spines['right'].set_visible(False)\n",
    "ax2.spines['left'].set_visible(False)\n",
    "ax2.yaxis.set_visible(False)\n",
    "ax1.set_xlim(left=0, right=2)\n",
    "ax2.set_xlim(left=2)"
   ],
   "metadata": {
    "collapsed": false,
    "ExecuteTime": {
     "end_time": "2024-11-12T14:31:18.904064Z",
     "start_time": "2024-11-12T14:31:18.688455Z"
    }
   },
   "id": "4fc2103c6b1264da"
  },
  {
   "cell_type": "code",
   "execution_count": null,
   "outputs": [],
   "source": [],
   "metadata": {
    "collapsed": false
   },
   "id": "4195609c37ec5aaf"
  }
 ],
 "metadata": {
  "kernelspec": {
   "display_name": "Python 3 (ipykernel)",
   "language": "python",
   "name": "python3"
  },
  "language_info": {
   "codemirror_mode": {
    "name": "ipython",
    "version": 3
   },
   "file_extension": ".py",
   "mimetype": "text/x-python",
   "name": "python",
   "nbconvert_exporter": "python",
   "pygments_lexer": "ipython3",
   "version": "3.11.6"
  }
 },
 "nbformat": 4,
 "nbformat_minor": 5
}

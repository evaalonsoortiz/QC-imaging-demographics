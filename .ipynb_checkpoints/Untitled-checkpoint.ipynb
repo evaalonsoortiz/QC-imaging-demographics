{
 "cells": [
  {
   "cell_type": "code",
   "execution_count": 2,
   "id": "34a0e620-5b4f-487c-8c6f-b415a9a72ed1",
   "metadata": {},
   "outputs": [],
   "source": [
    "# Imports\n",
    "from datetime import datetime, timedelta\n",
    "import os\n",
    "import json\n",
    "import glob\n",
    "import matplotlib.pyplot as plt\n",
    "import numpy as np\n",
    "import nibabel as nib\n",
    "import pandas as pd\n",
    "from scipy.stats import iqr\n",
    "import shutil\n",
    "import zipfile\n",
    "from scipy.interpolate import interp1d\n",
    "from scipy.ndimage import uniform_filter1d\n",
    "from pathlib import Path\n",
    "\n",
    "%matplotlib inline\n"
   ]
  },
  {
   "cell_type": "code",
   "execution_count": 6,
   "id": "c03390ad-0987-4465-a484-1e2272c25966",
   "metadata": {},
   "outputs": [],
   "source": [
    "path_data = os.path.join(os.getcwd(), \"data/\")\n",
    "\n",
    "fname_data = os.path.join(path_data, f\"data.csv\")\n",
    "df_data = pd.read_csv(fname_data)\n",
    "\n",
    "location = df_data[\"Geographical location\"].values\n",
    "PET_participants = df_data[\"PET participants\"].values\n",
    "MRI_participants = df_data[\"MRI participants\"].values\n",
    "avg_age = df_data[\"Average Age (Years)\"].values\n",
    "male_participants = df_data[\"Male\"].values\n",
    "female_participants = df_data[\"Female\"].values"
   ]
  },
  {
   "cell_type": "code",
   "execution_count": null,
   "id": "0855f956-8666-47d4-bc96-663a4dbb1e12",
   "metadata": {},
   "outputs": [],
   "source": []
  }
 ],
 "metadata": {
  "kernelspec": {
   "display_name": "Python 3 (ipykernel)",
   "language": "python",
   "name": "python3"
  },
  "language_info": {
   "codemirror_mode": {
    "name": "ipython",
    "version": 3
   },
   "file_extension": ".py",
   "mimetype": "text/x-python",
   "name": "python",
   "nbconvert_exporter": "python",
   "pygments_lexer": "ipython3",
   "version": "3.11.6"
  }
 },
 "nbformat": 4,
 "nbformat_minor": 5
}
